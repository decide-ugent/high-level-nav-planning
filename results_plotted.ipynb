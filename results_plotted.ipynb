{
 "cells": [
  {
   "cell_type": "markdown",
   "metadata": {},
   "source": [
    "# DISPLAY RESULTS"
   ]
  },
  {
   "cell_type": "code",
   "execution_count": 2,
   "metadata": {},
   "outputs": [],
   "source": [
    "import os\n",
    "import pandas as pd\n",
    "import numpy as np\n",
    "import matplotlib.pyplot as plt \n",
    "import numpy as np \n",
    "  "
   ]
  },
  {
   "cell_type": "code",
   "execution_count": 53,
   "metadata": {},
   "outputs": [],
   "source": [
    "def retrieve_df_data_from_folder_path(folder_path,model_name, nav_type, load_model=False):\n",
    "    df_list = []\n",
    "    filepath_list = []\n",
    "    i=0\n",
    "    \n",
    "    for dirpath, dirnames, filenames in os.walk(folder_path):\n",
    "        #print(model_name+'.pkl' in dirpath.split('/')[-1], dirpath.split('/')[-1], model_name)\n",
    "        # print('I want : True, True, pkl in modelname ')\n",
    "        \n",
    "        if len(dirnames) != 0:  # Skip directories that contain subdirectories\n",
    "            continue\n",
    "        elif nav_type == 'goal' and 'cscg' in model_name and not model_name+'.pkl' in dirpath.split('/')[-1]:\n",
    "            continue\n",
    "        #We want a model as prior\n",
    "        elif nav_type == 'goal' and 'ours' in model_name and load_model and not model_name+'.pkl' in dirpath.split('/')[-1]:\n",
    "            continue\n",
    "        #Vanilla model\n",
    "        elif nav_type == 'goal' and 'ours' in model_name and not load_model and model_name+'.pkl' in dirpath.split('/')[-1]:\n",
    "            continue\n",
    "        i+=1\n",
    "        #print('dirpath', dirpath,i)\n",
    "        for file in filenames:\n",
    "            if file.endswith('.xlsx'):\n",
    "                file_path = os.path.join(dirpath, file)\n",
    "                try:\n",
    "                    df = pd.read_excel(file_path)\n",
    "                    # if df['error'][0] != False or df['error'][0] !=0:\n",
    "                    #     print('erase',file_path)\n",
    "                    #     os.system(f'rm -rf {file_path}')\n",
    "                    # df.fillna(value=0, inplace=True)  # Fill any blank cells with 'NA'\n",
    "                    df_list.append(df)\n",
    "                    filepath_list.append(dirpath)\n",
    "                except pd.errors.ParserError as e:\n",
    "                    print(f\"Skipping file {file_path} due to ParserError: {e}\")\n",
    "\n",
    "    return df_list, filepath_list"
   ]
  },
  {
   "cell_type": "code",
   "execution_count": 4,
   "metadata": {},
   "outputs": [],
   "source": [
    "#BAR PLOTS AVERAGE_STEPS\n",
    "def bar_plot(data, group, data_name, group_name, model_names):\n",
    "    width = 0.7/len(data)\n",
    "    bar_pose = -0.7/len(data) \n",
    "\n",
    "    colors = ['green','orange', 'grey', 'cyan', 'pink', 'blue']\n",
    "    x = np.arange(len(group)) \n",
    "    for id, model in enumerate(data):\n",
    "        # plot data in grouped manner of bar type \n",
    "        plt.bar(x+bar_pose, model, width, color=colors[id]) \n",
    "        bar_pose+= 0.7/len(data) \n",
    "    plt.xticks(x, group) \n",
    "    plt.xlabel(group_name) \n",
    "    plt.ylabel(data_name) \n",
    "    plt.legend(model_names) \n",
    "    plt.savefig('figures/'+ data_name +'_models_per_'+ group_name +'.jpg')\n",
    "    plt.show() "
   ]
  },
  {
   "cell_type": "markdown",
   "metadata": {},
   "source": [
    "## Average Steps"
   ]
  },
  {
   "cell_type": "markdown",
   "metadata": {},
   "source": [
    "### Agglomerate data"
   ]
  },
  {
   "cell_type": "code",
   "execution_count": 5,
   "metadata": {},
   "outputs": [
    {
     "name": "stdout",
     "output_type": "stream",
     "text": [
      "results/grid_3x3/ours_goal\n",
      "dirpath results/grid_3x3/ours_goal/ours_v3_goal_ob:4/ours_v3_goal_ob:4_2024-01-29-14-47-03 1\n",
      "dirpath results/grid_3x3/ours_goal/ours_v3_goal_ob:4/ours_v3_goal_ob:4_2024-01-29-13-26-39 2\n",
      "dirpath results/grid_3x3/ours_goal/ours_v3_goal_ob:4_2024-02-07-16-15-50 3\n",
      "dirpath results/grid_3x3/ours_goal/ours_v3_goal_ob:4_2024-02-07-16-06-02 4\n",
      "dirpath results/grid_3x3/ours_goal/ours_v3_goal_ob:3_2024-02-08-13-17-19 5\n",
      "dirpath results/grid_3x3/ours_goal/ours_v3_goal_ob:3_2024-02-07-16-32-23 6\n",
      "dirpath results/grid_3x3/ours_goal/ours_v3_goal_ob:11_2024-02-08-13-16-03 7\n",
      "dirpath results/grid_3x3/ours_goal/ours_v3_goal_ob:4_2024-02-07-15-52-05 8\n",
      "dirpath results/grid_3x3/ours_goal/ours_v3_goal_ob:4_2024-02-08-13-15-54 9\n",
      "dirpath results/grid_3x3/ours_goal/ours_v3_goal_ob:4_2024-02-07-15-48-48 10\n",
      "dirpath results/grid_3x3/ours_goal/ours_v3_goal_ob:4_2024-02-08-13-18-38 11\n",
      "dirpath results/grid_3x3/ours_goal/ours_v3_goal_ob:3_2024-02-08-13-15-58 12\n",
      "dirpath results/grid_3x3/ours_goal/ours_v3_goal_ob:5_2024-02-07-15-29-35 13\n",
      "dirpath results/grid_3x3/ours_goal/ours_v3_goal_ob:11_2024-02-08-13-18-49 14\n",
      "dirpath results/grid_3x3/ours_goal/ours_v3_2024-01-29-14-40-42_goal_ob:4_2024-01-29-15-27-45 15\n",
      "dirpath results/grid_3x3/ours_goal/ours_v3_goal_ob:11_2024-02-08-13-17-23 16\n",
      "dirpath results/grid_3x3/ours_goal/ours_v3_goal_ob:3_2024-02-07-16-33-48 17\n",
      "dirpath results/grid_3x3/ours_goal/ours_v3_goal_ob:4_2024-02-07-15-50-39 18\n",
      "dirpath results/grid_3x3/ours_goal/ours_v3_goal_ob:3_2024-02-08-13-18-45 19\n",
      "dirpath results/grid_3x3/ours_goal/ours_v3_goal_ob:3_2024-02-07-16-35-10 20\n",
      "dirpath results/grid_3x3/ours_goal/ours_v3_goal_ob:1_2024-02-07-11-11-40 21\n",
      "dirpath results/grid_3x3/ours_goal/ours_v3_goal_ob:4_2024-02-07-15-56-47 22\n",
      "dirpath results/grid_3x3/ours_goal/ours_v3_goal_ob:4_2024-02-07-16-35-04 23\n",
      "dirpath results/grid_3x3/ours_goal/ours_v3_goal_ob:4_2024-02-07-15-46-49 24\n",
      "dirpath results/grid_3x3/ours_goal/ours_v3_goal_ob:4_2024-02-07-16-32-16 25\n",
      "dirpath results/grid_3x3/ours_goal/ours_v3_goal_ob:4_2024-02-08-13-17-15 26\n",
      "dirpath results/grid_3x3/ours_goal/ours_v3_goal_ob:4_2024-02-07-16-33-44 27\n"
     ]
    }
   ],
   "source": [
    "env = 'grid_3x3'\n",
    "model_name = 'ours_v3'\n",
    "nav_type = 'goal'\n",
    "if 'ours' in model_name:\n",
    "    who = 'ours'\n",
    "else:\n",
    "    who = 'cscg'\n",
    "\n",
    "# Set the path to the folder containing the excel files\n",
    "if nav_type == 'exploration':\n",
    "    folder_path = 'results/'+ env +'/' + who+'_'+ nav_type +'/' + model_name\n",
    "else:\n",
    "    folder_path = 'results/'+ env +'/' + who+'_'+ nav_type\n",
    "\n",
    "print(folder_path)\n",
    "\n",
    "df_list, filepath_list = retrieve_df_data_from_folder_path(folder_path,model_name, nav_type)\n",
    "combined_df = pd.concat(df_list)\n",
    "# print(len(df_list))\n",
    "# # Write the combined DataFrame to a new excel file\n",
    "combined_df.to_excel('results/' + env+'_'+model_name+'_'+ nav_type +'_combined.xlsx', index=False)\n"
   ]
  },
  {
   "cell_type": "markdown",
   "metadata": {},
   "source": [
    "### exploration"
   ]
  },
  {
   "cell_type": "code",
   "execution_count": 6,
   "metadata": {},
   "outputs": [
    {
     "data": {
      "image/png": "[encoded data removed]",
      "text/plain": [
       "<Figure size 432x288 with 1 Axes>"
      ]
     },
     "metadata": {
      "needs_background": "light"
     },
     "output_type": "display_data"
    }
   ],
   "source": [
    "#TEST BAR PLOT\n",
    "\n",
    "# create data \n",
    "\n",
    "envs = ['grid_3x3', 'grid_3x3_alias', 'grid_4x4', 'grid_4x4_alias']\n",
    "model_names = ['cscg_pose_ob_random_policy', 'cscg_pose_ob', 'ours_v3', ]\n",
    "\n",
    "model1 = [5, 56, 12, 89] \n",
    "model2 = [5, 56, 78, 45] \n",
    "model3 = [5, 23, 45, 25] \n",
    "\n",
    "av_steps = [model1]\n",
    "av_steps.append(model2)\n",
    "av_steps.append(model3)\n",
    "width = 0.7/len(av_steps)\n",
    "\n",
    "bar_pose = -0.7/len(av_steps) \n",
    "\n",
    "colors = ['cyan','orange', 'green']\n",
    "x = np.arange(len(envs)) \n",
    "for id, model in enumerate(av_steps):\n",
    "    # plot data in grouped manner of bar type \n",
    "    plt.bar(x+bar_pose, model, width, color=colors[id]) \n",
    "    bar_pose+= 0.7/len(av_steps) \n",
    "    # plt.bar(x, model2, width, color=) \n",
    "    # plt.bar(x+0.2, model3, width, color=) \n",
    "plt.xticks(x, envs) \n",
    "plt.xlabel(\"Environments\") \n",
    "plt.ylabel(\"Average steps\") \n",
    "plt.legend(model_names) \n",
    "plt.show() \n"
   ]
  },
  {
   "cell_type": "code",
   "execution_count": 7,
   "metadata": {},
   "outputs": [
    {
     "name": "stdout",
     "output_type": "stream",
     "text": [
      "dirpath results/grid_3x3/ours_exploration/ours_v3/ours_v3_2024-02-07-15-46-25 1\n",
      "dirpath results/grid_3x3/ours_exploration/ours_v3/ours_v3_2024-02-07-16-05-41 2\n",
      "dirpath results/grid_3x3/ours_exploration/ours_v3/ours_v3_2024-02-07-15-56-25 3\n",
      "dirpath results/grid_3x3/ours_exploration/ours_v3/ours_v3_2024-02-07-10-55-17 4\n",
      "dirpath results/grid_3x3/ours_exploration/ours_v3/ours_v3_2024-02-08-10-49-27 5\n",
      "dirpath results/grid_3x3/ours_exploration/ours_v3/ours_v3_2024-02-07-11-02-53 6\n",
      "dirpath results/grid_3x3/ours_exploration/ours_v3/ours_v3_2024-02-07-15-51-39 7\n",
      "dirpath results/grid_3x3/ours_exploration/ours_v3/ours_v3_2024-02-08-11-14-01 8\n",
      "dirpath results/grid_3x3/ours_exploration/ours_v3/ours_v3_2024-02-10-21-12-33 9\n",
      "dirpath results/grid_3x3/ours_exploration/ours_v3/ours_v3_2024-02-07-11-01-40 10\n",
      "dirpath results/grid_3x3/ours_exploration/ours_v3/ours_v3_2024-02-07-16-15-28 11\n",
      "dirpath results/grid_3x3/ours_exploration/ours_v3/ours_v3_2024-02-08-13-14-49 12\n",
      "dirpath results/grid_3x3/ours_exploration/ours_v3/ours_v3_2024-02-07-15-48-24 13\n",
      "dirpath results/grid_3x3/ours_exploration/ours_v3/ours_v3_2024-02-10-21-12-12 14\n",
      "dirpath results/grid_3x3/ours_exploration/ours_v3/ours_v3_2024-02-08-11-14-22 15\n",
      "dirpath results/grid_3x3/ours_exploration/ours_v3/ours_v3_2024-02-08-13-15-35 16\n",
      "dirpath results/grid_3x3/ours_exploration/ours_v3/ours_v3_2024-02-10-21-12-55 17\n",
      "dirpath results/grid_3x3/ours_exploration/ours_v3/ours_v3_2024-02-08-11-13-16 18\n",
      "dirpath results/grid_3x3/ours_exploration/ours_v3/ours_v3_2024-02-07-16-19-04 19\n",
      "dirpath results/grid_3x3/ours_exploration/ours_v3/ours_v3_2024-02-08-13-15-10 20\n",
      "dirpath results/grid_3x3/ours_exploration/ours_v3/ours_v3_2024-02-08-11-13-37 21\n",
      "dirpath results/grid_3x3/ours_exploration/ours_v3/ours_v3_2024-02-11-13-12-56 22\n",
      "dirpath results/grid_3x3/ours_exploration/ours_v3/ours_v3_2024-02-11-13-13-24 23\n",
      "dirpath results/grid_3x3/ours_exploration/ours_v3/ours_v3_2024-02-07-15-50-15 24\n",
      "dirpath results/grid_3x3/ours_exploration/ours_v3/ours_v3_2024-02-08-10-51-07 25\n",
      "dirpath results/grid_3x3/ours_exploration/ours_v3/ours_v3_2024-02-07-10-43-20 26\n",
      "dirpath results/grid_3x3/ours_exploration/ours_v3/ours_v3_2024-02-11-13-12-29 27\n",
      "model ours_v3 env grid_3x3 number of tests: 27\n",
      "there is  0  failures in this model/env exploration\n",
      "dirpath results/grid_3x3_alias/ours_exploration/ours_v3/ours_v3_2024-02-08-13-25-33 1\n",
      "dirpath results/grid_3x3_alias/ours_exploration/ours_v3/ours_v3_2024-02-08-11-15-49 2\n",
      "dirpath results/grid_3x3_alias/ours_exploration/ours_v3/ours_v3_2024-02-08-11-15-27 3\n",
      "dirpath results/grid_3x3_alias/ours_exploration/ours_v3/ours_v3_2024-02-07-16-40-30 4\n",
      "dirpath results/grid_3x3_alias/ours_exploration/ours_v3/ours_v3_2024-02-10-21-18-19 5\n",
      "dirpath results/grid_3x3_alias/ours_exploration/ours_v3/ours_v3_2024-02-10-21-17-20 6\n",
      "dirpath results/grid_3x3_alias/ours_exploration/ours_v3/ours_v3_2024-02-10-21-17-44 7\n",
      "dirpath results/grid_3x3_alias/ours_exploration/ours_v3/ours_v3_2024-02-08-13-26-26 8\n",
      "dirpath results/grid_3x3_alias/ours_exploration/ours_v3/ours_v3_2024-02-08-11-16-13 9\n",
      "dirpath results/grid_3x3_alias/ours_exploration/ours_v3/ours_v3_2024-02-08-11-15-04 10\n",
      "dirpath results/grid_3x3_alias/ours_exploration/ours_v3/ours_v3_2024-02-08-13-26-04 11\n",
      "model ours_v3 env grid_3x3_alias number of tests: 11\n",
      "there is  0  failures in this model/env exploration\n",
      "dirpath results/grid_4x4/ours_exploration/ours_v3/ours_v3_2024-02-08-13-39-05 1\n",
      "dirpath results/grid_4x4/ours_exploration/ours_v3/ours_v3_2024-02-08-14-39-57 2\n",
      "dirpath results/grid_4x4/ours_exploration/ours_v3/ours_v3_2024-02-08-11-16-57 3\n",
      "dirpath results/grid_4x4/ours_exploration/ours_v3/ours_v3_2024-02-08-11-22-30 4\n",
      "dirpath results/grid_4x4/ours_exploration/ours_v3/ours_v3_2024-02-10-21-23-02 5\n",
      "dirpath results/grid_4x4/ours_exploration/ours_v3/ours_v3_2024-02-08-15-07-02 6\n",
      "dirpath results/grid_4x4/ours_exploration/ours_v3/ours_v3_2024-02-08-13-42-13 7\n",
      "dirpath results/grid_4x4/ours_exploration/ours_v3/ours_v3_2024-02-10-21-27-02 8\n",
      "dirpath results/grid_4x4/ours_exploration/ours_v3/ours_v3_2024-02-10-21-24-18 9\n",
      "dirpath results/grid_4x4/ours_exploration/ours_v3/ours_v3_2024-02-07-17-01-29 10\n",
      "dirpath results/grid_4x4/ours_exploration/ours_v3/ours_v3_2024-02-08-14-42-32 11\n",
      "dirpath results/grid_4x4/ours_exploration/ours_v3/ours_v3_2024-02-08-15-07-38 12\n",
      "dirpath results/grid_4x4/ours_exploration/ours_v3/ours_v3_2024-02-08-11-20-20 13\n",
      "dirpath results/grid_4x4/ours_exploration/ours_v3/ours_v3_2024-02-08-11-25-59 14\n",
      "dirpath results/grid_4x4/ours_exploration/ours_v3/ours_v3_2024-02-10-21-30-24 15\n",
      "dirpath results/grid_4x4/ours_exploration/ours_v3/ours_v3_2024-02-08-13-35-33 16\n",
      "model ours_v3 env grid_4x4 number of tests: 15\n",
      "there is  0  failures in this model/env exploration\n",
      "dirpath results/grid_4x4_alias/ours_exploration/ours_v3/ours_v3_2024-02-08-13-56-30 1\n",
      "dirpath results/grid_4x4_alias/ours_exploration/ours_v3/ours_v3_2024-02-08-11-35-09 2\n",
      "dirpath results/grid_4x4_alias/ours_exploration/ours_v3/ours_v3_2024-02-10-21-40-20 3\n",
      "dirpath results/grid_4x4_alias/ours_exploration/ours_v3/ours_v3_2024-02-08-11-29-01 4\n",
      "dirpath results/grid_4x4_alias/ours_exploration/ours_v3/ours_v3_2024-02-08-14-51-44 5\n",
      "dirpath results/grid_4x4_alias/ours_exploration/ours_v3/ours_v3_2024-02-08-11-37-47 6\n",
      "dirpath results/grid_4x4_alias/ours_exploration/ours_v3/ours_v3_2024-02-08-11-31-35 7\n",
      "dirpath results/grid_4x4_alias/ours_exploration/ours_v3/ours_v3_2024-02-10-21-47-35 8\n",
      "dirpath results/grid_4x4_alias/ours_exploration/ours_v3/ours_v3_2024-02-10-21-43-28 9\n",
      "dirpath results/grid_4x4_alias/ours_exploration/ours_v3/ours_v3_2024-02-10-21-46-21 10\n",
      "dirpath results/grid_4x4_alias/ours_exploration/ours_v3/ours_v3_2024-02-08-14-48-04 11\n",
      "dirpath results/grid_4x4_alias/ours_exploration/ours_v3/ours_v3_2024-02-08-15-12-08 12\n",
      "dirpath results/grid_4x4_alias/ours_exploration/ours_v3/ours_v3_2024-02-08-13-52-29 13\n",
      "dirpath results/grid_4x4_alias/ours_exploration/ours_v3/ours_v3_2024-02-07-17-30-08 14\n",
      "dirpath results/grid_4x4_alias/ours_exploration/ours_v3/ours_v3_2024-02-08-13-53-44 15\n"
     ]
    },
    {
     "ename": "KeyboardInterrupt",
     "evalue": "",
     "output_type": "error",
     "traceback": [
      "\u001b[0;31m---------------------------------------------------------------------------\u001b[0m",
      "\u001b[0;31mKeyboardInterrupt\u001b[0m                         Traceback (most recent call last)",
      "Input \u001b[0;32mIn [7]\u001b[0m, in \u001b[0;36m<cell line: 7>\u001b[0;34m()\u001b[0m\n\u001b[1;32m     16\u001b[0m     who \u001b[38;5;241m=\u001b[39m \u001b[38;5;124m'\u001b[39m\u001b[38;5;124mcscg\u001b[39m\u001b[38;5;124m'\u001b[39m\n\u001b[1;32m     17\u001b[0m folder_path \u001b[38;5;241m=\u001b[39m \u001b[38;5;124m'\u001b[39m\u001b[38;5;124mresults/\u001b[39m\u001b[38;5;124m'\u001b[39m\u001b[38;5;241m+\u001b[39m env \u001b[38;5;241m+\u001b[39m\u001b[38;5;124m'\u001b[39m\u001b[38;5;124m/\u001b[39m\u001b[38;5;124m'\u001b[39m \u001b[38;5;241m+\u001b[39m who\u001b[38;5;241m+\u001b[39m\u001b[38;5;124m'\u001b[39m\u001b[38;5;124m_\u001b[39m\u001b[38;5;124m'\u001b[39m\u001b[38;5;241m+\u001b[39m nav_type \u001b[38;5;241m+\u001b[39m\u001b[38;5;124m'\u001b[39m\u001b[38;5;124m/\u001b[39m\u001b[38;5;124m'\u001b[39m \u001b[38;5;241m+\u001b[39m model_name\n\u001b[0;32m---> 18\u001b[0m df_list \u001b[38;5;241m=\u001b[39m \u001b[43mretrieve_df_data_from_folder_path\u001b[49m\u001b[43m(\u001b[49m\u001b[43mfolder_path\u001b[49m\u001b[43m,\u001b[49m\u001b[43mmodel_name\u001b[49m\u001b[43m,\u001b[49m\u001b[43m \u001b[49m\u001b[43mnav_type\u001b[49m\u001b[43m)\u001b[49m\n\u001b[1;32m     19\u001b[0m \u001b[38;5;28mprint\u001b[39m(\u001b[38;5;124m'\u001b[39m\u001b[38;5;124mmodel\u001b[39m\u001b[38;5;124m'\u001b[39m, model_name, \u001b[38;5;124m'\u001b[39m\u001b[38;5;124menv\u001b[39m\u001b[38;5;124m'\u001b[39m, env,\u001b[38;5;124m'\u001b[39m\u001b[38;5;124mnumber of tests:\u001b[39m\u001b[38;5;124m'\u001b[39m, \u001b[38;5;28mlen\u001b[39m(df_list))\n\u001b[1;32m     20\u001b[0m \u001b[38;5;28;01mfor\u001b[39;00m df \u001b[38;5;129;01min\u001b[39;00m df_list:\n",
      "Input \u001b[0;32mIn [3]\u001b[0m, in \u001b[0;36mretrieve_df_data_from_folder_path\u001b[0;34m(folder_path, model_name, nav_type, load_model)\u001b[0m\n\u001b[1;32m     19\u001b[0m file_path \u001b[38;5;241m=\u001b[39m os\u001b[38;5;241m.\u001b[39mpath\u001b[38;5;241m.\u001b[39mjoin(dirpath, file)\n\u001b[1;32m     20\u001b[0m \u001b[38;5;28;01mtry\u001b[39;00m:\n\u001b[0;32m---> 21\u001b[0m     df \u001b[38;5;241m=\u001b[39m \u001b[43mpd\u001b[49m\u001b[38;5;241;43m.\u001b[39;49m\u001b[43mread_excel\u001b[49m\u001b[43m(\u001b[49m\u001b[43mfile_path\u001b[49m\u001b[43m)\u001b[49m\n\u001b[1;32m     22\u001b[0m     \u001b[38;5;66;03m# if df['error'][0] != False or df['error'][0] !=0:\u001b[39;00m\n\u001b[1;32m     23\u001b[0m     \u001b[38;5;66;03m#     print('erase',file_path)\u001b[39;00m\n\u001b[1;32m     24\u001b[0m     \u001b[38;5;66;03m#     os.system(f'rm -rf {file_path}')\u001b[39;00m\n\u001b[1;32m     25\u001b[0m     \u001b[38;5;66;03m# df.fillna(value=0, inplace=True)  # Fill any blank cells with 'NA'\u001b[39;00m\n\u001b[1;32m     26\u001b[0m     df_list\u001b[38;5;241m.\u001b[39mappend(df)\n",
      "File \u001b[0;32m~/.local/lib/python3.8/site-packages/pandas/io/excel/_base.py:486\u001b[0m, in \u001b[0;36mread_excel\u001b[0;34m(io, sheet_name, header, names, index_col, usecols, dtype, engine, converters, true_values, false_values, skiprows, nrows, na_values, keep_default_na, na_filter, verbose, parse_dates, date_parser, date_format, thousands, decimal, comment, skipfooter, storage_options, dtype_backend)\u001b[0m\n\u001b[1;32m    480\u001b[0m     \u001b[38;5;28;01mraise\u001b[39;00m \u001b[38;5;167;01mValueError\u001b[39;00m(\n\u001b[1;32m    481\u001b[0m         \u001b[38;5;124m\"\u001b[39m\u001b[38;5;124mEngine should not be specified when passing \u001b[39m\u001b[38;5;124m\"\u001b[39m\n\u001b[1;32m    482\u001b[0m         \u001b[38;5;124m\"\u001b[39m\u001b[38;5;124man ExcelFile - ExcelFile already has the engine set\u001b[39m\u001b[38;5;124m\"\u001b[39m\n\u001b[1;32m    483\u001b[0m     )\n\u001b[1;32m    485\u001b[0m \u001b[38;5;28;01mtry\u001b[39;00m:\n\u001b[0;32m--> 486\u001b[0m     data \u001b[38;5;241m=\u001b[39m \u001b[43mio\u001b[49m\u001b[38;5;241;43m.\u001b[39;49m\u001b[43mparse\u001b[49m\u001b[43m(\u001b[49m\n\u001b[1;32m    487\u001b[0m \u001b[43m        \u001b[49m\u001b[43msheet_name\u001b[49m\u001b[38;5;241;43m=\u001b[39;49m\u001b[43msheet_name\u001b[49m\u001b[43m,\u001b[49m\n\u001b[1;32m    488\u001b[0m \u001b[43m        \u001b[49m\u001b[43mheader\u001b[49m\u001b[38;5;241;43m=\u001b[39;49m\u001b[43mheader\u001b[49m\u001b[43m,\u001b[49m\n\u001b[1;32m    489\u001b[0m \u001b[43m        \u001b[49m\u001b[43mnames\u001b[49m\u001b[38;5;241;43m=\u001b[39;49m\u001b[43mnames\u001b[49m\u001b[43m,\u001b[49m\n\u001b[1;32m    490\u001b[0m \u001b[43m        \u001b[49m\u001b[43mindex_col\u001b[49m\u001b[38;5;241;43m=\u001b[39;49m\u001b[43mindex_col\u001b[49m\u001b[43m,\u001b[49m\n\u001b[1;32m    491\u001b[0m \u001b[43m        \u001b[49m\u001b[43musecols\u001b[49m\u001b[38;5;241;43m=\u001b[39;49m\u001b[43musecols\u001b[49m\u001b[43m,\u001b[49m\n\u001b[1;32m    492\u001b[0m \u001b[43m        \u001b[49m\u001b[43mdtype\u001b[49m\u001b[38;5;241;43m=\u001b[39;49m\u001b[43mdtype\u001b[49m\u001b[43m,\u001b[49m\n\u001b[1;32m    493\u001b[0m \u001b[43m        \u001b[49m\u001b[43mconverters\u001b[49m\u001b[38;5;241;43m=\u001b[39;49m\u001b[43mconverters\u001b[49m\u001b[43m,\u001b[49m\n\u001b[1;32m    494\u001b[0m \u001b[43m        \u001b[49m\u001b[43mtrue_values\u001b[49m\u001b[38;5;241;43m=\u001b[39;49m\u001b[43mtrue_values\u001b[49m\u001b[43m,\u001b[49m\n\u001b[1;32m    495\u001b[0m \u001b[43m        \u001b[49m\u001b[43mfalse_values\u001b[49m\u001b[38;5;241;43m=\u001b[39;49m\u001b[43mfalse_values\u001b[49m\u001b[43m,\u001b[49m\n\u001b[1;32m    496\u001b[0m \u001b[43m        \u001b[49m\u001b[43mskiprows\u001b[49m\u001b[38;5;241;43m=\u001b[39;49m\u001b[43mskiprows\u001b[49m\u001b[43m,\u001b[49m\n\u001b[1;32m    497\u001b[0m \u001b[43m        \u001b[49m\u001b[43mnrows\u001b[49m\u001b[38;5;241;43m=\u001b[39;49m\u001b[43mnrows\u001b[49m\u001b[43m,\u001b[49m\n\u001b[1;32m    498\u001b[0m \u001b[43m        \u001b[49m\u001b[43mna_values\u001b[49m\u001b[38;5;241;43m=\u001b[39;49m\u001b[43mna_values\u001b[49m\u001b[43m,\u001b[49m\n\u001b[1;32m    499\u001b[0m \u001b[43m        \u001b[49m\u001b[43mkeep_default_na\u001b[49m\u001b[38;5;241;43m=\u001b[39;49m\u001b[43mkeep_default_na\u001b[49m\u001b[43m,\u001b[49m\n\u001b[1;32m    500\u001b[0m \u001b[43m        \u001b[49m\u001b[43mna_filter\u001b[49m\u001b[38;5;241;43m=\u001b[39;49m\u001b[43mna_filter\u001b[49m\u001b[43m,\u001b[49m\n\u001b[1;32m    501\u001b[0m \u001b[43m        \u001b[49m\u001b[43mverbose\u001b[49m\u001b[38;5;241;43m=\u001b[39;49m\u001b[43mverbose\u001b[49m\u001b[43m,\u001b[49m\n\u001b[1;32m    502\u001b[0m \u001b[43m        \u001b[49m\u001b[43mparse_dates\u001b[49m\u001b[38;5;241;43m=\u001b[39;49m\u001b[43mparse_dates\u001b[49m\u001b[43m,\u001b[49m\n\u001b[1;32m    503\u001b[0m \u001b[43m        \u001b[49m\u001b[43mdate_parser\u001b[49m\u001b[38;5;241;43m=\u001b[39;49m\u001b[43mdate_parser\u001b[49m\u001b[43m,\u001b[49m\n\u001b[1;32m    504\u001b[0m \u001b[43m        \u001b[49m\u001b[43mdate_format\u001b[49m\u001b[38;5;241;43m=\u001b[39;49m\u001b[43mdate_format\u001b[49m\u001b[43m,\u001b[49m\n\u001b[1;32m    505\u001b[0m \u001b[43m        \u001b[49m\u001b[43mthousands\u001b[49m\u001b[38;5;241;43m=\u001b[39;49m\u001b[43mthousands\u001b[49m\u001b[43m,\u001b[49m\n\u001b[1;32m    506\u001b[0m \u001b[43m        \u001b[49m\u001b[43mdecimal\u001b[49m\u001b[38;5;241;43m=\u001b[39;49m\u001b[43mdecimal\u001b[49m\u001b[43m,\u001b[49m\n\u001b[1;32m    507\u001b[0m \u001b[43m        \u001b[49m\u001b[43mcomment\u001b[49m\u001b[38;5;241;43m=\u001b[39;49m\u001b[43mcomment\u001b[49m\u001b[43m,\u001b[49m\n\u001b[1;32m    508\u001b[0m \u001b[43m        \u001b[49m\u001b[43mskipfooter\u001b[49m\u001b[38;5;241;43m=\u001b[39;49m\u001b[43mskipfooter\u001b[49m\u001b[43m,\u001b[49m\n\u001b[1;32m    509\u001b[0m \u001b[43m        \u001b[49m\u001b[43mdtype_backend\u001b[49m\u001b[38;5;241;43m=\u001b[39;49m\u001b[43mdtype_backend\u001b[49m\u001b[43m,\u001b[49m\n\u001b[1;32m    510\u001b[0m \u001b[43m    \u001b[49m\u001b[43m)\u001b[49m\n\u001b[1;32m    511\u001b[0m \u001b[38;5;28;01mfinally\u001b[39;00m:\n\u001b[1;32m    512\u001b[0m     \u001b[38;5;66;03m# make sure to close opened file handles\u001b[39;00m\n\u001b[1;32m    513\u001b[0m     \u001b[38;5;28;01mif\u001b[39;00m should_close:\n",
      "File \u001b[0;32m~/.local/lib/python3.8/site-packages/pandas/io/excel/_base.py:1551\u001b[0m, in \u001b[0;36mExcelFile.parse\u001b[0;34m(self, sheet_name, header, names, index_col, usecols, converters, true_values, false_values, skiprows, nrows, na_values, parse_dates, date_parser, date_format, thousands, comment, skipfooter, dtype_backend, **kwds)\u001b[0m\n\u001b[1;32m   1518\u001b[0m \u001b[38;5;28;01mdef\u001b[39;00m \u001b[38;5;21mparse\u001b[39m(\n\u001b[1;32m   1519\u001b[0m     \u001b[38;5;28mself\u001b[39m,\n\u001b[1;32m   1520\u001b[0m     sheet_name: \u001b[38;5;28mstr\u001b[39m \u001b[38;5;241m|\u001b[39m \u001b[38;5;28mint\u001b[39m \u001b[38;5;241m|\u001b[39m \u001b[38;5;28mlist\u001b[39m[\u001b[38;5;28mint\u001b[39m] \u001b[38;5;241m|\u001b[39m \u001b[38;5;28mlist\u001b[39m[\u001b[38;5;28mstr\u001b[39m] \u001b[38;5;241m|\u001b[39m \u001b[38;5;28;01mNone\u001b[39;00m \u001b[38;5;241m=\u001b[39m \u001b[38;5;241m0\u001b[39m,\n\u001b[0;32m   (...)\u001b[0m\n\u001b[1;32m   1538\u001b[0m     \u001b[38;5;241m*\u001b[39m\u001b[38;5;241m*\u001b[39mkwds,\n\u001b[1;32m   1539\u001b[0m ) \u001b[38;5;241m-\u001b[39m\u001b[38;5;241m>\u001b[39m DataFrame \u001b[38;5;241m|\u001b[39m \u001b[38;5;28mdict\u001b[39m[\u001b[38;5;28mstr\u001b[39m, DataFrame] \u001b[38;5;241m|\u001b[39m \u001b[38;5;28mdict\u001b[39m[\u001b[38;5;28mint\u001b[39m, DataFrame]:\n\u001b[1;32m   1540\u001b[0m     \u001b[38;5;124;03m\"\"\"\u001b[39;00m\n\u001b[1;32m   1541\u001b[0m \u001b[38;5;124;03m    Parse specified sheet(s) into a DataFrame.\u001b[39;00m\n\u001b[1;32m   1542\u001b[0m \n\u001b[0;32m   (...)\u001b[0m\n\u001b[1;32m   1549\u001b[0m \u001b[38;5;124;03m        DataFrame from the passed in Excel file.\u001b[39;00m\n\u001b[1;32m   1550\u001b[0m \u001b[38;5;124;03m    \"\"\"\u001b[39;00m\n\u001b[0;32m-> 1551\u001b[0m     \u001b[38;5;28;01mreturn\u001b[39;00m \u001b[38;5;28;43mself\u001b[39;49m\u001b[38;5;241;43m.\u001b[39;49m\u001b[43m_reader\u001b[49m\u001b[38;5;241;43m.\u001b[39;49m\u001b[43mparse\u001b[49m\u001b[43m(\u001b[49m\n\u001b[1;32m   1552\u001b[0m \u001b[43m        \u001b[49m\u001b[43msheet_name\u001b[49m\u001b[38;5;241;43m=\u001b[39;49m\u001b[43msheet_name\u001b[49m\u001b[43m,\u001b[49m\n\u001b[1;32m   1553\u001b[0m \u001b[43m        \u001b[49m\u001b[43mheader\u001b[49m\u001b[38;5;241;43m=\u001b[39;49m\u001b[43mheader\u001b[49m\u001b[43m,\u001b[49m\n\u001b[1;32m   1554\u001b[0m \u001b[43m        \u001b[49m\u001b[43mnames\u001b[49m\u001b[38;5;241;43m=\u001b[39;49m\u001b[43mnames\u001b[49m\u001b[43m,\u001b[49m\n\u001b[1;32m   1555\u001b[0m \u001b[43m        \u001b[49m\u001b[43mindex_col\u001b[49m\u001b[38;5;241;43m=\u001b[39;49m\u001b[43mindex_col\u001b[49m\u001b[43m,\u001b[49m\n\u001b[1;32m   1556\u001b[0m \u001b[43m        \u001b[49m\u001b[43musecols\u001b[49m\u001b[38;5;241;43m=\u001b[39;49m\u001b[43musecols\u001b[49m\u001b[43m,\u001b[49m\n\u001b[1;32m   1557\u001b[0m \u001b[43m        \u001b[49m\u001b[43mconverters\u001b[49m\u001b[38;5;241;43m=\u001b[39;49m\u001b[43mconverters\u001b[49m\u001b[43m,\u001b[49m\n\u001b[1;32m   1558\u001b[0m \u001b[43m        \u001b[49m\u001b[43mtrue_values\u001b[49m\u001b[38;5;241;43m=\u001b[39;49m\u001b[43mtrue_values\u001b[49m\u001b[43m,\u001b[49m\n\u001b[1;32m   1559\u001b[0m \u001b[43m        \u001b[49m\u001b[43mfalse_values\u001b[49m\u001b[38;5;241;43m=\u001b[39;49m\u001b[43mfalse_values\u001b[49m\u001b[43m,\u001b[49m\n\u001b[1;32m   1560\u001b[0m \u001b[43m        \u001b[49m\u001b[43mskiprows\u001b[49m\u001b[38;5;241;43m=\u001b[39;49m\u001b[43mskiprows\u001b[49m\u001b[43m,\u001b[49m\n\u001b[1;32m   1561\u001b[0m \u001b[43m        \u001b[49m\u001b[43mnrows\u001b[49m\u001b[38;5;241;43m=\u001b[39;49m\u001b[43mnrows\u001b[49m\u001b[43m,\u001b[49m\n\u001b[1;32m   1562\u001b[0m \u001b[43m        \u001b[49m\u001b[43mna_values\u001b[49m\u001b[38;5;241;43m=\u001b[39;49m\u001b[43mna_values\u001b[49m\u001b[43m,\u001b[49m\n\u001b[1;32m   1563\u001b[0m \u001b[43m        \u001b[49m\u001b[43mparse_dates\u001b[49m\u001b[38;5;241;43m=\u001b[39;49m\u001b[43mparse_dates\u001b[49m\u001b[43m,\u001b[49m\n\u001b[1;32m   1564\u001b[0m \u001b[43m        \u001b[49m\u001b[43mdate_parser\u001b[49m\u001b[38;5;241;43m=\u001b[39;49m\u001b[43mdate_parser\u001b[49m\u001b[43m,\u001b[49m\n\u001b[1;32m   1565\u001b[0m \u001b[43m        \u001b[49m\u001b[43mdate_format\u001b[49m\u001b[38;5;241;43m=\u001b[39;49m\u001b[43mdate_format\u001b[49m\u001b[43m,\u001b[49m\n\u001b[1;32m   1566\u001b[0m \u001b[43m        \u001b[49m\u001b[43mthousands\u001b[49m\u001b[38;5;241;43m=\u001b[39;49m\u001b[43mthousands\u001b[49m\u001b[43m,\u001b[49m\n\u001b[1;32m   1567\u001b[0m \u001b[43m        \u001b[49m\u001b[43mcomment\u001b[49m\u001b[38;5;241;43m=\u001b[39;49m\u001b[43mcomment\u001b[49m\u001b[43m,\u001b[49m\n\u001b[1;32m   1568\u001b[0m \u001b[43m        \u001b[49m\u001b[43mskipfooter\u001b[49m\u001b[38;5;241;43m=\u001b[39;49m\u001b[43mskipfooter\u001b[49m\u001b[43m,\u001b[49m\n\u001b[1;32m   1569\u001b[0m \u001b[43m        \u001b[49m\u001b[43mdtype_backend\u001b[49m\u001b[38;5;241;43m=\u001b[39;49m\u001b[43mdtype_backend\u001b[49m\u001b[43m,\u001b[49m\n\u001b[1;32m   1570\u001b[0m \u001b[43m        \u001b[49m\u001b[38;5;241;43m*\u001b[39;49m\u001b[38;5;241;43m*\u001b[39;49m\u001b[43mkwds\u001b[49m\u001b[43m,\u001b[49m\n\u001b[1;32m   1571\u001b[0m \u001b[43m    \u001b[49m\u001b[43m)\u001b[49m\n",
      "File \u001b[0;32m~/.local/lib/python3.8/site-packages/pandas/io/excel/_base.py:751\u001b[0m, in \u001b[0;36mBaseExcelReader.parse\u001b[0;34m(self, sheet_name, header, names, index_col, usecols, dtype, true_values, false_values, skiprows, nrows, na_values, verbose, parse_dates, date_parser, date_format, thousands, decimal, comment, skipfooter, dtype_backend, **kwds)\u001b[0m\n\u001b[1;32m    748\u001b[0m     sheet \u001b[38;5;241m=\u001b[39m \u001b[38;5;28mself\u001b[39m\u001b[38;5;241m.\u001b[39mget_sheet_by_index(asheetname)\n\u001b[1;32m    750\u001b[0m file_rows_needed \u001b[38;5;241m=\u001b[39m \u001b[38;5;28mself\u001b[39m\u001b[38;5;241m.\u001b[39m_calc_rows(header, index_col, skiprows, nrows)\n\u001b[0;32m--> 751\u001b[0m data \u001b[38;5;241m=\u001b[39m \u001b[38;5;28;43mself\u001b[39;49m\u001b[38;5;241;43m.\u001b[39;49m\u001b[43mget_sheet_data\u001b[49m\u001b[43m(\u001b[49m\u001b[43msheet\u001b[49m\u001b[43m,\u001b[49m\u001b[43m \u001b[49m\u001b[43mfile_rows_needed\u001b[49m\u001b[43m)\u001b[49m\n\u001b[1;32m    752\u001b[0m \u001b[38;5;28;01mif\u001b[39;00m \u001b[38;5;28mhasattr\u001b[39m(sheet, \u001b[38;5;124m\"\u001b[39m\u001b[38;5;124mclose\u001b[39m\u001b[38;5;124m\"\u001b[39m):\n\u001b[1;32m    753\u001b[0m     \u001b[38;5;66;03m# pyxlsb opens two TemporaryFiles\u001b[39;00m\n\u001b[1;32m    754\u001b[0m     sheet\u001b[38;5;241m.\u001b[39mclose()\n",
      "File \u001b[0;32m~/.local/lib/python3.8/site-packages/pandas/io/excel/_openpyxl.py:602\u001b[0m, in \u001b[0;36mOpenpyxlReader.get_sheet_data\u001b[0;34m(self, sheet, file_rows_needed)\u001b[0m\n\u001b[1;32m    600\u001b[0m data: \u001b[38;5;28mlist\u001b[39m[\u001b[38;5;28mlist\u001b[39m[Scalar]] \u001b[38;5;241m=\u001b[39m []\n\u001b[1;32m    601\u001b[0m last_row_with_data \u001b[38;5;241m=\u001b[39m \u001b[38;5;241m-\u001b[39m\u001b[38;5;241m1\u001b[39m\n\u001b[0;32m--> 602\u001b[0m \u001b[38;5;28;01mfor\u001b[39;00m row_number, row \u001b[38;5;129;01min\u001b[39;00m \u001b[38;5;28menumerate\u001b[39m(sheet\u001b[38;5;241m.\u001b[39mrows):\n\u001b[1;32m    603\u001b[0m     converted_row \u001b[38;5;241m=\u001b[39m [\u001b[38;5;28mself\u001b[39m\u001b[38;5;241m.\u001b[39m_convert_cell(cell) \u001b[38;5;28;01mfor\u001b[39;00m cell \u001b[38;5;129;01min\u001b[39;00m row]\n\u001b[1;32m    604\u001b[0m     \u001b[38;5;28;01mwhile\u001b[39;00m converted_row \u001b[38;5;129;01mand\u001b[39;00m converted_row[\u001b[38;5;241m-\u001b[39m\u001b[38;5;241m1\u001b[39m] \u001b[38;5;241m==\u001b[39m \u001b[38;5;124m\"\u001b[39m\u001b[38;5;124m\"\u001b[39m:\n\u001b[1;32m    605\u001b[0m         \u001b[38;5;66;03m# trim trailing empty elements\u001b[39;00m\n",
      "File \u001b[0;32m~/.local/lib/python3.8/site-packages/openpyxl/worksheet/_read_only.py:81\u001b[0m, in \u001b[0;36mReadOnlyWorksheet._cells_by_row\u001b[0;34m(self, min_col, min_row, max_col, max_row, values_only)\u001b[0m\n\u001b[1;32m     77\u001b[0m src \u001b[38;5;241m=\u001b[39m \u001b[38;5;28mself\u001b[39m\u001b[38;5;241m.\u001b[39m_get_source()\n\u001b[1;32m     78\u001b[0m parser \u001b[38;5;241m=\u001b[39m WorkSheetParser(src, \u001b[38;5;28mself\u001b[39m\u001b[38;5;241m.\u001b[39m_shared_strings,\n\u001b[1;32m     79\u001b[0m                          data_only\u001b[38;5;241m=\u001b[39m\u001b[38;5;28mself\u001b[39m\u001b[38;5;241m.\u001b[39mparent\u001b[38;5;241m.\u001b[39mdata_only, epoch\u001b[38;5;241m=\u001b[39m\u001b[38;5;28mself\u001b[39m\u001b[38;5;241m.\u001b[39mparent\u001b[38;5;241m.\u001b[39mepoch,\n\u001b[1;32m     80\u001b[0m                          date_formats\u001b[38;5;241m=\u001b[39m\u001b[38;5;28mself\u001b[39m\u001b[38;5;241m.\u001b[39mparent\u001b[38;5;241m.\u001b[39m_date_formats)\n\u001b[0;32m---> 81\u001b[0m \u001b[38;5;28;01mfor\u001b[39;00m idx, row \u001b[38;5;129;01min\u001b[39;00m parser\u001b[38;5;241m.\u001b[39mparse():\n\u001b[1;32m     82\u001b[0m     \u001b[38;5;28;01mif\u001b[39;00m max_row \u001b[38;5;129;01mis\u001b[39;00m \u001b[38;5;129;01mnot\u001b[39;00m \u001b[38;5;28;01mNone\u001b[39;00m \u001b[38;5;129;01mand\u001b[39;00m idx \u001b[38;5;241m>\u001b[39m max_row:\n\u001b[1;32m     83\u001b[0m         \u001b[38;5;28;01mbreak\u001b[39;00m\n",
      "File \u001b[0;32m~/.local/lib/python3.8/site-packages/openpyxl/worksheet/_reader.py:156\u001b[0m, in \u001b[0;36mWorkSheetParser.parse\u001b[0;34m(self)\u001b[0m\n\u001b[1;32m    137\u001b[0m properties \u001b[38;5;241m=\u001b[39m {\n\u001b[1;32m    138\u001b[0m     PRINT_TAG: (\u001b[38;5;124m'\u001b[39m\u001b[38;5;124mprint_options\u001b[39m\u001b[38;5;124m'\u001b[39m, PrintOptions),\n\u001b[1;32m    139\u001b[0m     MARGINS_TAG: (\u001b[38;5;124m'\u001b[39m\u001b[38;5;124mpage_margins\u001b[39m\u001b[38;5;124m'\u001b[39m, PageMargins),\n\u001b[0;32m   (...)\u001b[0m\n\u001b[1;32m    151\u001b[0m \n\u001b[1;32m    152\u001b[0m }\n\u001b[1;32m    154\u001b[0m it \u001b[38;5;241m=\u001b[39m iterparse(\u001b[38;5;28mself\u001b[39m\u001b[38;5;241m.\u001b[39msource) \u001b[38;5;66;03m# add a finaliser to close the source when this becomes possible\u001b[39;00m\n\u001b[0;32m--> 156\u001b[0m \u001b[38;5;28;01mfor\u001b[39;00m _, element \u001b[38;5;129;01min\u001b[39;00m it:\n\u001b[1;32m    157\u001b[0m     tag_name \u001b[38;5;241m=\u001b[39m element\u001b[38;5;241m.\u001b[39mtag\n\u001b[1;32m    158\u001b[0m     \u001b[38;5;28;01mif\u001b[39;00m tag_name \u001b[38;5;129;01min\u001b[39;00m dispatcher:\n",
      "File \u001b[0;32m~/.conda/envs/ozgqn/lib/python3.8/xml/etree/ElementTree.py:1229\u001b[0m, in \u001b[0;36miterparse.<locals>.iterator\u001b[0;34m()\u001b[0m\n\u001b[1;32m   1227\u001b[0m \u001b[38;5;28;01myield from\u001b[39;00m pullparser\u001b[38;5;241m.\u001b[39mread_events()\n\u001b[1;32m   1228\u001b[0m \u001b[38;5;66;03m# load event buffer\u001b[39;00m\n\u001b[0;32m-> 1229\u001b[0m data \u001b[38;5;241m=\u001b[39m \u001b[43msource\u001b[49m\u001b[38;5;241;43m.\u001b[39;49m\u001b[43mread\u001b[49m\u001b[43m(\u001b[49m\u001b[38;5;241;43m16\u001b[39;49m\u001b[43m \u001b[49m\u001b[38;5;241;43m*\u001b[39;49m\u001b[43m \u001b[49m\u001b[38;5;241;43m1024\u001b[39;49m\u001b[43m)\u001b[49m\n\u001b[1;32m   1230\u001b[0m \u001b[38;5;28;01mif\u001b[39;00m \u001b[38;5;129;01mnot\u001b[39;00m data:\n\u001b[1;32m   1231\u001b[0m     \u001b[38;5;28;01mbreak\u001b[39;00m\n",
      "File \u001b[0;32m~/.conda/envs/ozgqn/lib/python3.8/zipfile.py:940\u001b[0m, in \u001b[0;36mZipExtFile.read\u001b[0;34m(self, n)\u001b[0m\n\u001b[1;32m    938\u001b[0m \u001b[38;5;28mself\u001b[39m\u001b[38;5;241m.\u001b[39m_offset \u001b[38;5;241m=\u001b[39m \u001b[38;5;241m0\u001b[39m\n\u001b[1;32m    939\u001b[0m \u001b[38;5;28;01mwhile\u001b[39;00m n \u001b[38;5;241m>\u001b[39m \u001b[38;5;241m0\u001b[39m \u001b[38;5;129;01mand\u001b[39;00m \u001b[38;5;129;01mnot\u001b[39;00m \u001b[38;5;28mself\u001b[39m\u001b[38;5;241m.\u001b[39m_eof:\n\u001b[0;32m--> 940\u001b[0m     data \u001b[38;5;241m=\u001b[39m \u001b[38;5;28;43mself\u001b[39;49m\u001b[38;5;241;43m.\u001b[39;49m\u001b[43m_read1\u001b[49m\u001b[43m(\u001b[49m\u001b[43mn\u001b[49m\u001b[43m)\u001b[49m\n\u001b[1;32m    941\u001b[0m     \u001b[38;5;28;01mif\u001b[39;00m n \u001b[38;5;241m<\u001b[39m \u001b[38;5;28mlen\u001b[39m(data):\n\u001b[1;32m    942\u001b[0m         \u001b[38;5;28mself\u001b[39m\u001b[38;5;241m.\u001b[39m_readbuffer \u001b[38;5;241m=\u001b[39m data\n",
      "File \u001b[0;32m~/.conda/envs/ozgqn/lib/python3.8/zipfile.py:1030\u001b[0m, in \u001b[0;36mZipExtFile._read1\u001b[0;34m(self, n)\u001b[0m\n\u001b[1;32m   1028\u001b[0m \u001b[38;5;28;01mif\u001b[39;00m \u001b[38;5;28mself\u001b[39m\u001b[38;5;241m.\u001b[39m_left \u001b[38;5;241m<\u001b[39m\u001b[38;5;241m=\u001b[39m \u001b[38;5;241m0\u001b[39m:\n\u001b[1;32m   1029\u001b[0m     \u001b[38;5;28mself\u001b[39m\u001b[38;5;241m.\u001b[39m_eof \u001b[38;5;241m=\u001b[39m \u001b[38;5;28;01mTrue\u001b[39;00m\n\u001b[0;32m-> 1030\u001b[0m \u001b[38;5;28;43mself\u001b[39;49m\u001b[38;5;241;43m.\u001b[39;49m\u001b[43m_update_crc\u001b[49m\u001b[43m(\u001b[49m\u001b[43mdata\u001b[49m\u001b[43m)\u001b[49m\n\u001b[1;32m   1031\u001b[0m \u001b[38;5;28;01mreturn\u001b[39;00m data\n",
      "File \u001b[0;32m~/.conda/envs/ozgqn/lib/python3.8/zipfile.py:955\u001b[0m, in \u001b[0;36mZipExtFile._update_crc\u001b[0;34m(self, newdata)\u001b[0m\n\u001b[1;32m    952\u001b[0m \u001b[38;5;28;01mif\u001b[39;00m \u001b[38;5;28mself\u001b[39m\u001b[38;5;241m.\u001b[39m_expected_crc \u001b[38;5;129;01mis\u001b[39;00m \u001b[38;5;28;01mNone\u001b[39;00m:\n\u001b[1;32m    953\u001b[0m     \u001b[38;5;66;03m# No need to compute the CRC if we don't have a reference value\u001b[39;00m\n\u001b[1;32m    954\u001b[0m     \u001b[38;5;28;01mreturn\u001b[39;00m\n\u001b[0;32m--> 955\u001b[0m \u001b[38;5;28mself\u001b[39m\u001b[38;5;241m.\u001b[39m_running_crc \u001b[38;5;241m=\u001b[39m crc32(newdata, \u001b[38;5;28;43mself\u001b[39;49m\u001b[38;5;241;43m.\u001b[39;49m\u001b[43m_running_crc\u001b[49m)\n\u001b[1;32m    956\u001b[0m \u001b[38;5;66;03m# Check the CRC if we're at the end of the file\u001b[39;00m\n\u001b[1;32m    957\u001b[0m \u001b[38;5;28;01mif\u001b[39;00m \u001b[38;5;28mself\u001b[39m\u001b[38;5;241m.\u001b[39m_eof \u001b[38;5;129;01mand\u001b[39;00m \u001b[38;5;28mself\u001b[39m\u001b[38;5;241m.\u001b[39m_running_crc \u001b[38;5;241m!=\u001b[39m \u001b[38;5;28mself\u001b[39m\u001b[38;5;241m.\u001b[39m_expected_crc:\n",
      "\u001b[0;31mKeyboardInterrupt\u001b[0m: "
     ]
    }
   ],
   "source": [
    "#GET AVERAGE STEPS PERFECT TRANSITION PER MODEL AND ENVS\n",
    "envs = ['grid_3x3', 'grid_3x3_alias', 'grid_4x4', 'grid_4x4_alias']\n",
    "model_names = ['ours_v3','cscg_pose_ob_random_policy', 'cscg_pose_ob']\n",
    "nav_type = 'exploration'\n",
    "\n",
    "average_steps = [[0]*(len(envs)) for _ in range(len(model_names)+1)]\n",
    "for id_m, model_name in enumerate(model_names):\n",
    "    for id_e, env in enumerate(envs):\n",
    "        a_failure = 0\n",
    "        # i = 0\n",
    "        average_steps_model = []\n",
    "        # Set the path to the folder containing the excel files\n",
    "        if 'ours' in model_name:\n",
    "            who = 'ours'\n",
    "        else:\n",
    "            who = 'cscg'\n",
    "        folder_path = 'results/'+ env +'/' + who+'_'+ nav_type +'/' + model_name\n",
    "        df_list, filepath_list = retrieve_df_data_from_folder_path(folder_path,model_name, nav_type)\n",
    "        print('model', model_name, 'env', env,'number of tests:', len(df_list))\n",
    "        for df in df_list:\n",
    "            headers = list(df.columns.values)\n",
    "            stop_condition_header = [s for s in headers if 'stop_condition_' in s][0]\n",
    "            # i+=1\n",
    "            if df[stop_condition_header][0] == True:\n",
    "                average_steps_model.append(len(df['steps'])-1)\n",
    "            else:\n",
    "                a_failure+=1\n",
    "                # print('failure ', i)\n",
    "        print('there is ', a_failure, ' failures in this model/env exploration')\n",
    "        average_steps[id_m][id_e] = np.mean(average_steps_model)\n",
    "        #print('model', model_name,id_m, 'env', env, np.mean(average_steps_model))\n",
    "        #THIS ASSUMES WE HAVE SQUARED ENVS\n",
    "        dim_env = [substring for substring in env.split('_') if 'x' in substring][0]\n",
    "        average_steps[-1][id_e] =  int(dim_env[-1]) * 4 -1\n",
    "model_names.append('oracle')\n",
    "print(average_steps)"
   ]
  },
  {
   "cell_type": "code",
   "execution_count": null,
   "metadata": {},
   "outputs": [
    {
     "data": {
      "image/png": "[encoded data removed]",
      "text/plain": [
       "<Figure size 432x288 with 1 Axes>"
      ]
     },
     "metadata": {
      "needs_background": "light"
     },
     "output_type": "display_data"
    }
   ],
   "source": [
    "#BAR PLOTS AVERAGE_STEPS\n",
    "bar_plot(average_steps, envs, 'Average_steps', 'Environments', model_names)"
   ]
  },
  {
   "cell_type": "code",
   "execution_count": null,
   "metadata": {},
   "outputs": [
    {
     "name": "stdout",
     "output_type": "stream",
     "text": [
      "model cscg_pose_ob_random_policy env grid_3x3 number of tests: 13\n",
      "model cscg_pose_ob_random_policy env grid_3x3_alias number of tests: 12\n"
     ]
    },
    {
     "ename": "KeyboardInterrupt",
     "evalue": "",
     "output_type": "error",
     "traceback": [
      "\u001b[0;31m---------------------------------------------------------------------------\u001b[0m",
      "\u001b[0;31mKeyboardInterrupt\u001b[0m                         Traceback (most recent call last)",
      "Input \u001b[0;32mIn [8]\u001b[0m, in \u001b[0;36m<cell line: 7>\u001b[0;34m()\u001b[0m\n\u001b[1;32m     22\u001b[0m     who \u001b[38;5;241m=\u001b[39m \u001b[38;5;124m'\u001b[39m\u001b[38;5;124mcscg\u001b[39m\u001b[38;5;124m'\u001b[39m\n\u001b[1;32m     23\u001b[0m folder_path \u001b[38;5;241m=\u001b[39m \u001b[38;5;124m'\u001b[39m\u001b[38;5;124mresults/\u001b[39m\u001b[38;5;124m'\u001b[39m\u001b[38;5;241m+\u001b[39m env \u001b[38;5;241m+\u001b[39m\u001b[38;5;124m'\u001b[39m\u001b[38;5;124m/\u001b[39m\u001b[38;5;124m'\u001b[39m \u001b[38;5;241m+\u001b[39m who\u001b[38;5;241m+\u001b[39m\u001b[38;5;124m'\u001b[39m\u001b[38;5;124m_\u001b[39m\u001b[38;5;124m'\u001b[39m\u001b[38;5;241m+\u001b[39m nav_type \u001b[38;5;241m+\u001b[39m\u001b[38;5;124m'\u001b[39m\u001b[38;5;124m/\u001b[39m\u001b[38;5;124m'\u001b[39m \u001b[38;5;241m+\u001b[39m model_name\n\u001b[0;32m---> 24\u001b[0m df_list \u001b[38;5;241m=\u001b[39m \u001b[43mretrieve_df_data_from_folder_path\u001b[49m\u001b[43m(\u001b[49m\u001b[43mfolder_path\u001b[49m\u001b[43m,\u001b[49m\u001b[43mmodel_name\u001b[49m\u001b[43m,\u001b[49m\u001b[43m \u001b[49m\u001b[43mnav_type\u001b[49m\u001b[43m)\u001b[49m\n\u001b[1;32m     25\u001b[0m \u001b[38;5;28mprint\u001b[39m(\u001b[38;5;124m'\u001b[39m\u001b[38;5;124mmodel\u001b[39m\u001b[38;5;124m'\u001b[39m, model_name, \u001b[38;5;124m'\u001b[39m\u001b[38;5;124menv\u001b[39m\u001b[38;5;124m'\u001b[39m, env,\u001b[38;5;124m'\u001b[39m\u001b[38;5;124mnumber of tests:\u001b[39m\u001b[38;5;124m'\u001b[39m, \u001b[38;5;28mlen\u001b[39m(df_list))\n\u001b[1;32m     26\u001b[0m \u001b[38;5;28;01mfor\u001b[39;00m df \u001b[38;5;129;01min\u001b[39;00m df_list:\n",
      "Input \u001b[0;32mIn [2]\u001b[0m, in \u001b[0;36mretrieve_df_data_from_folder_path\u001b[0;34m(folder_path, model_name, nav_type)\u001b[0m\n\u001b[1;32m     13\u001b[0m file_path \u001b[38;5;241m=\u001b[39m os\u001b[38;5;241m.\u001b[39mpath\u001b[38;5;241m.\u001b[39mjoin(dirpath, file)\n\u001b[1;32m     14\u001b[0m \u001b[38;5;28;01mtry\u001b[39;00m:\n\u001b[0;32m---> 15\u001b[0m     df \u001b[38;5;241m=\u001b[39m \u001b[43mpd\u001b[49m\u001b[38;5;241;43m.\u001b[39;49m\u001b[43mread_excel\u001b[49m\u001b[43m(\u001b[49m\u001b[43mfile_path\u001b[49m\u001b[43m)\u001b[49m\n\u001b[1;32m     16\u001b[0m     \u001b[38;5;66;03m# df.fillna(value=0, inplace=True)  # Fill any blank cells with 'NA'\u001b[39;00m\n\u001b[1;32m     17\u001b[0m     df_list\u001b[38;5;241m.\u001b[39mappend(df)\n",
      "File \u001b[0;32m~/.local/lib/python3.8/site-packages/pandas/io/excel/_base.py:486\u001b[0m, in \u001b[0;36mread_excel\u001b[0;34m(io, sheet_name, header, names, index_col, usecols, dtype, engine, converters, true_values, false_values, skiprows, nrows, na_values, keep_default_na, na_filter, verbose, parse_dates, date_parser, date_format, thousands, decimal, comment, skipfooter, storage_options, dtype_backend)\u001b[0m\n\u001b[1;32m    480\u001b[0m     \u001b[38;5;28;01mraise\u001b[39;00m \u001b[38;5;167;01mValueError\u001b[39;00m(\n\u001b[1;32m    481\u001b[0m         \u001b[38;5;124m\"\u001b[39m\u001b[38;5;124mEngine should not be specified when passing \u001b[39m\u001b[38;5;124m\"\u001b[39m\n\u001b[1;32m    482\u001b[0m         \u001b[38;5;124m\"\u001b[39m\u001b[38;5;124man ExcelFile - ExcelFile already has the engine set\u001b[39m\u001b[38;5;124m\"\u001b[39m\n\u001b[1;32m    483\u001b[0m     )\n\u001b[1;32m    485\u001b[0m \u001b[38;5;28;01mtry\u001b[39;00m:\n\u001b[0;32m--> 486\u001b[0m     data \u001b[38;5;241m=\u001b[39m \u001b[43mio\u001b[49m\u001b[38;5;241;43m.\u001b[39;49m\u001b[43mparse\u001b[49m\u001b[43m(\u001b[49m\n\u001b[1;32m    487\u001b[0m \u001b[43m        \u001b[49m\u001b[43msheet_name\u001b[49m\u001b[38;5;241;43m=\u001b[39;49m\u001b[43msheet_name\u001b[49m\u001b[43m,\u001b[49m\n\u001b[1;32m    488\u001b[0m \u001b[43m        \u001b[49m\u001b[43mheader\u001b[49m\u001b[38;5;241;43m=\u001b[39;49m\u001b[43mheader\u001b[49m\u001b[43m,\u001b[49m\n\u001b[1;32m    489\u001b[0m \u001b[43m        \u001b[49m\u001b[43mnames\u001b[49m\u001b[38;5;241;43m=\u001b[39;49m\u001b[43mnames\u001b[49m\u001b[43m,\u001b[49m\n\u001b[1;32m    490\u001b[0m \u001b[43m        \u001b[49m\u001b[43mindex_col\u001b[49m\u001b[38;5;241;43m=\u001b[39;49m\u001b[43mindex_col\u001b[49m\u001b[43m,\u001b[49m\n\u001b[1;32m    491\u001b[0m \u001b[43m        \u001b[49m\u001b[43musecols\u001b[49m\u001b[38;5;241;43m=\u001b[39;49m\u001b[43musecols\u001b[49m\u001b[43m,\u001b[49m\n\u001b[1;32m    492\u001b[0m \u001b[43m        \u001b[49m\u001b[43mdtype\u001b[49m\u001b[38;5;241;43m=\u001b[39;49m\u001b[43mdtype\u001b[49m\u001b[43m,\u001b[49m\n\u001b[1;32m    493\u001b[0m \u001b[43m        \u001b[49m\u001b[43mconverters\u001b[49m\u001b[38;5;241;43m=\u001b[39;49m\u001b[43mconverters\u001b[49m\u001b[43m,\u001b[49m\n\u001b[1;32m    494\u001b[0m \u001b[43m        \u001b[49m\u001b[43mtrue_values\u001b[49m\u001b[38;5;241;43m=\u001b[39;49m\u001b[43mtrue_values\u001b[49m\u001b[43m,\u001b[49m\n\u001b[1;32m    495\u001b[0m \u001b[43m        \u001b[49m\u001b[43mfalse_values\u001b[49m\u001b[38;5;241;43m=\u001b[39;49m\u001b[43mfalse_values\u001b[49m\u001b[43m,\u001b[49m\n\u001b[1;32m    496\u001b[0m \u001b[43m        \u001b[49m\u001b[43mskiprows\u001b[49m\u001b[38;5;241;43m=\u001b[39;49m\u001b[43mskiprows\u001b[49m\u001b[43m,\u001b[49m\n\u001b[1;32m    497\u001b[0m \u001b[43m        \u001b[49m\u001b[43mnrows\u001b[49m\u001b[38;5;241;43m=\u001b[39;49m\u001b[43mnrows\u001b[49m\u001b[43m,\u001b[49m\n\u001b[1;32m    498\u001b[0m \u001b[43m        \u001b[49m\u001b[43mna_values\u001b[49m\u001b[38;5;241;43m=\u001b[39;49m\u001b[43mna_values\u001b[49m\u001b[43m,\u001b[49m\n\u001b[1;32m    499\u001b[0m \u001b[43m        \u001b[49m\u001b[43mkeep_default_na\u001b[49m\u001b[38;5;241;43m=\u001b[39;49m\u001b[43mkeep_default_na\u001b[49m\u001b[43m,\u001b[49m\n\u001b[1;32m    500\u001b[0m \u001b[43m        \u001b[49m\u001b[43mna_filter\u001b[49m\u001b[38;5;241;43m=\u001b[39;49m\u001b[43mna_filter\u001b[49m\u001b[43m,\u001b[49m\n\u001b[1;32m    501\u001b[0m \u001b[43m        \u001b[49m\u001b[43mverbose\u001b[49m\u001b[38;5;241;43m=\u001b[39;49m\u001b[43mverbose\u001b[49m\u001b[43m,\u001b[49m\n\u001b[1;32m    502\u001b[0m \u001b[43m        \u001b[49m\u001b[43mparse_dates\u001b[49m\u001b[38;5;241;43m=\u001b[39;49m\u001b[43mparse_dates\u001b[49m\u001b[43m,\u001b[49m\n\u001b[1;32m    503\u001b[0m \u001b[43m        \u001b[49m\u001b[43mdate_parser\u001b[49m\u001b[38;5;241;43m=\u001b[39;49m\u001b[43mdate_parser\u001b[49m\u001b[43m,\u001b[49m\n\u001b[1;32m    504\u001b[0m \u001b[43m        \u001b[49m\u001b[43mdate_format\u001b[49m\u001b[38;5;241;43m=\u001b[39;49m\u001b[43mdate_format\u001b[49m\u001b[43m,\u001b[49m\n\u001b[1;32m    505\u001b[0m \u001b[43m        \u001b[49m\u001b[43mthousands\u001b[49m\u001b[38;5;241;43m=\u001b[39;49m\u001b[43mthousands\u001b[49m\u001b[43m,\u001b[49m\n\u001b[1;32m    506\u001b[0m \u001b[43m        \u001b[49m\u001b[43mdecimal\u001b[49m\u001b[38;5;241;43m=\u001b[39;49m\u001b[43mdecimal\u001b[49m\u001b[43m,\u001b[49m\n\u001b[1;32m    507\u001b[0m \u001b[43m        \u001b[49m\u001b[43mcomment\u001b[49m\u001b[38;5;241;43m=\u001b[39;49m\u001b[43mcomment\u001b[49m\u001b[43m,\u001b[49m\n\u001b[1;32m    508\u001b[0m \u001b[43m        \u001b[49m\u001b[43mskipfooter\u001b[49m\u001b[38;5;241;43m=\u001b[39;49m\u001b[43mskipfooter\u001b[49m\u001b[43m,\u001b[49m\n\u001b[1;32m    509\u001b[0m \u001b[43m        \u001b[49m\u001b[43mdtype_backend\u001b[49m\u001b[38;5;241;43m=\u001b[39;49m\u001b[43mdtype_backend\u001b[49m\u001b[43m,\u001b[49m\n\u001b[1;32m    510\u001b[0m \u001b[43m    \u001b[49m\u001b[43m)\u001b[49m\n\u001b[1;32m    511\u001b[0m \u001b[38;5;28;01mfinally\u001b[39;00m:\n\u001b[1;32m    512\u001b[0m     \u001b[38;5;66;03m# make sure to close opened file handles\u001b[39;00m\n\u001b[1;32m    513\u001b[0m     \u001b[38;5;28;01mif\u001b[39;00m should_close:\n",
      "File \u001b[0;32m~/.local/lib/python3.8/site-packages/pandas/io/excel/_base.py:1551\u001b[0m, in \u001b[0;36mExcelFile.parse\u001b[0;34m(self, sheet_name, header, names, index_col, usecols, converters, true_values, false_values, skiprows, nrows, na_values, parse_dates, date_parser, date_format, thousands, comment, skipfooter, dtype_backend, **kwds)\u001b[0m\n\u001b[1;32m   1518\u001b[0m \u001b[38;5;28;01mdef\u001b[39;00m \u001b[38;5;21mparse\u001b[39m(\n\u001b[1;32m   1519\u001b[0m     \u001b[38;5;28mself\u001b[39m,\n\u001b[1;32m   1520\u001b[0m     sheet_name: \u001b[38;5;28mstr\u001b[39m \u001b[38;5;241m|\u001b[39m \u001b[38;5;28mint\u001b[39m \u001b[38;5;241m|\u001b[39m \u001b[38;5;28mlist\u001b[39m[\u001b[38;5;28mint\u001b[39m] \u001b[38;5;241m|\u001b[39m \u001b[38;5;28mlist\u001b[39m[\u001b[38;5;28mstr\u001b[39m] \u001b[38;5;241m|\u001b[39m \u001b[38;5;28;01mNone\u001b[39;00m \u001b[38;5;241m=\u001b[39m \u001b[38;5;241m0\u001b[39m,\n\u001b[0;32m   (...)\u001b[0m\n\u001b[1;32m   1538\u001b[0m     \u001b[38;5;241m*\u001b[39m\u001b[38;5;241m*\u001b[39mkwds,\n\u001b[1;32m   1539\u001b[0m ) \u001b[38;5;241m-\u001b[39m\u001b[38;5;241m>\u001b[39m DataFrame \u001b[38;5;241m|\u001b[39m \u001b[38;5;28mdict\u001b[39m[\u001b[38;5;28mstr\u001b[39m, DataFrame] \u001b[38;5;241m|\u001b[39m \u001b[38;5;28mdict\u001b[39m[\u001b[38;5;28mint\u001b[39m, DataFrame]:\n\u001b[1;32m   1540\u001b[0m     \u001b[38;5;124;03m\"\"\"\u001b[39;00m\n\u001b[1;32m   1541\u001b[0m \u001b[38;5;124;03m    Parse specified sheet(s) into a DataFrame.\u001b[39;00m\n\u001b[1;32m   1542\u001b[0m \n\u001b[0;32m   (...)\u001b[0m\n\u001b[1;32m   1549\u001b[0m \u001b[38;5;124;03m        DataFrame from the passed in Excel file.\u001b[39;00m\n\u001b[1;32m   1550\u001b[0m \u001b[38;5;124;03m    \"\"\"\u001b[39;00m\n\u001b[0;32m-> 1551\u001b[0m     \u001b[38;5;28;01mreturn\u001b[39;00m \u001b[38;5;28;43mself\u001b[39;49m\u001b[38;5;241;43m.\u001b[39;49m\u001b[43m_reader\u001b[49m\u001b[38;5;241;43m.\u001b[39;49m\u001b[43mparse\u001b[49m\u001b[43m(\u001b[49m\n\u001b[1;32m   1552\u001b[0m \u001b[43m        \u001b[49m\u001b[43msheet_name\u001b[49m\u001b[38;5;241;43m=\u001b[39;49m\u001b[43msheet_name\u001b[49m\u001b[43m,\u001b[49m\n\u001b[1;32m   1553\u001b[0m \u001b[43m        \u001b[49m\u001b[43mheader\u001b[49m\u001b[38;5;241;43m=\u001b[39;49m\u001b[43mheader\u001b[49m\u001b[43m,\u001b[49m\n\u001b[1;32m   1554\u001b[0m \u001b[43m        \u001b[49m\u001b[43mnames\u001b[49m\u001b[38;5;241;43m=\u001b[39;49m\u001b[43mnames\u001b[49m\u001b[43m,\u001b[49m\n\u001b[1;32m   1555\u001b[0m \u001b[43m        \u001b[49m\u001b[43mindex_col\u001b[49m\u001b[38;5;241;43m=\u001b[39;49m\u001b[43mindex_col\u001b[49m\u001b[43m,\u001b[49m\n\u001b[1;32m   1556\u001b[0m \u001b[43m        \u001b[49m\u001b[43musecols\u001b[49m\u001b[38;5;241;43m=\u001b[39;49m\u001b[43musecols\u001b[49m\u001b[43m,\u001b[49m\n\u001b[1;32m   1557\u001b[0m \u001b[43m        \u001b[49m\u001b[43mconverters\u001b[49m\u001b[38;5;241;43m=\u001b[39;49m\u001b[43mconverters\u001b[49m\u001b[43m,\u001b[49m\n\u001b[1;32m   1558\u001b[0m \u001b[43m        \u001b[49m\u001b[43mtrue_values\u001b[49m\u001b[38;5;241;43m=\u001b[39;49m\u001b[43mtrue_values\u001b[49m\u001b[43m,\u001b[49m\n\u001b[1;32m   1559\u001b[0m \u001b[43m        \u001b[49m\u001b[43mfalse_values\u001b[49m\u001b[38;5;241;43m=\u001b[39;49m\u001b[43mfalse_values\u001b[49m\u001b[43m,\u001b[49m\n\u001b[1;32m   1560\u001b[0m \u001b[43m        \u001b[49m\u001b[43mskiprows\u001b[49m\u001b[38;5;241;43m=\u001b[39;49m\u001b[43mskiprows\u001b[49m\u001b[43m,\u001b[49m\n\u001b[1;32m   1561\u001b[0m \u001b[43m        \u001b[49m\u001b[43mnrows\u001b[49m\u001b[38;5;241;43m=\u001b[39;49m\u001b[43mnrows\u001b[49m\u001b[43m,\u001b[49m\n\u001b[1;32m   1562\u001b[0m \u001b[43m        \u001b[49m\u001b[43mna_values\u001b[49m\u001b[38;5;241;43m=\u001b[39;49m\u001b[43mna_values\u001b[49m\u001b[43m,\u001b[49m\n\u001b[1;32m   1563\u001b[0m \u001b[43m        \u001b[49m\u001b[43mparse_dates\u001b[49m\u001b[38;5;241;43m=\u001b[39;49m\u001b[43mparse_dates\u001b[49m\u001b[43m,\u001b[49m\n\u001b[1;32m   1564\u001b[0m \u001b[43m        \u001b[49m\u001b[43mdate_parser\u001b[49m\u001b[38;5;241;43m=\u001b[39;49m\u001b[43mdate_parser\u001b[49m\u001b[43m,\u001b[49m\n\u001b[1;32m   1565\u001b[0m \u001b[43m        \u001b[49m\u001b[43mdate_format\u001b[49m\u001b[38;5;241;43m=\u001b[39;49m\u001b[43mdate_format\u001b[49m\u001b[43m,\u001b[49m\n\u001b[1;32m   1566\u001b[0m \u001b[43m        \u001b[49m\u001b[43mthousands\u001b[49m\u001b[38;5;241;43m=\u001b[39;49m\u001b[43mthousands\u001b[49m\u001b[43m,\u001b[49m\n\u001b[1;32m   1567\u001b[0m \u001b[43m        \u001b[49m\u001b[43mcomment\u001b[49m\u001b[38;5;241;43m=\u001b[39;49m\u001b[43mcomment\u001b[49m\u001b[43m,\u001b[49m\n\u001b[1;32m   1568\u001b[0m \u001b[43m        \u001b[49m\u001b[43mskipfooter\u001b[49m\u001b[38;5;241;43m=\u001b[39;49m\u001b[43mskipfooter\u001b[49m\u001b[43m,\u001b[49m\n\u001b[1;32m   1569\u001b[0m \u001b[43m        \u001b[49m\u001b[43mdtype_backend\u001b[49m\u001b[38;5;241;43m=\u001b[39;49m\u001b[43mdtype_backend\u001b[49m\u001b[43m,\u001b[49m\n\u001b[1;32m   1570\u001b[0m \u001b[43m        \u001b[49m\u001b[38;5;241;43m*\u001b[39;49m\u001b[38;5;241;43m*\u001b[39;49m\u001b[43mkwds\u001b[49m\u001b[43m,\u001b[49m\n\u001b[1;32m   1571\u001b[0m \u001b[43m    \u001b[49m\u001b[43m)\u001b[49m\n",
      "File \u001b[0;32m~/.local/lib/python3.8/site-packages/pandas/io/excel/_base.py:751\u001b[0m, in \u001b[0;36mBaseExcelReader.parse\u001b[0;34m(self, sheet_name, header, names, index_col, usecols, dtype, true_values, false_values, skiprows, nrows, na_values, verbose, parse_dates, date_parser, date_format, thousands, decimal, comment, skipfooter, dtype_backend, **kwds)\u001b[0m\n\u001b[1;32m    748\u001b[0m     sheet \u001b[38;5;241m=\u001b[39m \u001b[38;5;28mself\u001b[39m\u001b[38;5;241m.\u001b[39mget_sheet_by_index(asheetname)\n\u001b[1;32m    750\u001b[0m file_rows_needed \u001b[38;5;241m=\u001b[39m \u001b[38;5;28mself\u001b[39m\u001b[38;5;241m.\u001b[39m_calc_rows(header, index_col, skiprows, nrows)\n\u001b[0;32m--> 751\u001b[0m data \u001b[38;5;241m=\u001b[39m \u001b[38;5;28;43mself\u001b[39;49m\u001b[38;5;241;43m.\u001b[39;49m\u001b[43mget_sheet_data\u001b[49m\u001b[43m(\u001b[49m\u001b[43msheet\u001b[49m\u001b[43m,\u001b[49m\u001b[43m \u001b[49m\u001b[43mfile_rows_needed\u001b[49m\u001b[43m)\u001b[49m\n\u001b[1;32m    752\u001b[0m \u001b[38;5;28;01mif\u001b[39;00m \u001b[38;5;28mhasattr\u001b[39m(sheet, \u001b[38;5;124m\"\u001b[39m\u001b[38;5;124mclose\u001b[39m\u001b[38;5;124m\"\u001b[39m):\n\u001b[1;32m    753\u001b[0m     \u001b[38;5;66;03m# pyxlsb opens two TemporaryFiles\u001b[39;00m\n\u001b[1;32m    754\u001b[0m     sheet\u001b[38;5;241m.\u001b[39mclose()\n",
      "File \u001b[0;32m~/.local/lib/python3.8/site-packages/pandas/io/excel/_openpyxl.py:602\u001b[0m, in \u001b[0;36mOpenpyxlReader.get_sheet_data\u001b[0;34m(self, sheet, file_rows_needed)\u001b[0m\n\u001b[1;32m    600\u001b[0m data: \u001b[38;5;28mlist\u001b[39m[\u001b[38;5;28mlist\u001b[39m[Scalar]] \u001b[38;5;241m=\u001b[39m []\n\u001b[1;32m    601\u001b[0m last_row_with_data \u001b[38;5;241m=\u001b[39m \u001b[38;5;241m-\u001b[39m\u001b[38;5;241m1\u001b[39m\n\u001b[0;32m--> 602\u001b[0m \u001b[38;5;28;01mfor\u001b[39;00m row_number, row \u001b[38;5;129;01min\u001b[39;00m \u001b[38;5;28menumerate\u001b[39m(sheet\u001b[38;5;241m.\u001b[39mrows):\n\u001b[1;32m    603\u001b[0m     converted_row \u001b[38;5;241m=\u001b[39m [\u001b[38;5;28mself\u001b[39m\u001b[38;5;241m.\u001b[39m_convert_cell(cell) \u001b[38;5;28;01mfor\u001b[39;00m cell \u001b[38;5;129;01min\u001b[39;00m row]\n\u001b[1;32m    604\u001b[0m     \u001b[38;5;28;01mwhile\u001b[39;00m converted_row \u001b[38;5;129;01mand\u001b[39;00m converted_row[\u001b[38;5;241m-\u001b[39m\u001b[38;5;241m1\u001b[39m] \u001b[38;5;241m==\u001b[39m \u001b[38;5;124m\"\u001b[39m\u001b[38;5;124m\"\u001b[39m:\n\u001b[1;32m    605\u001b[0m         \u001b[38;5;66;03m# trim trailing empty elements\u001b[39;00m\n",
      "File \u001b[0;32m~/.local/lib/python3.8/site-packages/openpyxl/worksheet/_read_only.py:81\u001b[0m, in \u001b[0;36mReadOnlyWorksheet._cells_by_row\u001b[0;34m(self, min_col, min_row, max_col, max_row, values_only)\u001b[0m\n\u001b[1;32m     77\u001b[0m src \u001b[38;5;241m=\u001b[39m \u001b[38;5;28mself\u001b[39m\u001b[38;5;241m.\u001b[39m_get_source()\n\u001b[1;32m     78\u001b[0m parser \u001b[38;5;241m=\u001b[39m WorkSheetParser(src, \u001b[38;5;28mself\u001b[39m\u001b[38;5;241m.\u001b[39m_shared_strings,\n\u001b[1;32m     79\u001b[0m                          data_only\u001b[38;5;241m=\u001b[39m\u001b[38;5;28mself\u001b[39m\u001b[38;5;241m.\u001b[39mparent\u001b[38;5;241m.\u001b[39mdata_only, epoch\u001b[38;5;241m=\u001b[39m\u001b[38;5;28mself\u001b[39m\u001b[38;5;241m.\u001b[39mparent\u001b[38;5;241m.\u001b[39mepoch,\n\u001b[1;32m     80\u001b[0m                          date_formats\u001b[38;5;241m=\u001b[39m\u001b[38;5;28mself\u001b[39m\u001b[38;5;241m.\u001b[39mparent\u001b[38;5;241m.\u001b[39m_date_formats)\n\u001b[0;32m---> 81\u001b[0m \u001b[38;5;28;01mfor\u001b[39;00m idx, row \u001b[38;5;129;01min\u001b[39;00m parser\u001b[38;5;241m.\u001b[39mparse():\n\u001b[1;32m     82\u001b[0m     \u001b[38;5;28;01mif\u001b[39;00m max_row \u001b[38;5;129;01mis\u001b[39;00m \u001b[38;5;129;01mnot\u001b[39;00m \u001b[38;5;28;01mNone\u001b[39;00m \u001b[38;5;129;01mand\u001b[39;00m idx \u001b[38;5;241m>\u001b[39m max_row:\n\u001b[1;32m     83\u001b[0m         \u001b[38;5;28;01mbreak\u001b[39;00m\n",
      "File \u001b[0;32m~/.local/lib/python3.8/site-packages/openpyxl/worksheet/_reader.py:167\u001b[0m, in \u001b[0;36mWorkSheetParser.parse\u001b[0;34m(self)\u001b[0m\n\u001b[1;32m    165\u001b[0m     element\u001b[38;5;241m.\u001b[39mclear()\n\u001b[1;32m    166\u001b[0m \u001b[38;5;28;01melif\u001b[39;00m tag_name \u001b[38;5;241m==\u001b[39m ROW_TAG:\n\u001b[0;32m--> 167\u001b[0m     row \u001b[38;5;241m=\u001b[39m \u001b[38;5;28;43mself\u001b[39;49m\u001b[38;5;241;43m.\u001b[39;49m\u001b[43mparse_row\u001b[49m\u001b[43m(\u001b[49m\u001b[43melement\u001b[49m\u001b[43m)\u001b[49m\n\u001b[1;32m    168\u001b[0m     element\u001b[38;5;241m.\u001b[39mclear()\n\u001b[1;32m    169\u001b[0m     \u001b[38;5;28;01myield\u001b[39;00m row\n",
      "File \u001b[0;32m~/.local/lib/python3.8/site-packages/openpyxl/worksheet/_reader.py:303\u001b[0m, in \u001b[0;36mWorkSheetParser.parse_row\u001b[0;34m(self, row)\u001b[0m\n\u001b[1;32m    299\u001b[0m \u001b[38;5;28;01mif\u001b[39;00m keys \u001b[38;5;241m-\u001b[39m {\u001b[38;5;124m'\u001b[39m\u001b[38;5;124mr\u001b[39m\u001b[38;5;124m'\u001b[39m, \u001b[38;5;124m'\u001b[39m\u001b[38;5;124mspans\u001b[39m\u001b[38;5;124m'\u001b[39m}:\n\u001b[1;32m    300\u001b[0m     \u001b[38;5;66;03m# don't create dimension objects unless they have relevant information\u001b[39;00m\n\u001b[1;32m    301\u001b[0m     \u001b[38;5;28mself\u001b[39m\u001b[38;5;241m.\u001b[39mrow_dimensions[\u001b[38;5;28mstr\u001b[39m(\u001b[38;5;28mself\u001b[39m\u001b[38;5;241m.\u001b[39mrow_counter)] \u001b[38;5;241m=\u001b[39m attrs\n\u001b[0;32m--> 303\u001b[0m cells \u001b[38;5;241m=\u001b[39m [\u001b[38;5;28mself\u001b[39m\u001b[38;5;241m.\u001b[39mparse_cell(el) \u001b[38;5;28;01mfor\u001b[39;00m el \u001b[38;5;129;01min\u001b[39;00m row]\n\u001b[1;32m    304\u001b[0m \u001b[38;5;28;01mreturn\u001b[39;00m \u001b[38;5;28mself\u001b[39m\u001b[38;5;241m.\u001b[39mrow_counter, cells\n",
      "File \u001b[0;32m~/.local/lib/python3.8/site-packages/openpyxl/worksheet/_reader.py:303\u001b[0m, in \u001b[0;36m<listcomp>\u001b[0;34m(.0)\u001b[0m\n\u001b[1;32m    299\u001b[0m \u001b[38;5;28;01mif\u001b[39;00m keys \u001b[38;5;241m-\u001b[39m {\u001b[38;5;124m'\u001b[39m\u001b[38;5;124mr\u001b[39m\u001b[38;5;124m'\u001b[39m, \u001b[38;5;124m'\u001b[39m\u001b[38;5;124mspans\u001b[39m\u001b[38;5;124m'\u001b[39m}:\n\u001b[1;32m    300\u001b[0m     \u001b[38;5;66;03m# don't create dimension objects unless they have relevant information\u001b[39;00m\n\u001b[1;32m    301\u001b[0m     \u001b[38;5;28mself\u001b[39m\u001b[38;5;241m.\u001b[39mrow_dimensions[\u001b[38;5;28mstr\u001b[39m(\u001b[38;5;28mself\u001b[39m\u001b[38;5;241m.\u001b[39mrow_counter)] \u001b[38;5;241m=\u001b[39m attrs\n\u001b[0;32m--> 303\u001b[0m cells \u001b[38;5;241m=\u001b[39m [\u001b[38;5;28;43mself\u001b[39;49m\u001b[38;5;241;43m.\u001b[39;49m\u001b[43mparse_cell\u001b[49m\u001b[43m(\u001b[49m\u001b[43mel\u001b[49m\u001b[43m)\u001b[49m \u001b[38;5;28;01mfor\u001b[39;00m el \u001b[38;5;129;01min\u001b[39;00m row]\n\u001b[1;32m    304\u001b[0m \u001b[38;5;28;01mreturn\u001b[39;00m \u001b[38;5;28mself\u001b[39m\u001b[38;5;241m.\u001b[39mrow_counter, cells\n",
      "File \u001b[0;32m~/.local/lib/python3.8/site-packages/openpyxl/worksheet/_reader.py:242\u001b[0m, in \u001b[0;36mWorkSheetParser.parse_cell\u001b[0;34m(self, element)\u001b[0m\n\u001b[1;32m    240\u001b[0m                 value \u001b[38;5;241m=\u001b[39m parse_richtext_string(child)\n\u001b[1;32m    241\u001b[0m             \u001b[38;5;28;01melse\u001b[39;00m:\n\u001b[0;32m--> 242\u001b[0m                 value \u001b[38;5;241m=\u001b[39m \u001b[43mText\u001b[49m\u001b[38;5;241;43m.\u001b[39;49m\u001b[43mfrom_tree\u001b[49m\u001b[43m(\u001b[49m\u001b[43mchild\u001b[49m\u001b[43m)\u001b[49m\u001b[38;5;241m.\u001b[39mcontent\n\u001b[1;32m    244\u001b[0m \u001b[38;5;28;01mreturn\u001b[39;00m {\u001b[38;5;124m'\u001b[39m\u001b[38;5;124mrow\u001b[39m\u001b[38;5;124m'\u001b[39m:row, \u001b[38;5;124m'\u001b[39m\u001b[38;5;124mcolumn\u001b[39m\u001b[38;5;124m'\u001b[39m:column, \u001b[38;5;124m'\u001b[39m\u001b[38;5;124mvalue\u001b[39m\u001b[38;5;124m'\u001b[39m:value, \u001b[38;5;124m'\u001b[39m\u001b[38;5;124mdata_type\u001b[39m\u001b[38;5;124m'\u001b[39m:data_type, \u001b[38;5;124m'\u001b[39m\u001b[38;5;124mstyle_id\u001b[39m\u001b[38;5;124m'\u001b[39m:style_id}\n",
      "File \u001b[0;32m~/.local/lib/python3.8/site-packages/openpyxl/descriptors/serialisable.py:74\u001b[0m, in \u001b[0;36mSerialisable.from_tree\u001b[0;34m(cls, node)\u001b[0m\n\u001b[1;32m     71\u001b[0m     attrib[\u001b[38;5;124m\"\u001b[39m\u001b[38;5;124mattr_text\u001b[39m\u001b[38;5;124m\"\u001b[39m] \u001b[38;5;241m=\u001b[39m node\u001b[38;5;241m.\u001b[39mtext\n\u001b[1;32m     73\u001b[0m \u001b[38;5;28;01mfor\u001b[39;00m el \u001b[38;5;129;01min\u001b[39;00m node:\n\u001b[0;32m---> 74\u001b[0m     tag \u001b[38;5;241m=\u001b[39m \u001b[43mlocalname\u001b[49m\u001b[43m(\u001b[49m\u001b[43mel\u001b[49m\u001b[43m)\u001b[49m\n\u001b[1;32m     75\u001b[0m     \u001b[38;5;28;01mif\u001b[39;00m tag \u001b[38;5;129;01min\u001b[39;00m KEYWORDS:\n\u001b[1;32m     76\u001b[0m         tag \u001b[38;5;241m=\u001b[39m \u001b[38;5;124m\"\u001b[39m\u001b[38;5;124m_\u001b[39m\u001b[38;5;124m\"\u001b[39m \u001b[38;5;241m+\u001b[39m tag\n",
      "File \u001b[0;32m~/.local/lib/python3.8/site-packages/openpyxl/xml/functions.py:80\u001b[0m, in \u001b[0;36mlocalname\u001b[0;34m(node)\u001b[0m\n\u001b[1;32m     78\u001b[0m \u001b[38;5;28;01mif\u001b[39;00m callable(node\u001b[38;5;241m.\u001b[39mtag):\n\u001b[1;32m     79\u001b[0m     \u001b[38;5;28;01mreturn\u001b[39;00m \u001b[38;5;124m\"\u001b[39m\u001b[38;5;124mcomment\u001b[39m\u001b[38;5;124m\"\u001b[39m\n\u001b[0;32m---> 80\u001b[0m m \u001b[38;5;241m=\u001b[39m \u001b[43mNS_REGEX\u001b[49m\u001b[38;5;241;43m.\u001b[39;49m\u001b[43mmatch\u001b[49m\u001b[43m(\u001b[49m\u001b[43mnode\u001b[49m\u001b[38;5;241;43m.\u001b[39;49m\u001b[43mtag\u001b[49m\u001b[43m)\u001b[49m\n\u001b[1;32m     81\u001b[0m \u001b[38;5;28;01mreturn\u001b[39;00m m\u001b[38;5;241m.\u001b[39mgroup(\u001b[38;5;124m'\u001b[39m\u001b[38;5;124mlocalname\u001b[39m\u001b[38;5;124m'\u001b[39m)\n",
      "\u001b[0;31mKeyboardInterrupt\u001b[0m: "
     ]
    }
   ],
   "source": [
    "#GET AVERAGE STEPS DISCOVERED ALL STATES PER MODEL AND ENVS\n",
    "envs = ['grid_3x3', 'grid_3x3_alias', 'grid_4x4', 'grid_4x4_alias']\n",
    "model_names = ['cscg_pose_ob_random_policy', 'cscg_pose_ob','ours_v3']\n",
    "nav_type = 'exploration'\n",
    "\n",
    "average_steps = [[0]*(len(envs)) for _ in range(len(model_names)+1)]\n",
    "for id_m, model_name in enumerate(model_names):\n",
    "    for id_e, env in enumerate(envs):\n",
    " \n",
    "        #Get n_rooms\n",
    "        dim_env = [substring for substring in env.split('_') if 'x' in substring][0]\n",
    "        width_dim_env = int(dim_env[-1])\n",
    "        height_dim_env = int(dim_env[0])\n",
    "        n_rooms = width_dim_env* height_dim_env\n",
    "\n",
    "\n",
    "        average_steps_model = []\n",
    "        # Set the path to the folder containing the excel files\n",
    "        if 'ours' in model_name:\n",
    "            who = 'ours'\n",
    "        else:\n",
    "            who = 'cscg'\n",
    "        folder_path = 'results/'+ env +'/' + who+'_'+ nav_type +'/' + model_name\n",
    "        df_list, filepath_list = retrieve_df_data_from_folder_path(folder_path,model_name, nav_type)\n",
    "        print('model', model_name, 'env', env,'number of tests:', len(df_list))\n",
    "        for df in df_list:\n",
    "            pose_list = []\n",
    "            for n_steps, pose in enumerate(df['poses']):\n",
    "                if pose not in pose_list:\n",
    "                    pose_list.append(pose)\n",
    "                    if len(pose_list) == n_rooms:\n",
    "                        average_steps_model.append(n_steps)\n",
    "                        #print('model', model_name,id_m, 'env', env, np.mean(average_steps_model))\n",
    "                        break\n",
    "        average_steps[id_m][id_e] = np.mean(average_steps_model)\n",
    "        #print('model', model_name,id_m, 'env', env, np.mean(average_steps_model))\n",
    "        \n",
    "        average_steps[-1][id_e] =  int(dim_env[-1]) * 4 -1\n",
    "model_names.append('oracle')"
   ]
  },
  {
   "cell_type": "code",
   "execution_count": null,
   "metadata": {},
   "outputs": [
    {
     "data": {
      "image/png": "[encoded data removed]",
      "text/plain": [
       "<Figure size 432x288 with 1 Axes>"
      ]
     },
     "metadata": {
      "needs_background": "light"
     },
     "output_type": "display_data"
    }
   ],
   "source": [
    "#BAR PLOTS AVERAGE_STEPS\n",
    "bar_plot(average_steps, envs, 'All_rooms_discovery_average_steps', 'Environments', model_names)"
   ]
  },
  {
   "cell_type": "markdown",
   "metadata": {},
   "source": [
    "### Goal"
   ]
  },
  {
   "cell_type": "code",
   "execution_count": null,
   "metadata": {},
   "outputs": [
    {
     "name": "stderr",
     "output_type": "stream",
     "text": [
      "/home/idlab332/.local/lib/python3.8/site-packages/numpy/core/fromnumeric.py:3474: RuntimeWarning: Mean of empty slice.\n",
      "  return _methods._mean(a, axis=axis, dtype=dtype,\n",
      "/home/idlab332/.local/lib/python3.8/site-packages/numpy/core/_methods.py:189: RuntimeWarning: invalid value encountered in double_scalars\n",
      "  ret = ret.dtype.type(ret / rcount)\n"
     ]
    },
    {
     "name": "stdout",
     "output_type": "stream",
     "text": [
      "[5.0, 2.5, nan, nan, 3.0, nan]\n"
     ]
    },
    {
     "data": {
      "image/png": "[encoded data removed]",
      "text/plain": [
       "<Figure size 432x288 with 1 Axes>"
      ]
     },
     "metadata": {
      "needs_background": "light"
     },
     "output_type": "display_data"
    }
   ],
   "source": [
    "average_steps_model = [[] for _ in range(6)]\n",
    "\n",
    "# Append elements to each sublist\n",
    "average_steps_model[0].append(5)\n",
    "average_steps_model[1].append(2)\n",
    "average_steps_model[1].append(3)\n",
    "average_steps_model[4].append(3)\n",
    "\n",
    "# Convert each sublist to a numpy array before calculating mean\n",
    "means = [np.mean(np.array(sublist)) for sublist in average_steps_model]\n",
    "print(means)\n",
    "# Filter out nan values and corresponding indices\n",
    "filtered_means = [mean for mean in means if not np.isnan(mean)]\n",
    "indices = [i for i, mean in enumerate(means) if not np.isnan(mean)]\n",
    "\n",
    "# Plot the non-nan values\n",
    "plt.plot(indices, filtered_means, marker='o')\n",
    "plt.xlabel('Sublist Index')\n",
    "plt.ylabel('Mean Value')\n",
    "plt.title('Means of Sublists (excluding nan)')\n",
    "plt.show()"
   ]
  },
  {
   "cell_type": "code",
   "execution_count": 10,
   "metadata": {},
   "outputs": [],
   "source": [
    "from envs.modules import get_l2_distance, astar\n",
    "\n",
    "def get_short_term_goal(env, input=None):\n",
    "    if input is None:\n",
    "        start_pose = env.curr_loc\n",
    "    elif isinstance(input, dict):\n",
    "        start_pose = input['pose_pred']\n",
    "    else:\n",
    "        raise ValueError('get_short_term_goal:Input type not recognised ' + str(type(input)))\n",
    "\n",
    "    output = [0,0,0]\n",
    "    goal_poses_row, goal_poses_col = env.get_goal_position(env.goal_ob)\n",
    "    all_relative_dists = []\n",
    "    for r, c in zip(goal_poses_row,goal_poses_col):\n",
    "        relative_dist = get_l2_distance(r, start_pose[0], c, start_pose[1])\n",
    "        all_relative_dists.append(relative_dist)\n",
    "    if len(all_relative_dists) == 0:\n",
    "        #Goal not in env\n",
    "        return None\n",
    "    closest_goal_idx = np.argmin(all_relative_dists)\n",
    "    \n",
    "    goal_row = goal_poses_row[closest_goal_idx]\n",
    "    goal_col = goal_poses_col[closest_goal_idx]\n",
    "    print('start_pose', start_pose,'(goal_row, goal_col)', (goal_row, goal_col))\n",
    "    path = astar(env.rooms, start_pose, (goal_row, goal_col))\n",
    "    print('path', path)\n",
    "    if path == None:\n",
    "        return None\n",
    "    output[0] = int((0%360.)/5.) #angle\n",
    "    output[1] = len(path) -1 #step dist\n",
    "    output[2] = path #gt path #NB: might not be the unique best path\n",
    "    return output"
   ]
  },
  {
   "cell_type": "code",
   "execution_count": 74,
   "metadata": {},
   "outputs": [
    {
     "name": "stdout",
     "output_type": "stream",
     "text": [
      "model ours_v3 env grid_3x3 number of tests: 16\n",
      "(0, 0) 2 [(0, 0), (0, 1), (1, 1)] 2\n",
      "(0, 1) 2 [(0, 1), (0, 2), (1, 2)] 2\n",
      "(1, 2) 2 [(1, 2), (1, 1), (1, 0)] 2\n",
      "(0, 1) 3 [(0, 1), (0, 2), (1, 2), (2, 2)] 3\n",
      "(0, 0) 1 [(0, 0), (1, 0)] 1\n",
      "(0, 0) 3 [(0, 0), (0, 1), (0, 2), (1, 2)] 3\n",
      "(1, 2) 1 [(1, 2), (2, 2)] 1\n",
      "(1, 1) 0 [(1, 1)] 0\n",
      "(0, 0) 3 [(0, 0), (0, 1), (0, 2), (1, 2)] 3\n",
      "(1, 2) 1 [(1, 2), (1, 1)] 1\n",
      "(1, 1) 0 [(1, 1)] 0\n",
      "(0, 0) 4 [(0, 0), (0, 1), (0, 2), (1, 2), (2, 2)] 4\n",
      "(0, 0) 4 [(0, 0), (0, 1), (0, 2), (1, 2), (2, 2)] 4\n",
      "(0, 1) 2 [(0, 1), (0, 0), (1, 0)] 2\n",
      "(1, 2) 0 [(1, 2)] 0\n",
      "(0, 1) 1 [(0, 1), (1, 1)] 1\n",
      "there is  0  failures in this model/env goal reaching\n",
      "model[env[n_steps]]\n",
      "[[[0.0, 1.0, 2.0, 3.0, 4.0, nan, nan]]]\n",
      "[[[0.0, 1.0, 2.0, 3.0, 4.0, nan, nan]]]\n",
      "model[n_steps]\n",
      "[[ 0.  1.  2.  3.  4. nan nan]]\n",
      "[[ 0.  1.  2.  3.  4. nan nan]]\n"
     ]
    }
   ],
   "source": [
    "#GET AVERAGE STEPS REACHING GOAL BY GOAL DIST TO START\n",
    "from envs.minigrid import GridWorldEnv\n",
    "import warnings\n",
    "warnings.filterwarnings('ignore')\n",
    "envs = ['grid_3x3', 'grid_3x3_alias', 'grid_4x4', 'grid_4x4_alias']#\n",
    "model_names = ['ours_v3_wt_prior']#, 'ours_v3', 'ours_v3_wt_prior', 'cscg_pose_ob_random_policy', 'cscg_pose_ob']\n",
    "nav_type = 'goal'\n",
    "\n",
    "possible_actions = {'LEFT':0, 'RIGHT':1, 'UP':2, 'DOWN':3, 'STAY':4}\n",
    "average_steps = [[0]*(len(envs)) for _ in range(len(model_names))]\n",
    "oracle_a_steps = [[0]*(len(envs)) for _ in range(len(model_names))]\n",
    "\n",
    "for id_m, model_name in enumerate(model_names):\n",
    "    if 'wt_prior' in model_name:\n",
    "        load_model = True\n",
    "        model_name = 'ours_v3'\n",
    "    else:\n",
    "        load_model = False\n",
    "    for id_e, env in enumerate(envs):\n",
    "        a_failure = 0\n",
    "        i = 0\n",
    "        average_steps_model = [[] for _ in range(7)]\n",
    "        oracle_a_steps_model = [[] for _ in range(7)]\n",
    "        # Set the path to the folder containing the excel files\n",
    "        if 'ours' in model_name:\n",
    "            who = 'ours'\n",
    "        else:\n",
    "            who = 'cscg'\n",
    "        folder_path = 'results/'+ env +'/' + who+'_'+ nav_type\n",
    "        df_list, filepath_list = retrieve_df_data_from_folder_path(folder_path,model_name, nav_type, load_model =load_model)\n",
    "        print('model', model_name, 'env', env,'number of tests:', len(df_list))\n",
    "        for df, filepath in zip(df_list, filepath_list):\n",
    "            i+=1\n",
    "            # print(df['goal'][0])\n",
    "            env_setup = GridWorldEnv(env, possible_actions, goal=df['goal'][0])\n",
    "            _,_ = env_setup.reset(eval(df['poses'][0]))\n",
    "            output = env_setup.get_short_term_goal()\n",
    "            if output == None: #Goal does not exist in env\n",
    "                continue\n",
    "            headers = list(df.columns.values)\n",
    "            stop_condition_header = [s for s in headers if 'stop_condition_' in s][0]\n",
    "            \n",
    "            if df[stop_condition_header][0] == True or df[stop_condition_header][0]>0:\n",
    "                print(df['poses'][0], output[1], output[2], len(df['steps'])-2)\n",
    "                #test = get_short_term_goal(env_setup)\n",
    "                # if output[1] == 0:\n",
    "                #     print(i,'n_steps', len(df['steps'])-2, 'oracle_steps', output[1])\n",
    "                if ( len(df['steps'])-2 - output[1]) >2:\n",
    "                    print(filepath)\n",
    "                average_steps_model[output[1]].append(len(df['steps'])-2) #-2 because we remove the 'STAY' action\n",
    "                oracle_a_steps_model[output[1]].append(output[1])\n",
    "            else:\n",
    "                a_failure+=1\n",
    "\n",
    "                print('failure ', i)\n",
    "        print('there is ', a_failure, ' failures in this model/env goal reaching')\n",
    "        means = [np.mean(np.array(sublist)) for sublist in average_steps_model]\n",
    "        average_steps[id_m][id_e] = means\n",
    "        means = [np.mean(np.array(sublist)) for sublist in oracle_a_steps_model]\n",
    "        oracle_a_steps[id_m][id_e] = means\n",
    "        #print('model', model_name,id_m, 'env', env, np.mean(average_steps_model))\n",
    "        #THIS ASSUMES WE HAVE SQUARED ENVS\n",
    "#         dim_env = [substring for substring in env.split('_') if 'x' in substring][0]\n",
    "#         average_steps[-1][id_e] =  int(dim_env[-1]) * 4 -1\n",
    "# model_names.append('oracle')\n",
    "print('model[env[n_steps]]')        \n",
    "print(average_steps)\n",
    "print(oracle_a_steps)\n",
    "\n",
    "oracle_a_steps = np.nanmean(np.array(oracle_a_steps), axis=1)\n",
    "average_steps = np.nanmean(np.array(average_steps), axis=1)\n",
    "\n",
    "print('model[n_steps]')     \n",
    "print(average_steps)\n",
    "print(oracle_a_steps)\n",
    "# oracle_a_steps[0][0] = 5.0\n",
    "# print(oracle_a_steps)"
   ]
  },
  {
   "cell_type": "code",
   "execution_count": 59,
   "metadata": {},
   "outputs": [
    {
     "name": "stdout",
     "output_type": "stream",
     "text": [
      "[[[ 0.  1.  2. nan nan nan nan]\n",
      "  [ 0.  1.  1. nan nan nan nan]]]\n"
     ]
    },
    {
     "data": {
      "text/plain": [
       "array([[0. , 1. , 1.5, nan, nan, nan, nan]])"
      ]
     },
     "execution_count": 59,
     "metadata": {},
     "output_type": "execute_result"
    }
   ],
   "source": [
    "array_data = np.array(oracle_a_steps)\n",
    "array_data[0][0][2] = 2.0\n",
    "array_data[0][1][2] = 1.0\n",
    "print(array_data)\n",
    "# Calculate the mean along the specified axis (axis=2 for sub-sub lists)\n",
    "mean_values = np.nanmean(array_data, axis=1)\n",
    "mean_values"
   ]
  }
 ],
 "metadata": {
  "kernelspec": {
   "display_name": "ozgqn",
   "language": "python",
   "name": "python3"
  },
  "language_info": {
   "codemirror_mode": {
    "name": "ipython",
    "version": 3
   },
   "file_extension": ".py",
   "mimetype": "text/x-python",
   "name": "python",
   "nbconvert_exporter": "python",
   "pygments_lexer": "ipython3",
   "version": "3.8.16"
  }
 },
 "nbformat": 4,
 "nbformat_minor": 2
}
