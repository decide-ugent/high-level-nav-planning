{
 "cells": [
  {
   "cell_type": "code",
   "execution_count": 1,
   "metadata": {},
   "outputs": [],
   "source": [
    "#TEST IMPORTS\n",
    "import numpy as np\n",
    "from ours.V3_3 import Ours_V3_3 \n",
    "from ours.V1 import Ours_V1\n",
    "from cscg.cscg import CHMM, datagen_structured_obs_room\n",
    "\n",
    "from envs.minigrid import GridWorldEnv\n",
    "from visualisation_tools import *\n",
    "import time\n",
    "import pickle"
   ]
  },
  {
   "cell_type": "markdown",
   "metadata": {},
   "source": [
    "## MINIGRID SETUP"
   ]
  },
  {
   "cell_type": "code",
   "execution_count": 2,
   "metadata": {},
   "outputs": [
    {
     "data": {
      "text/plain": [
       "array([[0., 0., 0.]])"
      ]
     },
     "execution_count": 2,
     "metadata": {},
     "output_type": "execute_result"
    }
   ],
   "source": [
    "output= np.zeros((2 + 1))\n",
    "\n",
    "output.reshape(1,3)"
   ]
  },
  {
   "cell_type": "code",
   "execution_count": 3,
   "metadata": {},
   "outputs": [],
   "source": [
    "# rooms = np.array(\n",
    "#     [\n",
    "#         [0, 0, 1],\n",
    "#         [2, 0, 4],\n",
    "#         [3, 3, 3],\n",
    "#     ]\n",
    "# )\n",
    "rooms = np.array(\n",
    "            [\n",
    "                [0, 1, 2],\n",
    "                [5, 4, 3],\n",
    "                [6, 7, 8],\n",
    "            ]\n",
    "        ) \n",
    "# rooms = np.array(\n",
    "#     [\n",
    "#         [0, 0, 1, 4],\n",
    "#         [2, 0, 1, 3],\n",
    "#         [3, 3, 3, 0],\n",
    "#     ]\n",
    "# ) #3x4 rooms, 1 ob per room\n",
    "\n",
    "# rooms = np.array(\n",
    "#     [\n",
    "#         [0, 1],\n",
    "#         [2, 3]\n",
    "#     ]\n",
    "# )"
   ]
  },
  {
   "cell_type": "code",
   "execution_count": 4,
   "metadata": {},
   "outputs": [],
   "source": [
    "#ASSIGN COLORS TO ROOMS IDS\n",
    "\n",
    "custom_colors = (\n",
    "    np.array(\n",
    "        [\n",
    "            [255, 0, 0],\n",
    "            [0, 255, 0],\n",
    "            [50,50, 255],\n",
    "            [112, 39, 195],\n",
    "            [255, 255, 0],\n",
    "            [100, 100, 100],\n",
    "            [0, 0, 0],\n",
    "            [255, 255, 255],\n",
    "            \n",
    "        ]\n",
    "    )\n",
    "    / 256\n",
    ")\n",
    "\n",
    "cmap = create_custom_cmap(custom_colors[:len(np.unique(rooms))])"
   ]
  },
  {
   "cell_type": "code",
   "execution_count": 5,
   "metadata": {},
   "outputs": [],
   "source": [
    "actions = {'LEFT':0, 'RIGHT':1,'UP':2, 'DOWN':3, 'STAY':4}\n",
    "desired_state_mapping = {(i * rooms.shape[1] + j): (i, j) for i in range(rooms.shape[0]) for j in range(rooms.shape[1])}"
   ]
  },
  {
   "cell_type": "code",
   "execution_count": 6,
   "metadata": {},
   "outputs": [],
   "source": [
    "def define_perfect_B(env,rooms, actions):\n",
    "    \"\"\" The perfect B is defined as B[next_state, prev_state, action]\"\"\"\n",
    "    #perfect B for this room config\n",
    "    desired_state_mapping = {(i * rooms.shape[1] + j): (i, j) for i in range(rooms.shape[0]) for j in range(rooms.shape[1])}\n",
    "    P = {}\n",
    "    dim = rooms.shape\n",
    "    for state_index, xy_coordinates in desired_state_mapping.items():\n",
    "        P[state_index] = {a : [] for a in range(len(actions))}\n",
    "        for action in actions.values():\n",
    "            pose = env.next_p_given_a_known_env(xy_coordinates, action)\n",
    "            #print('action', action, 'state coordinates', state_index, xy_coordinates, 'next pose', pose)\n",
    "            next_state_idx = next(key for key, value in desired_state_mapping.items() if value == pose)\n",
    "            P[state_index][action] = next_state_idx\n",
    "\n",
    "\n",
    "    num_states = len(desired_state_mapping)\n",
    "    B = np.zeros([num_states, num_states, len(actions)])\n",
    "    # print(B.shape)\n",
    "    for s in range(num_states):\n",
    "        # print('s', s, perfect_state_mapping[s])\n",
    "        for a in range(len(actions)):\n",
    "            ns = int(P[s][a])\n",
    "            # print('ps', s, 'a', a, 'ns',ns)\n",
    "            B[ns, s, a] = 1\n",
    "    return B, desired_state_mapping\n",
    "\n",
    "def agent_B_match_ideal_B_v2(agent_B, perfect_B, agent_state_mapping, desired_state_mapping, actions, tolerance_margin = 0.3):\n",
    "    \"\"\"Check if the values == 1 in perfect_B are filled with values relatively close at tolerance level\"\"\"\n",
    "    room_valid_state_agent= { k:v for k, v in agent_state_mapping.items() if k in desired_state_mapping.values() }\n",
    "\n",
    "    if len(room_valid_state_agent) < len(desired_state_mapping):\n",
    "        return False\n",
    "    rearranged_B = B_to_ideal_B(agent_B, actions,desired_state_mapping, room_valid_state_agent)\n",
    "    rearranged_B = rearranged_B[:len(desired_state_mapping),:len(desired_state_mapping),:]\n",
    "    if rearranged_B.shape != perfect_B.shape:\n",
    "        raise 'rearranged_B.shape should match B.shape'\n",
    "    non_zero_mask = perfect_B > 0\n",
    "    matching_indices = np.where(non_zero_mask & (np.abs(perfect_B - rearranged_B) <= tolerance_margin))\n",
    "    match_result = np.array_equal(np.array(matching_indices) ,np.array(np.where(non_zero_mask)))\n",
    "    \n",
    "    return match_result"
   ]
  },
  {
   "cell_type": "code",
   "execution_count": 61,
   "metadata": {},
   "outputs": [
    {
     "name": "stdout",
     "output_type": "stream",
     "text": [
      "[[0 0 1]\n",
      " [2 0 4]\n",
      " [3 3 3]]\n"
     ]
    }
   ],
   "source": [
    "#TEST MODELS INIT\n",
    "\n",
    "env = GridWorldEnv('grid_3x3_alias', actions,\\\n",
    "                        max_steps=300, goal=-1)\n",
    "start_pose = (0,0)\n",
    "obs,_ = env.reset(start_pose)\n",
    "ob, pose = obs\n",
    "start_state_idx = env.get_state(start_pose)\n",
    "\n",
    "goal = 1\n",
    "print(env.rooms)\n"
   ]
  },
  {
   "cell_type": "markdown",
   "metadata": {},
   "source": [
    "## LOAD MODELS"
   ]
  },
  {
   "cell_type": "code",
   "execution_count": 8,
   "metadata": {},
   "outputs": [],
   "source": [
    "def load_object(load_path):            \n",
    "    with open(load_path, \"rb\") as inp:\n",
    "        agent = pickle.load(inp)\n",
    "    return agent\n"
   ]
  },
  {
   "cell_type": "code",
   "execution_count": 9,
   "metadata": {},
   "outputs": [
    {
     "ename": "ModuleNotFoundError",
     "evalue": "No module named 'bokeh'",
     "output_type": "error",
     "traceback": [
      "\u001b[0;31m---------------------------------------------------------------------------\u001b[0m",
      "\u001b[0;31mModuleNotFoundError\u001b[0m                       Traceback (most recent call last)",
      "Input \u001b[0;32mIn [9]\u001b[0m, in \u001b[0;36m<cell line: 1>\u001b[0;34m()\u001b[0m\n\u001b[0;32m----> 1\u001b[0m \u001b[38;5;28;01mfrom\u001b[39;00m \u001b[38;5;21;01mbokeh\u001b[39;00m\u001b[38;5;21;01m.\u001b[39;00m\u001b[38;5;21;01mplotting\u001b[39;00m \u001b[38;5;28;01mimport\u001b[39;00m show, output_file, figure\n\u001b[1;32m      2\u001b[0m \u001b[38;5;28;01mfrom\u001b[39;00m \u001b[38;5;21;01mbokeh\u001b[39;00m\u001b[38;5;21;01m.\u001b[39;00m\u001b[38;5;21;01mlayouts\u001b[39;00m \u001b[38;5;28;01mimport\u001b[39;00m column, row\n\u001b[1;32m      3\u001b[0m \u001b[38;5;28;01mfrom\u001b[39;00m \u001b[38;5;21;01mbokeh\u001b[39;00m\u001b[38;5;21;01m.\u001b[39;00m\u001b[38;5;21;01mmodels\u001b[39;00m \u001b[38;5;28;01mimport\u001b[39;00m Div\n",
      "\u001b[0;31mModuleNotFoundError\u001b[0m: No module named 'bokeh'"
     ]
    }
   ],
   "source": [
    "from bokeh.plotting import show, output_file, figure\n",
    "from bokeh.layouts import column, row\n",
    "from bokeh.models import Div\n",
    "from bokeh.models.widgets import Panel, Tabs"
   ]
  },
  {
   "cell_type": "code",
   "execution_count": null,
   "metadata": {},
   "outputs": [],
   "source": [
    "import imageio\n",
    "def generate_run_report(run_logs, store_path):\n",
    "    figures = []\n",
    "\n",
    "    state_beliefs = [log[\"qs\"] for log in run_logs[\"agent_info\"]]\n",
    "\n",
    "    # Trajectory gif\n",
    "    gif_path = store_path / \"navigate.gif\"\n",
    "    imageio.mimsave(gif_path, run_logs[\"frames\"], 'GIF', duration=500)\n",
    "\n",
    "    h, w, _ = run_logs[\"frames\"][0].shape\n",
    "    h = max(128, h)\n",
    "    w = max(128, w)\n",
    "    gif = Div(\n",
    "        text=f\"<img src={str(gif_path)} width={w} height={h}></img>\",\n",
    "        width=w,\n",
    "        height=h,\n",
    "    )\n",
    "    figures.append(gif)\n",
    "    # Entropy plot\n",
    "    entropies = [entropy(s) for s in state_beliefs]\n",
    "    fig_entropy = figure(title=\"Entropy over full state belief\", plot_height=200)\n",
    "    fig_entropy.line(np.arange(len(entropies)), entropies)\n",
    "    figures.append(fig_entropy)\n",
    "\n",
    "    # Bayesian Surprise\n",
    "    surprises = [np.nan_to_num(log[\"bayesian_surprise\"]) for log in run_logs[\"agent_info\"]]\n",
    "    fig_surprise = figure(title=\"Bayesian Surprise\", plot_height=200)\n",
    "    fig_surprise.line(np.arange(len(surprises)), surprises)\n",
    "    figures.append(fig_surprise)\n",
    "\n",
    "    return row(*figures)"
   ]
  },
  {
   "cell_type": "code",
   "execution_count": null,
   "metadata": {},
   "outputs": [],
   "source": [
    "output_file(\"report.html\")\n",
    "\n",
    "generate_run_report(data_infos, spath)\n",
    "#show(layout)"
   ]
  },
  {
   "cell_type": "code",
   "execution_count": null,
   "metadata": {},
   "outputs": [],
   "source": [
    "# from bokeh.models.widgets import Image\n",
    "from bokeh.io import curdoc\n",
    "\n",
    "pages = []\n",
    "\n",
    "spath = get_store_path('cscg', 'test')\n",
    "\n",
    "spath.mkdir(exist_ok=True, parents=True)\n",
    "\n",
    "\n",
    "run_logs = {'here':[1,2,3,3,4]}\n",
    "\n",
    "run_logs['test'] =  ['mia' for _ in run_logs[\"here\"]]\n",
    "\n",
    "run_logs_df = pd.DataFrame.from_dict(run_logs)\n",
    "\n",
    "codebook_path = spath / \"codebook.png\"\n",
    "n = int(np.ceil(len(run_logs_df['here']) / 10))\n",
    "w, h = 1000, n *100\n",
    "# Create an Image widget to display the codebook image\n",
    "#codebook_img = Div(text=f\"<img src='{str(codebook_path)}' width='{w}' height='{h}'>\")\n",
    "\n",
    "codebook = Div(\n",
    "    text=f\"<img src={str(codebook_path)} width={w} height={h}></img>\",\n",
    "    width=w,\n",
    "    height=h,\n",
    ")\n",
    "\n",
    "page = column(\n",
    "    Div(text=f\"{'tutu'}-{'big'}\"),\n",
    "    generate_run_report(data_infos, spath),\n",
    "    #codebook_img\n",
    ")\n",
    "pages.append(\n",
    "    Panel(child=page, title=f\"{'cscg'}: Trial {'1'}\")\n",
    ")\n",
    "\n",
    "title_path = spath / \"cscg_test.html\"\n",
    "output_file(\n",
    "        title_path,\n",
    "        title='test_cscg'.capitalize(),\n",
    "    )\n",
    "\n",
    "title = Div(text=f\"<h1>Report for {'test_cscg'}</h1>\")\n",
    "\n",
    "#curdoc().add_root(column(title, Tabs(tabs=pages)))\n",
    "show(column(title, codebook, Tabs(tabs=pages)))\n",
    "\n",
    "run_logs_df.to_csv(spath / f\"{'test'}.csv\")"
   ]
  },
  {
   "cell_type": "markdown",
   "metadata": {},
   "source": [
    "## OURS"
   ]
  },
  {
   "cell_type": "markdown",
   "metadata": {},
   "source": [
    "### colour and pose as ob"
   ]
  },
  {
   "cell_type": "code",
   "execution_count": null,
   "metadata": {},
   "outputs": [],
   "source": [
    "ours_v3_3 = Ours_V3_3(num_obs=2, num_states=2, dim=2, observations=[ob,start_pose], learning_rate_pB=3.0, actions= actions)\n",
    "#ours_v1 = Ours_V1(num_obs=2, num_states=2, observations=[ob,start_state_idx], learning_rate_pB=3.0, actions= actions)\n",
    "action_hist = []"
   ]
  },
  {
   "cell_type": "code",
   "execution_count": null,
   "metadata": {},
   "outputs": [],
   "source": [
    "# #RUN oursV3.3 EXPLO\n",
    "T= 3\n",
    "import warnings\n",
    "warnings.filterwarnings('ignore')\n",
    "perfect_B, desired_state_mapping = define_perfect_B(env,rooms, actions)\n",
    "pose = start_pose\n",
    "ours_v3_3.explo_oriented_navigation()\n",
    "data_infos = {'frames':[get_frame(env, pose)], 'agent_info':[]}\n",
    "policy = [1,1,3,0]\n",
    "for t in range(0,T):\n",
    "    print(' __ ')\n",
    "    print('time', t, 'believed Qs:',ours_v3_3.get_current_belief()[0].round(3))\n",
    "    action, info = ours_v3_3.infer_action()\n",
    "    #action = policy[t]\n",
    "    # ours_v3_3.agent.action = np.array([action])\n",
    "    # ours_v3_3.agent.step_time()\n",
    "    action_hist.append(action)\n",
    "    obs, _,_,_ = env.step(action, pose)\n",
    "    ob, pose = obs\n",
    "    data = {}\n",
    "    data_infos['frames'].append(get_frame(env, pose))\n",
    "    # data_infos['agent_info'].append(info)\n",
    "    \n",
    "    next_possible_actions = env.get_next_possible_motions(pose)\n",
    "    print('action taken:',int(action),'pose:',pose,',ob:', ob)\n",
    "    ours_v3_3.agent_step_update(action,[ob,pose],next_possible_actions)\n",
    "    \n",
    "    # print('after belief update')\n",
    "    # print('A colours:\\n',ours_v3_3.agent.A[0].round(3))\n",
    "    # print('A poses:\\n',ours_v3_3.agent.A[1].round(3))\n",
    "    # print('B')\n",
    "    # print_transitions(ours_v3_3.agent.B, actions)\n",
    "    \n",
    "    if agent_B_match_ideal_B_v2(ours_v3_3.get_B(), perfect_B, \\\n",
    "                ours_v3_3.get_agent_state_mapping(), \\\n",
    "                desired_state_mapping, actions, tolerance_margin= 0.4):\n",
    "            print('Transition matrix is good')\n",
    "            break"
   ]
  },
  {
   "cell_type": "markdown",
   "metadata": {},
   "source": [
    "### Ours no obs"
   ]
  },
  {
   "cell_type": "code",
   "execution_count": null,
   "metadata": {},
   "outputs": [],
   "source": [
    "from ours.V5 import Ours_V5\n",
    "ours_v5 = Ours_V5(num_obs=2, num_states=2, dim=1, observations=[start_pose], learning_rate_pB=3.0, actions= actions)\n",
    "#ours_v1 = Ours_V1(num_obs=2, num_states=2, observations=[ob,start_state_idx], learning_rate_pB=3.0, actions= actions)\n",
    "action_hist = []"
   ]
  },
  {
   "cell_type": "code",
   "execution_count": null,
   "metadata": {},
   "outputs": [],
   "source": [
    "ours_v5.agent.A[0]"
   ]
  },
  {
   "cell_type": "code",
   "execution_count": null,
   "metadata": {},
   "outputs": [],
   "source": [
    "# #RUN oursV3.3 EXPLO\n",
    "T= 35\n",
    "import warnings\n",
    "warnings.filterwarnings('ignore')\n",
    "perfect_B, desired_state_mapping = define_perfect_B(env,rooms, actions)\n",
    "pose = start_pose\n",
    "ours_v5.explo_oriented_navigation()\n",
    "data_infos = {'frames':[get_frame(env, pose)], 'agent_info':[]}\n",
    "policy = [1,1,3,0]\n",
    "next_possible_actions = env.get_next_possible_motions(pose)\n",
    "for t in range(0,T):\n",
    "    print(' __ ')\n",
    "    print('time', t, 'believed Qs:',ours_v5.get_current_belief()[0].round(3))\n",
    "    action, info = ours_v5.infer_action(next_possible_actions=next_possible_actions)\n",
    "    #action = policy[t]\n",
    "    # ours_v5.agent.action = np.array([action])\n",
    "    # ours_v5.agent.step_time()\n",
    "    action_hist.append(action)\n",
    "    obs, _,_,_ = env.step(action, pose)\n",
    "    ob, pose = obs\n",
    "    data = {}\n",
    "    data_infos['frames'].append(get_frame(env, pose))\n",
    "    # data_infos['agent_info'].append(info)\n",
    "    \n",
    "    next_possible_actions = env.get_next_possible_motions(pose)\n",
    "    print('action taken:',int(action),'pose:',pose,',ob:', ob)\n",
    "    ours_v5.agent_step_update(action,[pose],next_possible_actions)\n",
    "    \n",
    "    # print('after belief update')\n",
    "    # print('A colours:\\n',ours_v3_3.agent.A[0].round(3))\n",
    "    # print('A poses:\\n',ours_v3_3.agent.A[1].round(3))\n",
    "    # print('B')\n",
    "    # print_transitions(ours_v3_3.agent.B, actions)\n",
    "    \n",
    "    if agent_B_match_ideal_B_v2(ours_v5.get_B(), perfect_B, \\\n",
    "                ours_v5.get_agent_state_mapping(), \\\n",
    "                desired_state_mapping, actions, tolerance_margin= 0.4):\n",
    "            print('Transition matrix is good')\n",
    "            break"
   ]
  },
  {
   "cell_type": "markdown",
   "metadata": {},
   "source": [
    "### colour as ob, pose inferred"
   ]
  },
  {
   "cell_type": "code",
   "execution_count": null,
   "metadata": {},
   "outputs": [],
   "source": [
    "ours_v3_3 = Ours_V3_3(num_obs=2, num_states=2, dim=2, observations=[ob], learning_rate_pB=3.0, actions= actions)\n",
    "#ours_v1 = Ours_V1(num_obs=2, num_states=2, observations=[ob,start_state_idx], learning_rate_pB=3.0, actions= actions)\n",
    "action_hist = []\n",
    "start_pose = (0,0)\n",
    "obs,_ = env.reset(start_pose)\n",
    "ob, pose = obs"
   ]
  },
  {
   "cell_type": "code",
   "execution_count": null,
   "metadata": {},
   "outputs": [],
   "source": [
    "# #RUN oursV3.3 EXPLO\n",
    "T= 35\n",
    "import warnings\n",
    "warnings.filterwarnings('ignore')\n",
    "perfect_B, desired_state_mapping = define_perfect_B(env,rooms, actions)\n",
    "pose = start_pose\n",
    "ours_v3_3.explo_oriented_navigation()\n",
    "data_infos = {'frames':[get_frame(env, pose)], 'agent_info':[]}\n",
    "policy = [1,1,3,0]\n",
    "next_possible_actions = env.get_next_possible_motions(pose)\n",
    "for t in range(0,T):\n",
    "    print(' __ ')\n",
    "    print('time', t, 'believed Qs:',ours_v3_3.get_current_belief()[0].round(3))\n",
    "    action, info = ours_v3_3.infer_action(next_possible_actions=next_possible_actions)\n",
    "    #action = policy[t]\n",
    "    # ours_v3_3.agent.action = np.array([action])\n",
    "    # ours_v3_3.agent.step_time()\n",
    "    action_hist.append(action)\n",
    "    obs, _,_,_ = env.step(action, pose)\n",
    "    ob, pose = obs\n",
    "    data = {}\n",
    "    data_infos['frames'].append(get_frame(env, pose))\n",
    "    # data_infos['agent_info'].append(info)\n",
    "    \n",
    "    next_possible_actions = env.get_next_possible_motions(pose)\n",
    "    print('action taken:',int(action),'pose:',pose,',ob:', ob)\n",
    "    ours_v3_3.agent_step_update(action,[ob],next_possible_actions)\n",
    "    print('agent_internal_pose',next_possible_actions, ours_v3_3.current_pose)\n",
    "    if ours_v3_3.current_pose != pose:\n",
    "          print(\"POSE ERROR\")\n",
    "          break\n",
    "    # print('after belief update')\n",
    "    # print('A colours:\\n',ours_v3_3.agent.A[0].round(3))\n",
    "    # print('A poses:\\n',ours_v3_3.agent.A[1].round(3))\n",
    "    # print('B')\n",
    "    # print_transitions(ours_v3_3.agent.B, actions)\n",
    "    \n",
    "    if agent_B_match_ideal_B_v2(ours_v3_3.get_B(), perfect_B, \\\n",
    "                ours_v3_3.get_agent_state_mapping(), \\\n",
    "                desired_state_mapping, actions, tolerance_margin= 0.4):\n",
    "            print('Transition matrix is good')\n",
    "            break"
   ]
  },
  {
   "cell_type": "markdown",
   "metadata": {},
   "source": [
    "### colour as ob"
   ]
  },
  {
   "cell_type": "code",
   "execution_count": null,
   "metadata": {},
   "outputs": [],
   "source": [
    "from ours.pymdp import utils, control, inference\n",
    "from ours.pymdp.maths import spm_dot\n",
    "from envs.modules import next_p_given_a, reverse_action"
   ]
  },
  {
   "cell_type": "code",
   "execution_count": null,
   "metadata": {},
   "outputs": [],
   "source": [
    "empirical_prior = control.get_expected_states(\n",
    "                    ours_v3_3.agent.qs, ours_v3_3.agent.B, np.array([2]).reshape(1, -1) #type: ignore\n",
    "                )[0]\n",
    "\n",
    "print('empirical prior',empirical_prior[0].round(3))\n",
    "qs = inference.update_posterior_states(\n",
    "            ours_v3_3.agent.A,\n",
    "            [0],\n",
    "            empirical_prior,\n",
    "            **ours_v3_3.agent.inference_params\n",
    "            )\n",
    "\n",
    "print('qs',qs[0].round(3))\n",
    "\n"
   ]
  },
  {
   "cell_type": "code",
   "execution_count": null,
   "metadata": {},
   "outputs": [],
   "source": [
    "latest_obs = [0,2,3,3]\n",
    "latest_actions = [np.array([0]),np.array([3]),np.array([3]),np.array([1])]\n",
    "\n",
    "prior = np.array(np.array([0.25, 0.5 , 0.25, 0.001, 0.   , 0.   , 0.034, 0.054, 0.025,\n",
    "       0.012, 0.017, 0.017, 0.005, 0.013, 0.007]))"
   ]
  },
  {
   "cell_type": "code",
   "execution_count": null,
   "metadata": {},
   "outputs": [],
   "source": [
    "p_a = np.stack(latest_actions,0)\n",
    "policies = np.array([np.array([2])])\n",
    "print(p_a.shape, policies.shape)\n",
    "for policy in policies:\n",
    "    print(policy.shape)\n",
    "    u = np.vstack((p_a, policy))\n",
    "    print(u)\n",
    "    break"
   ]
  },
  {
   "cell_type": "code",
   "execution_count": null,
   "metadata": {},
   "outputs": [],
   "source": [
    "# if len(self.prev_obs) > self.inference_horizon:\n",
    "#     latest_obs = self.prev_obs[-self.inference_horizon:]\n",
    "#     latest_actions = self.prev_actions[-(self.inference_horizon-1):]\n",
    "# else:\n",
    "#     latest_obs = self.prev_obs\n",
    "#     latest_actions = self.prev_actions\n",
    "policies = np.array([np.array([2])])\n",
    "qs, F = inference.update_posterior_states_full(\n",
    "    ours_v3_3.agent.A,\n",
    "    ours_v3_3.agent.B,\n",
    "    latest_obs,\n",
    "    policies, \n",
    "    latest_actions, \n",
    "    prior = prior, \n",
    "    policy_sep_prior = ours_v3_3.agent.edge_handling_params['policy_sep_prior'],\n",
    "    #**ours_v3_3.agent.inference_params\n",
    ")\n"
   ]
  },
  {
   "cell_type": "code",
   "execution_count": null,
   "metadata": {},
   "outputs": [],
   "source": [
    "for q_idx in range(qs[0].shape[0]):\n",
    "    print('step', q_idx+1)\n",
    "    print(qs[0][q_idx][0].round(3))"
   ]
  },
  {
   "cell_type": "code",
   "execution_count": null,
   "metadata": {},
   "outputs": [],
   "source": [
    "from ours.pymdp import maths\n",
    "def run_mmp(\n",
    "    lh_seq, B, policy, prev_actions=None, prior=None, num_iter=10, grad_descent=True, tau=0.25, last_timestep = False):\n",
    "    \"\"\"\n",
    "    Marginal message passing scheme for updating marginal posterior beliefs about hidden states over time, \n",
    "    conditioned on a particular policy.\n",
    "\n",
    "    Parameters\n",
    "    ----------\n",
    "    lh_seq: ``numpy.ndarray`` of dtype object\n",
    "        Log likelihoods of hidden states under a sequence of observations over time. This is assumed to already be log-transformed. Each ``lh_seq[t]`` contains\n",
    "        the log likelihood of hidden states for a particular observation at time ``t``\n",
    "    B: ``numpy.ndarray`` of dtype object\n",
    "        Dynamics likelihood mapping or 'transition model', mapping from hidden states at ``t`` to hidden states at ``t+1``, given some control state ``u``.\n",
    "        Each element ``B[f]`` of this object array stores a 3-D tensor for hidden state factor ``f``, whose entries ``B[f][s, v, u]`` store the probability\n",
    "        of hidden state level ``s`` at the current time, given hidden state level ``v`` and action ``u`` at the previous time.\n",
    "    policy: 2D ``numpy.ndarray``\n",
    "        Matrix of shape ``(policy_len, num_control_factors)`` that indicates the indices of each action (control state index) upon timestep ``t`` and control_factor ``f` in the element ``policy[t,f]`` for a given policy.\n",
    "    prev_actions: ``numpy.ndarray``, default None\n",
    "        If provided, should be a matrix of previous actions of shape ``(infer_len, num_control_factors)`` that indicates the indices of each action (control state index) taken in the past (up until the current timestep).\n",
    "    prior: ``numpy.ndarray`` of dtype object, default None\n",
    "        If provided, the prior beliefs about initial states (at t = 0, relative to ``infer_len``). If ``None``, this defaults\n",
    "        to a flat (uninformative) prior over hidden states.\n",
    "    numiter: int, default 10\n",
    "        Number of variational iterations.\n",
    "    grad_descent: Bool, default True\n",
    "        Flag for whether to use gradient descent (free energy gradient updates) instead of fixed point solution to the posterior beliefs\n",
    "    tau: float, default 0.25\n",
    "        Decay constant for use in ``grad_descent`` version. Tunes the size of the gradient descent updates to the posterior.\n",
    "    last_timestep: Bool, default False\n",
    "        Flag for whether we are at the last timestep of belief updating\n",
    "        \n",
    "    Returns\n",
    "    ---------\n",
    "    qs_seq: ``numpy.ndarray`` of dtype object\n",
    "        Posterior beliefs over hidden states under the policy. Nesting structure is timepoints, factors,\n",
    "        where e.g. ``qs_seq[t][f]`` stores the marginal belief about factor ``f`` at timepoint ``t`` under the policy in question.\n",
    "    F: float\n",
    "        Variational free energy of the policy.\n",
    "    \"\"\"\n",
    "\n",
    "    # window\n",
    "    past_len = len(lh_seq)\n",
    "    future_len = policy.shape[0]\n",
    "    print('last_timestep', last_timestep,future_len, past_len)\n",
    "    if last_timestep:\n",
    "        infer_len = past_len + future_len - 1\n",
    "    else:\n",
    "        infer_len = past_len + future_len\n",
    "    \n",
    "    future_cutoff = past_len + future_len - 2\n",
    "\n",
    "    # dimensions\n",
    "    _, num_states, _, num_factors = utils.get_model_dimensions(A=None, B=B)\n",
    "\n",
    "    # beliefs\n",
    "    qs_seq = utils.obj_array(infer_len)\n",
    "    for t in range(infer_len):\n",
    "        qs_seq[t] = utils.obj_array_uniform(num_states)\n",
    "\n",
    "    # last message\n",
    "    qs_T = utils.obj_array_zeros(num_states)\n",
    "\n",
    "    # prior\n",
    "    if prior is None:\n",
    "        prior = utils.obj_array_uniform(num_states)\n",
    "\n",
    "    # transposed transition\n",
    "    trans_B = utils.obj_array(num_factors)\n",
    "        \n",
    "    for f in range(num_factors):\n",
    "        trans_B[f] = maths.spm_norm(np.swapaxes(B[f],0,1))\n",
    "\n",
    "    if prev_actions is not None:\n",
    "        policy = np.vstack((prev_actions, policy))\n",
    "\n",
    "        #print('policy', policy)\n",
    "    for itr in range(num_iter):\n",
    "        #print()\n",
    "        #print('iteration', itr)\n",
    "        F = 0.0 # reset variational free energy (accumulated over time and factors, but reset per iteration)\n",
    "        for t in range(infer_len):\n",
    "            for f in range(num_factors):\n",
    "                # likelihood\n",
    "                if t < past_len:\n",
    "                    lnA = maths.spm_log_single(spm_dot(lh_seq[t], qs_seq[t], [f]))\n",
    "                else:\n",
    "                    lnA = np.zeros(num_states[f])\n",
    "                #print('inference step',t,'factor',f,'LIKELIHOOD', lnA, 'past_len', past_len)\n",
    "                # past message\n",
    "                if t == 0:\n",
    "                    lnB_past = maths.spm_log_single(prior[f])\n",
    "                else:\n",
    "                    past_msg = B[f][:, :, int(policy[t - 1, f])].dot(qs_seq[t - 1][f])\n",
    "                    lnB_past = maths.spm_log_single(past_msg)\n",
    "               # print('inference step',t,'action',policy[t - 1, f],'PAST T', lnB_past)\n",
    "                # future message\n",
    "                if t >= future_cutoff:\n",
    "                    lnB_future = qs_T[f]\n",
    "                    #print('t and future_cutoff', t, future_cutoff)\n",
    "                else:\n",
    "                    future_msg = trans_B[f][:, :, int(policy[t, f])].dot(qs_seq[t + 1][f])\n",
    "                    lnB_future = maths.spm_log_single(future_msg)\n",
    "                    #print('qs_seq[t + 1][f]', qs_seq[t + 1][f])\n",
    "                #print('inference step',t,'action',policy[t, f],'EXPECTED FUTURE T', lnB_future)\n",
    "                # inference\n",
    "                if grad_descent:\n",
    "                    sx = qs_seq[t][f] # save this as a separate variable so that it can be used in VFE computation\n",
    "                    lnqs = maths.spm_log_single(sx)\n",
    "                    coeff = 1 if (t >= future_cutoff) else 2\n",
    "                    err = (coeff * lnA + lnB_past + lnB_future) - coeff * lnqs\n",
    "                    lnqs = lnqs + tau * (err - err.mean())\n",
    "                    qs_seq[t][f] = maths.softmax(lnqs)\n",
    "                    if (t == 0) or (t == (infer_len-1)):\n",
    "                        F += sx.dot(0.5*err)\n",
    "                    else:\n",
    "                        F += sx.dot(0.5*(err - (num_factors - 1)*lnA/num_factors)) # @NOTE: not sure why Karl does this in SPM_MDP_VB_X, we should look into this\n",
    "                else:\n",
    "                    qs_seq[t][f] = maths.softmax(lnA + lnB_past + lnB_future)\n",
    "            \n",
    "            if not grad_descent:\n",
    "\n",
    "                if t < past_len:\n",
    "                    F += maths.calc_free_energy(qs_seq[t], prior, num_factors, likelihood = maths.spm_log_single(lh_seq[t]) )\n",
    "                else:\n",
    "                    F += maths.calc_free_energy(qs_seq[t], prior, num_factors)\n",
    "\n",
    "    return qs_seq, F"
   ]
  },
  {
   "cell_type": "code",
   "execution_count": null,
   "metadata": {},
   "outputs": [],
   "source": [
    "def update_posterior_states_full(\n",
    "    A,\n",
    "    B,\n",
    "    prev_obs,\n",
    "    policies,\n",
    "    prev_actions=None,\n",
    "    prior=None,\n",
    "    policy_sep_prior = True,\n",
    "    **kwargs,\n",
    "):\n",
    "\n",
    "    num_obs, num_states, num_modalities, num_factors = utils.get_model_dimensions(A, B)\n",
    "    \n",
    "    prev_obs = utils.process_observation_seq(prev_obs, num_modalities, num_obs)\n",
    "   \n",
    "    lh_seq = inference.get_joint_likelihood_seq(A, prev_obs, num_states)\n",
    "    print('update_posterior-state: lh_seq', lh_seq)\n",
    "\n",
    "    if prev_actions is not None:\n",
    "        prev_actions = np.stack(prev_actions,0)\n",
    "\n",
    "    qs_seq_pi = utils.obj_array(len(policies))\n",
    "    F = np.zeros(len(policies)) # variational free energy of policies\n",
    "\n",
    "    for p_idx, policy in enumerate(policies):\n",
    "            \n",
    "            # get sequence and the free energy for policy\n",
    "            qs_seq_pi[p_idx], F[p_idx] = run_mmp(\n",
    "                lh_seq,\n",
    "                B,\n",
    "                policy,\n",
    "                prev_actions=prev_actions,\n",
    "                prior= prior[p_idx] if policy_sep_prior else prior, \n",
    "                **kwargs\n",
    "            )\n",
    "\n",
    "    return qs_seq_pi, F"
   ]
  },
  {
   "cell_type": "code",
   "execution_count": null,
   "metadata": {},
   "outputs": [],
   "source": [
    "def update_believes_v2(model, Qs:list, action:int, obs:list)-> None:\n",
    "    #UPDATE B\n",
    "    if len(model.agent.qs_hist)+1 > 1:#secutity check\n",
    "        if len(model.agent.qs_hist[-1][0]) < len(Qs[0]):\n",
    "            model.agent.qs_hist[-1][0] = np.append(model.agent.qs_hist[-1][0],[0]*(len(model.agent.qs_hist[-1][0])-len(Qs[0])))\n",
    "        model.update_B(Qs, model.agent.qs_hist[-1], action, lr_pB = 10) \n",
    "        #2 WAYS TRANSITION UPDATE (only if T to diff state)\n",
    "        if np.argmax(model.agent.qs_hist[-1][0]) != np.argmax(Qs[0]):\n",
    "            a_inv = reverse_action(model.possible_actions, action)\n",
    "            model.update_B(model.agent.qs_hist[-1], Qs, a_inv, lr_pB = 5)\n",
    "    #Qs = infer_states(model, action, obs, distr_obs=False)[0]\n",
    "    Qs = model.agent.infer_states(obs, distr_obs=False)[0]\n",
    "    # model.update_A_belief(obs)"
   ]
  },
  {
   "cell_type": "code",
   "execution_count": null,
   "metadata": {},
   "outputs": [],
   "source": [
    "def agent_step_update(model, action, observations = [0,(0,0)], possible_next_actions:list=[0,1,2,3]):\n",
    "        ob = observations[0]\n",
    "        if len(observations) > 1:\n",
    "            model.current_pose = observations[1]\n",
    "        else:\n",
    "            model.current_pose = model.infer_pose(action)\n",
    "        pose = model.current_pose\n",
    "\n",
    "        if pose not in model.pose_mapping:\n",
    "            model.pose_mapping.append(pose)\n",
    "        p_idx = model.pose_mapping.index(pose)\n",
    "\n",
    "        # prev_state_size = agent.num_states[0]\n",
    "        #3. UPDATE A AND B DIM WITH THOSE DATA\n",
    "        # model.update_A_dim_given_obs_3([ob,p_idx], null_proba=[False,False])\n",
    "        # model.update_B_dim_given_A()\n",
    "        # new_state_size = agent.num_states[0]\n",
    "\n",
    "        #4. UPDATE BELIEVES GIVEN OBS\n",
    "        #Qs = infer_states(model, action, [ob,p_idx], hist=False, distr_obs=False)\n",
    "        Qs = model.infer_states_no_history([ob,p_idx], distr_obs=False)\n",
    "        print('prior on believed state', Qs[0].round(3))\n",
    "        \n",
    "        \n",
    "        #4.5 UPDATE A AND B WITH THOSE BELIEVES\n",
    "        update_believes_v2(model, Qs, action, [ob,p_idx])\n",
    "        model.update_agent_state_mapping(pose, [ob,p_idx], model.agent.qs[0])\n",
    "        \n",
    "        #ADD KNOWLEDGE WALL T OR GHOST NODES\n",
    "        #inv_action = reverse_action(self.possible_actions, action) #just to gain some computation time\n",
    "        #add_ghost_node_v3(model, p_idx, possible_next_actions)\n",
    "        #This is not mandatory, just a gain of time\n",
    "        # if 'STAY' in model.possible_actions:\n",
    "        #     model.agent.B[0] = set_stationary(model.agent.B[0], model.possible_actions['STAY'])\n",
    "        model.update_C_dim()"
   ]
  },
  {
   "cell_type": "code",
   "execution_count": null,
   "metadata": {},
   "outputs": [],
   "source": [
    "def add_ghost_node_v3(model,p_idx:int, possible_next_actions:list)-> None:\n",
    "        ''' \n",
    "        For each new pose observation, add a ghost state and update the estimated transition and observation for that ghost state.\n",
    "        '''\n",
    "        print('Ghost nodes process:')\n",
    "        pose = model.pose_mapping[p_idx]\n",
    "        for action in model.possible_actions.values():\n",
    "            if action not in possible_next_actions: #this mean this action is not deemed possible\n",
    "                model.update_B(model.agent.qs, model.agent.qs, action, lr_pB = 10)\n",
    "            else:\n",
    "                n_pose = next_p_given_a(pose, model.possible_actions, action)\n",
    "                if n_pose not in model.pose_mapping:\n",
    "                    model.pose_mapping.append(n_pose)\n",
    "                    p_idx = model.pose_mapping.index(n_pose)\n",
    "                    print('a',action,'n pose', n_pose, p_idx)\n",
    "                    model.update_A_dim_given_pose(p_idx, null_proba=False) #we only update pose ob and assign a state to this ob\n",
    "                    model.update_B_dim_given_A()\n",
    "                    print('B:')\n",
    "                    print_transitions(model.agent.B, actions)\n",
    "                    prior = [spm_dot(model.agent.B[0][:, :, int(action)], model.agent.qs)]\n",
    "                    print('given action what prior is expected',prior)\n",
    "                    #hypo_qs = model.infer_states_no_history([p_idx], partial_ob=1)\n",
    "                    model.update_B(prior, model.agent.qs, action, lr_pB = 3) \n",
    "                    model.update_agent_state_mapping(n_pose, [-1], prior[0])\n",
    "                # a_inv = reverse_action(self.possible_actions, action)\n",
    "                # self.update_B(self.agent.qs, hypo_qs, a_inv, lr_pB = 1)"
   ]
  },
  {
   "cell_type": "code",
   "execution_count": null,
   "metadata": {},
   "outputs": [],
   "source": [
    "def infer_states(model, action, observation, hist=True, distr_obs = False):\n",
    "        \"\"\"\n",
    "        Update approximate posterior over hidden states by solving variational inference problem, given an observation.\n",
    "\n",
    "        Parameters\n",
    "        ----------\n",
    "        observation: ``list`` or ``tuple`` of ints\n",
    "            The observation input. Each entry ``observation[m]`` stores the index of the discrete\n",
    "            observation for modality ``m``.\n",
    "\n",
    "        Returns\n",
    "        ---------\n",
    "        qs: ``numpy.ndarray`` of dtype object\n",
    "            Posterior beliefs over hidden states. Depending on the inference algorithm chosen, the resulting ``qs`` variable will have additional sub-structure to reflect whether\n",
    "            beliefs are additionally conditioned on timepoint and policy.\n",
    "            For example, in case the ``self.inference_algo == 'MMP' `` indexing structure is policy->timepoint-->factor, so that \n",
    "            ``qs[p_idx][t_idx][f_idx]`` refers to beliefs about marginal factor ``f_idx`` expected under policy ``p_idx`` \n",
    "            at timepoint ``t_idx``.\n",
    "        \"\"\"\n",
    "        #NOTE: TESTING PHASE\n",
    "        if len(observation)>1:\n",
    "            observation = [observation[0]]\n",
    "\n",
    "        observation = tuple(observation) if not distr_obs else observation\n",
    "\n",
    "        if not hasattr(model.agent, \"qs\"):\n",
    "            model.agent.reset()\n",
    "\n",
    "        \n",
    "        model.agent.inference_horizon = 4\n",
    "        if hist:\n",
    "            model.agent.prev_obs.append(observation)\n",
    "            observations_hist = model.agent.prev_obs\n",
    "        else:\n",
    "            observations_hist = model.agent.prev_obs.copy()\n",
    "            observations_hist.append(observation)\n",
    "        if len(observations_hist) > model.agent.inference_horizon:\n",
    "            latest_obs = observations_hist[-model.agent.inference_horizon:]\n",
    "            latest_actions = model.agent.prev_actions[-(model.agent.inference_horizon-1):]\n",
    "        else:\n",
    "            latest_obs = observations_hist\n",
    "            latest_actions = model.agent.prev_actions\n",
    "\n",
    "        \n",
    "        policies = np.array([np.array([action])])\n",
    "        if len(model.agent.qs_hist) <= model.agent.inference_horizon:\n",
    "            prior = model.agent.qs_hist[0]\n",
    "        else:\n",
    "            prior = model.agent.qs_hist[-(model.agent.inference_horizon)]\n",
    "\n",
    "        print('latest_obs', latest_obs)\n",
    "        print('latest_actions', latest_actions)\n",
    "        print('prior latest obs and actions', prior)\n",
    "\n",
    "\n",
    "        qs, F = update_posterior_states_full(\n",
    "            model.agent.A,\n",
    "            model.agent.B,\n",
    "            latest_obs,\n",
    "            policies, \n",
    "            latest_actions, \n",
    "            prior =  prior, #agent.latest_belief, \n",
    "            policy_sep_prior = model.agent.edge_handling_params['policy_sep_prior'],\n",
    "            **{'last_timestep': True, 'num_iter': 2},\n",
    "            #**agent.inference_params\n",
    "        )\n",
    "        # i = print_transitions(ours_v3_3.agent.B[0], actions)\n",
    "        print('ALL QS:')\n",
    "        for i in range(qs[0].shape[0]):\n",
    "            print(qs[0][i][0].round(3))\n",
    "        next_qs = qs[0][-1]\n",
    "        if hist:\n",
    "            model.agent.F = F # variational free energy of each policy  \n",
    "            \n",
    "            if hasattr(model.agent, \"qs_hist\"):\n",
    "                model.agent.qs_hist.append(next_qs)\n",
    "            model.agent.qs = next_qs\n",
    "            print('new qs', next_qs)\n",
    "        return next_qs\n",
    "\n",
    "def set_stationary(mat, idx=-1):\n",
    "    mat[:,:,idx] = np.eye(mat.shape[0])\n",
    "    return mat\n"
   ]
  },
  {
   "cell_type": "code",
   "execution_count": null,
   "metadata": {},
   "outputs": [],
   "source": [
    "n_obs = 9\n",
    "n_clones = 2\n",
    "num_states = n_obs * n_clones\n",
    "\n",
    "ours_v3_3 = Ours_V3_3(num_obs=5, num_states= num_states, dim=1, observations=[ob], learning_rate_pB=3.0, actions= actions,set_stationary_B=True)\n",
    "#ours_v1 = Ours_V1(num_obs=2, num_states=2, observations=[ob,start_state_idx], learning_rate_pB=3.0, actions= actions)\n",
    "action_hist = []"
   ]
  },
  {
   "cell_type": "code",
   "execution_count": null,
   "metadata": {},
   "outputs": [],
   "source": [
    "#print(ours_v3_3.agent.A[0])\n",
    "\n",
    "n_clones = np.ones(n_obs, dtype=np.int64) * n_clones\n",
    "\n",
    "state_loc = np.hstack(\n",
    "            (np.array([0], dtype=object),n_clones )\n",
    "        ).cumsum()\n",
    "A = np.zeros((n_obs, num_states))\n",
    "for i in range(n_obs ):\n",
    "    s, f = state_loc[i : i + 2]\n",
    "    A[i, s:f] = 1.0\n",
    "# A = np.eye(ours_v3_3.agent.A[0].shape[0])\n",
    "ours_v3_3.agent.A[0] = A\n",
    "if len(ours_v3_3.agent.A) > 1 :\n",
    "    ours_v3_3.agent.A[1] = np.eye(ours_v3_3.agent.A[1].shape[1])\n",
    "ours_v3_3.agent.pA = utils.dirichlet_like(A, scale = 1)\n",
    "B_agent = np.random.rand(num_states, num_states, len(actions)) #create_B_matrix(num_states,len(actions))\n",
    "B_agent = utils.norm_dist(B_agent)\n",
    "B_agent = set_stationary(B_agent,actions['STAY'])\n",
    "ours_v3_3.agent.B[0] = B_agent\n",
    "ours_v3_3.agent.pB = utils.to_obj_array(B_agent)"
   ]
  },
  {
   "cell_type": "code",
   "execution_count": null,
   "metadata": {},
   "outputs": [],
   "source": [
    "# #RUN oursV3.3 EXPLO\n",
    "T= 60\n",
    "import warnings\n",
    "warnings.filterwarnings('ignore')\n",
    "perfect_B, desired_state_mapping = define_perfect_B(env,rooms, actions)\n",
    "pose = (0,0)\n",
    "obs,_ = env.reset(start_pose)\n",
    "ob, pose = obs\n",
    "ours_v3_3.explo_oriented_navigation()\n",
    "real_pose_dict = {pose: ours_v3_3.current_pose}\n",
    "next_possible_actions = env.get_next_possible_motions(pose)\n",
    "\n",
    "policy = [3,1,3,0]\n",
    "c_obs = [ob]\n",
    "p_obs = [pose]\n",
    "for t in range(0,T):\n",
    "    print(' __ ')\n",
    "    print('time', t, 'believed Qs:',ours_v3_3.get_current_belief()[0].round(3))\n",
    "    action, info = ours_v3_3.infer_action(next_possible_actions=next_possible_actions)\n",
    "    # action = policy[t]\n",
    "    # ours_v3_3.agent.action = np.array([action])\n",
    "    # ours_v3_3.agent.step_time()\n",
    "    action_hist.append(action)\n",
    "    obs, _,_,_ = env.step(action, pose)\n",
    "    ob, pose = obs\n",
    "    c_obs.append(ob)\n",
    "    p_obs.append(pose)\n",
    "    #NEXT POSE\n",
    "    # model_current_pose = ours_v3_3.infer_pose(action, next_possible_actions)\n",
    "    real_pose_dict[pose] = ours_v3_3.current_pose\n",
    "    \n",
    "    next_possible_actions = env.get_next_possible_motions(pose)\n",
    "    print('action taken:',int(action),'pose:',pose,',ob:', ob)\n",
    "    agent_step_update(ours_v3_3, action,[ob],next_possible_actions)\n",
    "    \n",
    "    # print('after belief update')\n",
    "    # print('A colours:\\n',ours_v3_3.agent.A[0].round(3))\n",
    "    # print('A poses:\\n',ours_v3_3.agent.A[1].round(3))\n",
    "    # print('B')\n",
    "    # print_transitions(ours_v3_3.agent.B, actions)\n",
    "    \n",
    "    if agent_B_match_ideal_B_v2(ours_v3_3.get_B(), perfect_B, \\\n",
    "                ours_v3_3.get_agent_state_mapping(), \\\n",
    "                desired_state_mapping, actions, tolerance_margin= 0.4):\n",
    "            print('Transition matrix is good')\n",
    "            break"
   ]
  },
  {
   "cell_type": "markdown",
   "metadata": {},
   "source": [
    "### Ours exploration tests"
   ]
  },
  {
   "cell_type": "code",
   "execution_count": null,
   "metadata": {},
   "outputs": [],
   "source": [
    "t"
   ]
  },
  {
   "cell_type": "code",
   "execution_count": null,
   "metadata": {},
   "outputs": [],
   "source": [
    "plot_likelihood(ours_v3_3.agent.A[0])"
   ]
  },
  {
   "cell_type": "code",
   "execution_count": null,
   "metadata": {},
   "outputs": [],
   "source": [
    "i = print_transitions(ours_v3_3.agent.B[0], actions)"
   ]
  },
  {
   "cell_type": "code",
   "execution_count": null,
   "metadata": {},
   "outputs": [],
   "source": [
    "ours_v3_3.agent.prev_actions"
   ]
  },
  {
   "cell_type": "code",
   "execution_count": null,
   "metadata": {},
   "outputs": [],
   "source": [
    "pose\n",
    "# ours_v3_3.current_pose"
   ]
  },
  {
   "cell_type": "code",
   "execution_count": null,
   "metadata": {},
   "outputs": [],
   "source": [
    "ours_v3_3.agent.qs[0].round(3)"
   ]
  },
  {
   "cell_type": "code",
   "execution_count": null,
   "metadata": {},
   "outputs": [],
   "source": [
    "qs_hist = ours_v3_3.agent.qs_hist[-2:]\n",
    "prior = np.pad(qs_hist[-2][0], (0, max(len(qs_hist[-2][0]), len(qs_hist[-1][0])) - len(qs_hist[-2][0])), mode='constant')\n",
    "prior.round(3)"
   ]
  },
  {
   "cell_type": "code",
   "execution_count": null,
   "metadata": {},
   "outputs": [],
   "source": [
    "qs_hist = ours_v3_3.agent.qs_hist[:]\n",
    "max_length = max(len(arr[0]) for arr in qs_hist)\n",
    "qs_hist = [np.pad(arr[0], (0, max_length - len(arr[0])), mode='constant') for arr in qs_hist]\n",
    "\n",
    "# prior = qs_hist[-2]\n",
    "# print(np.array(qs_hist).round(3))\n",
    "max_indices = np.argmax(qs_hist, axis=1)\n",
    "print(max_indices)\n"
   ]
  },
  {
   "cell_type": "code",
   "execution_count": null,
   "metadata": {},
   "outputs": [],
   "source": [
    "from ours.pymdp.maths import spm_dot\n",
    "\n",
    "prior = spm_dot(ours_v3_3.agent.B[0][:, :, int(ours_v3_3.agent.prev_actions[-2])], qs_hist[-1])\n",
    "prior.round(3)"
   ]
  },
  {
   "cell_type": "markdown",
   "metadata": {},
   "source": [
    "### Ours goal"
   ]
  },
  {
   "cell_type": "code",
   "execution_count": null,
   "metadata": {},
   "outputs": [],
   "source": [
    "ours_v3_3 = load_object(\"/home/idlab332/workspace/higher_level_nav/results/grid_3x3/ours_v3/ours_v3_2024-01-29-14-40-42/ours_v3.pkl\")"
   ]
  },
  {
   "cell_type": "code",
   "execution_count": null,
   "metadata": {},
   "outputs": [],
   "source": [
    "preferred_ob = [4, -1]\n",
    "ours_v3_3.goal_oriented_navigation(obs = preferred_ob.copy())"
   ]
  },
  {
   "cell_type": "code",
   "execution_count": null,
   "metadata": {},
   "outputs": [],
   "source": [
    "# # #RUN oursV3.3 GOAL\n",
    "action_hist = []\n",
    "T= 10\n",
    "pose = start_pose\n",
    "c_ob = []\n",
    "p_ob = []\n",
    "for t in range(0,T):\n",
    "    print(' __ ')\n",
    "    print('time', t, 'believed Qs:',ours_v3_3.get_current_belief()[0].round(3))\n",
    "    action, _ = ours_v3_3.infer_action()\n",
    "    action_hist.append(action)\n",
    "    obs, _,_,_ = env.step(action, pose)\n",
    "    ob, pose = obs\n",
    "    c_ob.append(ob)\n",
    "    p_ob.append(pose)\n",
    "    next_possible_actions = env.get_next_possible_motions(pose, no_stay = True)\n",
    "    print('action taken:',int(action),'pose:',pose,',ob:', ob)\n",
    "    print('next_possible_actions',next_possible_actions)\n",
    "    ours_v3_3.agent_step_update(action,[ob,pose],next_possible_actions)\n",
    "    \n",
    "    if (ob == preferred_ob[0] and action == actions['STAY']) \\\n",
    "        or (preferred_ob[0] == np.all(c_ob[-3:]) and pose == np.all(p_ob[-3:])) :\n",
    "        print('Goal reached')\n",
    "        break"
   ]
  },
  {
   "cell_type": "code",
   "execution_count": null,
   "metadata": {},
   "outputs": [],
   "source": [
    "plot_path_in_map(env, start_pose, action_hist[:])"
   ]
  },
  {
   "cell_type": "code",
   "execution_count": null,
   "metadata": {},
   "outputs": [],
   "source": [
    "ours_v3_3.get_agent_state_mapping()"
   ]
  },
  {
   "cell_type": "code",
   "execution_count": null,
   "metadata": {},
   "outputs": [],
   "source": [
    "plot_transition_detailed(ours_v3_3.get_B(), actions, ours_v3_3.get_agent_state_mapping(), desired_state_mapping, 'ours_v3_3', plot=True, save=False)"
   ]
  },
  {
   "cell_type": "code",
   "execution_count": null,
   "metadata": {},
   "outputs": [],
   "source": [
    "a = plot_transition(ours_v3_3.get_B(), actions)"
   ]
  },
  {
   "cell_type": "code",
   "execution_count": null,
   "metadata": {},
   "outputs": [],
   "source": [
    "plot_likelihood(ours_v3_3.get_A()[0], state_mapping=ours_v3_3.get_agent_state_mapping(), tittle_add='colour')"
   ]
  },
  {
   "cell_type": "code",
   "execution_count": null,
   "metadata": {},
   "outputs": [],
   "source": [
    "a = print_transitions(ours_v3_3.get_B(), actions)"
   ]
  },
  {
   "cell_type": "code",
   "execution_count": null,
   "metadata": {},
   "outputs": [],
   "source": [
    "from pathlib import Path\n",
    "qs_hist = ours_v3_3.agent.qs_hist[:]\n",
    "max_length = max(len(arr[0]) for arr in qs_hist)\n",
    "qs_hist = [np.pad(arr[0], (0, max_length - len(arr[0])), mode='constant') for arr in qs_hist]\n",
    "\n",
    "# prior = qs_hist[-2]\n",
    "# print(np.array(qs_hist).round(3))\n",
    "states = np.argmax(qs_hist, axis=1)\n",
    "v = np.unique(states)\n",
    "T = ours_v3_3.agent.B[0][:,v,:][v,:]\n",
    "A = T.sum(2)\n",
    "div = A.sum(1, keepdims=True)\n",
    "A /= (div + 0.0001)\n",
    "A[A < 0.01] = 0\n",
    "print(A)\n",
    "#state_map = ours_v3_3.get_agent_state_mapping()\n",
    "state_map = {pose: {'state':1,'ob':1}}\n",
    "plot_cscg_graph(A, c_obs, v, n_clones, state_map, Path(''), env.rooms_colour_map)"
   ]
  },
  {
   "cell_type": "markdown",
   "metadata": {},
   "source": [
    "## CSCG"
   ]
  },
  {
   "cell_type": "code",
   "execution_count": 128,
   "metadata": {},
   "outputs": [],
   "source": [
    "def train_cscg(model, observations, actions):\n",
    "    #len(observations) > len(actions), no matter because this algo considers only actions length \n",
    "    if isinstance(observations[0], np.ndarray) or isinstance(observations[0], tuple):\n",
    "        observations = model.from_obs_to_ob(observations)\n",
    "    actions = np.array(actions).flatten().astype(np.int64)\n",
    "    progression = 0\n",
    "    progression = model.learn_em_T(observations, actions, n_iter=200)  # Training\n",
    "    # # # refine learning\n",
    "    model.pseudocount = 0.0001\n",
    "    model.learn_viterbi_T(observations, actions, n_iter=100)\n",
    "    return model, progression, observations"
   ]
  },
  {
   "cell_type": "code",
   "execution_count": 175,
   "metadata": {},
   "outputs": [],
   "source": [
    "n_emissions = env.rooms.shape[0]* env.rooms.shape[1] #rooms.max() + 1\n",
    "n_clones = np.ones(n_emissions, dtype=np.int64) * 10\n",
    "n_actions = max(list(actions.values()))\n",
    "x = np.array([0])\n",
    "a = np.array([n_actions])\n",
    "chmm  =  CHMM(n_clones=n_clones, pseudocount=0.05, possible_actions=actions,\\\n",
    "                x=x, a=a, seed=2, set_stationary_B=True, ob_ambiguity=False) "
   ]
  },
  {
   "cell_type": "code",
   "execution_count": 179,
   "metadata": {},
   "outputs": [
    {
     "name": "stderr",
     "output_type": "stream",
     "text": [
      "  0%|          | 0/200 [00:00<?, ?it/s, train_bps=1.22]"
     ]
    },
    {
     "name": "stderr",
     "output_type": "stream",
     "text": [
      " 14%|█▍        | 28/200 [00:00<00:00, 327.29it/s, train_bps=0.267]\n",
      "  2%|▏         | 2/100 [00:00<00:01, 93.87it/s, train_bps=0.00706]\n"
     ]
    }
   ],
   "source": [
    "test_model = copy.deepcopy(chmm) \n",
    "a_test = []\n",
    "for steps in range(1000):\n",
    "    a_test.append(np.random.choice(list(actions.values())))\n",
    "poses, c_obs = from_policy_to_pose(env, start_pose, a_test, add_rand=False)\n",
    "poses = [tuple(map(int, sub)) for sub in poses]\n",
    "obss = np.array([np.array([c, p], dtype=object) for c, p in zip(c_obs, poses)])\n",
    "agent_state_mapping = test_model.set_agent_state_mapping(obss)\n",
    "\n",
    "test_model, p, observations = train_cscg(test_model, obss.copy(), a_test)\n",
    "v = np.unique(test_model.states)\n",
    "T = test_model.T[:, v][:, :, v]\n",
    "A_test_model = T.sum(0).round(3)\n"
   ]
  },
  {
   "cell_type": "code",
   "execution_count": 126,
   "metadata": {},
   "outputs": [],
   "source": [
    "perfect_B, desired_state_mapping = env.define_perfect_B()"
   ]
  },
  {
   "cell_type": "code",
   "execution_count": 176,
   "metadata": {},
   "outputs": [],
   "source": [
    "\n",
    "def agent_B_match_ideal_B_v2(agent_state_mapping, agent_B, perfect_B, desired_state_mapping, actions, tolerance_margin = 0.3):\n",
    "    \"\"\"Check if the values == 1 in perfect_B are filled with values relatively close at tolerance level\"\"\"\n",
    "    \n",
    "    room_valid_state_agent= { k:v for k, v in agent_state_mapping.items() if k in desired_state_mapping.values() }\n",
    "    if len(room_valid_state_agent) < len(desired_state_mapping):\n",
    "        print('too small matrix')\n",
    "        return False\n",
    "    rearranged_B = B_to_ideal_B(agent_B, actions,desired_state_mapping, room_valid_state_agent)\n",
    "    rearranged_B = rearranged_B[:len(desired_state_mapping),:len(desired_state_mapping),:]\n",
    "    plot_transition(rearranged_B, actions)\n",
    "    if rearranged_B.shape != perfect_B.shape:\n",
    "        raise 'rearranged_B.shape should match B.shape'\n",
    "    non_zero_mask = perfect_B > 0\n",
    "    matching_indices = np.where(non_zero_mask & (np.abs(perfect_B - rearranged_B) <= tolerance_margin))\n",
    "    match_result = np.array_equal(np.array(matching_indices) ,np.array(np.where(non_zero_mask)))\n",
    "    \n",
    "    return match_result"
   ]
  },
  {
   "cell_type": "code",
   "execution_count": 143,
   "metadata": {},
   "outputs": [],
   "source": [
    "def transition_explo_reached(model, perfect_B, desired_state_mapping, actions, tolerance_margin = 0.4, real_pose_dict=None):\n",
    "    agent_state_mapping = model.get_agent_state_mapping()\n",
    "    agent_B = model.get_B()\n",
    "    if real_pose_dict is not None:\n",
    "        agent_state_mapping = {real_pose_dict[key]: value for key, value in list(agent_state_mapping.items()) if key in real_pose_dict}\n",
    "    return agent_B_match_ideal_B_v2(agent_state_mapping, agent_B, perfect_B, \n",
    "            desired_state_mapping, actions, tolerance_margin= tolerance_margin)\n"
   ]
  },
  {
   "cell_type": "code",
   "execution_count": 180,
   "metadata": {},
   "outputs": [
    {
     "name": "stderr",
     "output_type": "stream",
     "text": [
      "  0%|          | 1/200 [00:00<00:01, 192.40it/s, train_bps=3.17]\n",
      "  1%|          | 1/100 [00:00<00:00, 394.50it/s, train_bps=6.49]"
     ]
    },
    {
     "name": "stderr",
     "output_type": "stream",
     "text": [
      "\n"
     ]
    },
    {
     "data": {
      "image/png": "[encoded data removed]",
      "text/plain": [
       "<Figure size 1656x864 with 6 Axes>"
      ]
     },
     "metadata": {
      "needs_background": "light"
     },
     "output_type": "display_data"
    },
    {
     "name": "stderr",
     "output_type": "stream",
     "text": [
      "  1%|          | 2/200 [00:00<00:00, 442.95it/s, train_bps=2.93]\n",
      "  2%|▏         | 2/100 [00:00<00:00, 949.58it/s, train_bps=0.552]\n"
     ]
    },
    {
     "data": {
      "image/png": "[encoded data removed]",
      "text/plain": [
       "<Figure size 1656x864 with 6 Axes>"
      ]
     },
     "metadata": {
      "needs_background": "light"
     },
     "output_type": "display_data"
    },
    {
     "name": "stderr",
     "output_type": "stream",
     "text": [
      "  1%|          | 2/200 [00:00<00:00, 335.58it/s, train_bps=2.82]\n",
      "  2%|▏         | 2/100 [00:00<00:00, 804.28it/s, train_bps=0.411]\n"
     ]
    },
    {
     "data": {
      "image/png": "[encoded data removed]",
      "text/plain": [
       "<Figure size 1656x864 with 6 Axes>"
      ]
     },
     "metadata": {
      "needs_background": "light"
     },
     "output_type": "display_data"
    },
    {
     "name": "stderr",
     "output_type": "stream",
     "text": [
      "  1%|          | 2/200 [00:00<00:00, 923.86it/s, train_bps=2.66]\n",
      "  2%|▏         | 2/100 [00:00<00:00, 989.11it/s, train_bps=0.28]\n"
     ]
    },
    {
     "data": {
      "image/png": "[encoded data removed]",
      "text/plain": [
       "<Figure size 1656x864 with 6 Axes>"
      ]
     },
     "metadata": {
      "needs_background": "light"
     },
     "output_type": "display_data"
    },
    {
     "name": "stderr",
     "output_type": "stream",
     "text": [
      "  1%|          | 2/200 [00:00<00:00, 1033.33it/s, train_bps=2.5]\n",
      "  3%|▎         | 3/100 [00:00<00:00, 1005.75it/s, train_bps=0.237]\n"
     ]
    },
    {
     "data": {
      "image/png": "[encoded data removed]",
      "text/plain": [
       "<Figure size 1656x864 with 6 Axes>"
      ]
     },
     "metadata": {
      "needs_background": "light"
     },
     "output_type": "display_data"
    },
    {
     "name": "stderr",
     "output_type": "stream",
     "text": [
      "  1%|          | 2/200 [00:00<00:00, 305.70it/s, train_bps=2.41]\n",
      "  3%|▎         | 3/100 [00:00<00:00, 883.45it/s, train_bps=0.28]\n"
     ]
    },
    {
     "data": {
      "image/png": "[encoded data removed]",
      "text/plain": [
       "<Figure size 1656x864 with 6 Axes>"
      ]
     },
     "metadata": {
      "needs_background": "light"
     },
     "output_type": "display_data"
    },
    {
     "name": "stderr",
     "output_type": "stream",
     "text": [
      "  1%|          | 2/200 [00:00<00:00, 264.70it/s, train_bps=2.38]\n",
      "  3%|▎         | 3/100 [00:00<00:00, 420.82it/s, train_bps=0.298]\n"
     ]
    },
    {
     "data": {
      "image/png": "[encoded data removed]",
      "text/plain": [
       "<Figure size 1656x864 with 6 Axes>"
      ]
     },
     "metadata": {
      "needs_background": "light"
     },
     "output_type": "display_data"
    },
    {
     "name": "stderr",
     "output_type": "stream",
     "text": [
      "  1%|          | 2/200 [00:00<00:00, 721.97it/s, train_bps=2.45]\n",
      "  3%|▎         | 3/100 [00:00<00:00, 709.66it/s, train_bps=0.283]\n"
     ]
    },
    {
     "ename": "KeyboardInterrupt",
     "evalue": "",
     "output_type": "error",
     "traceback": [
      "\u001b[0;31m---------------------------------------------------------------------------\u001b[0m",
      "\u001b[0;31mKeyboardInterrupt\u001b[0m                         Traceback (most recent call last)",
      "Input \u001b[0;32mIn [180]\u001b[0m, in \u001b[0;36m<cell line: 10>\u001b[0;34m()\u001b[0m\n\u001b[1;32m     29\u001b[0m model, progression, digested_observations \u001b[38;5;241m=\u001b[39m train_cscg(model, observations, a)\n\u001b[1;32m     30\u001b[0m model\u001b[38;5;241m.\u001b[39mset_agent_state_mapping(observations)\n\u001b[0;32m---> 31\u001b[0m \u001b[38;5;28;01mif\u001b[39;00m \u001b[43mtransition_explo_reached\u001b[49m\u001b[43m(\u001b[49m\u001b[43mmodel\u001b[49m\u001b[43m,\u001b[49m\u001b[43m \u001b[49m\u001b[43mperfect_B\u001b[49m\u001b[43m,\u001b[49m\u001b[43m \u001b[49m\u001b[43mdesired_state_mapping\u001b[49m\u001b[43m,\u001b[49m\u001b[43m \u001b[49m\u001b[43mactions\u001b[49m\u001b[43m,\u001b[49m\u001b[43m \u001b[49m\u001b[43mtolerance_margin\u001b[49m\u001b[43m \u001b[49m\u001b[38;5;241;43m=\u001b[39;49m\u001b[43m \u001b[49m\u001b[38;5;241;43m0.4\u001b[39;49m\u001b[43m,\u001b[49m\u001b[43m \u001b[49m\u001b[43mreal_pose_dict\u001b[49m\u001b[38;5;241;43m=\u001b[39;49m\u001b[38;5;28;43;01mNone\u001b[39;49;00m\u001b[43m)\u001b[49m:\n\u001b[1;32m     32\u001b[0m     \u001b[38;5;28mprint\u001b[39m(\u001b[38;5;124m'\u001b[39m\u001b[38;5;124mok\u001b[39m\u001b[38;5;124m'\u001b[39m)\n\u001b[1;32m     33\u001b[0m     ok \u001b[38;5;241m=\u001b[39m \u001b[38;5;28;01mTrue\u001b[39;00m\n",
      "Input \u001b[0;32mIn [143]\u001b[0m, in \u001b[0;36mtransition_explo_reached\u001b[0;34m(model, perfect_B, desired_state_mapping, actions, tolerance_margin, real_pose_dict)\u001b[0m\n\u001b[1;32m      4\u001b[0m \u001b[38;5;28;01mif\u001b[39;00m real_pose_dict \u001b[38;5;129;01mis\u001b[39;00m \u001b[38;5;129;01mnot\u001b[39;00m \u001b[38;5;28;01mNone\u001b[39;00m:\n\u001b[1;32m      5\u001b[0m     agent_state_mapping \u001b[38;5;241m=\u001b[39m {real_pose_dict[key]: value \u001b[38;5;28;01mfor\u001b[39;00m key, value \u001b[38;5;129;01min\u001b[39;00m \u001b[38;5;28mlist\u001b[39m(agent_state_mapping\u001b[38;5;241m.\u001b[39mitems()) \u001b[38;5;28;01mif\u001b[39;00m key \u001b[38;5;129;01min\u001b[39;00m real_pose_dict}\n\u001b[0;32m----> 6\u001b[0m \u001b[38;5;28;01mreturn\u001b[39;00m \u001b[43magent_B_match_ideal_B_v2\u001b[49m\u001b[43m(\u001b[49m\u001b[43magent_state_mapping\u001b[49m\u001b[43m,\u001b[49m\u001b[43m \u001b[49m\u001b[43magent_B\u001b[49m\u001b[43m,\u001b[49m\u001b[43m \u001b[49m\u001b[43mperfect_B\u001b[49m\u001b[43m,\u001b[49m\u001b[43m \u001b[49m\n\u001b[1;32m      7\u001b[0m \u001b[43m        \u001b[49m\u001b[43mdesired_state_mapping\u001b[49m\u001b[43m,\u001b[49m\u001b[43m \u001b[49m\u001b[43mactions\u001b[49m\u001b[43m,\u001b[49m\u001b[43m \u001b[49m\u001b[43mtolerance_margin\u001b[49m\u001b[38;5;241;43m=\u001b[39;49m\u001b[43m \u001b[49m\u001b[43mtolerance_margin\u001b[49m\u001b[43m)\u001b[49m\n",
      "Input \u001b[0;32mIn [176]\u001b[0m, in \u001b[0;36magent_B_match_ideal_B_v2\u001b[0;34m(agent_state_mapping, agent_B, perfect_B, desired_state_mapping, actions, tolerance_margin)\u001b[0m\n\u001b[1;32m      8\u001b[0m rearranged_B \u001b[38;5;241m=\u001b[39m B_to_ideal_B(agent_B, actions,desired_state_mapping, room_valid_state_agent)\n\u001b[1;32m      9\u001b[0m rearranged_B \u001b[38;5;241m=\u001b[39m rearranged_B[:\u001b[38;5;28mlen\u001b[39m(desired_state_mapping),:\u001b[38;5;28mlen\u001b[39m(desired_state_mapping),:]\n\u001b[0;32m---> 10\u001b[0m \u001b[43mplot_transition\u001b[49m\u001b[43m(\u001b[49m\u001b[43mrearranged_B\u001b[49m\u001b[43m,\u001b[49m\u001b[43m \u001b[49m\u001b[43mactions\u001b[49m\u001b[43m)\u001b[49m\n\u001b[1;32m     11\u001b[0m \u001b[38;5;28;01mif\u001b[39;00m rearranged_B\u001b[38;5;241m.\u001b[39mshape \u001b[38;5;241m!=\u001b[39m perfect_B\u001b[38;5;241m.\u001b[39mshape:\n\u001b[1;32m     12\u001b[0m     \u001b[38;5;28;01mraise\u001b[39;00m \u001b[38;5;124m'\u001b[39m\u001b[38;5;124mrearranged_B.shape should match B.shape\u001b[39m\u001b[38;5;124m'\u001b[39m\n",
      "File \u001b[0;32m~/workspace/higher_level_nav/visualisation_tools.py:534\u001b[0m, in \u001b[0;36mplot_transition\u001b[0;34m(B, actions, state_mapping, sorted_labels)\u001b[0m\n\u001b[1;32m    532\u001b[0m \u001b[38;5;66;03m# fig.delaxes(axes.flatten()[2+int(len(a)/2)])\u001b[39;00m\n\u001b[1;32m    533\u001b[0m plt\u001b[38;5;241m.\u001b[39mtight_layout()\n\u001b[0;32m--> 534\u001b[0m \u001b[43mplt\u001b[49m\u001b[38;5;241;43m.\u001b[39;49m\u001b[43mshow\u001b[49m\u001b[43m(\u001b[49m\u001b[43m)\u001b[49m\n",
      "File \u001b[0;32m~/.conda/envs/ozgqn/lib/python3.8/site-packages/matplotlib/pyplot.py:446\u001b[0m, in \u001b[0;36mshow\u001b[0;34m(*args, **kwargs)\u001b[0m\n\u001b[1;32m    402\u001b[0m \u001b[38;5;124;03m\"\"\"\u001b[39;00m\n\u001b[1;32m    403\u001b[0m \u001b[38;5;124;03mDisplay all open figures.\u001b[39;00m\n\u001b[1;32m    404\u001b[0m \n\u001b[0;32m   (...)\u001b[0m\n\u001b[1;32m    443\u001b[0m \u001b[38;5;124;03mexplicitly there.\u001b[39;00m\n\u001b[1;32m    444\u001b[0m \u001b[38;5;124;03m\"\"\"\u001b[39;00m\n\u001b[1;32m    445\u001b[0m _warn_if_gui_out_of_main_thread()\n\u001b[0;32m--> 446\u001b[0m \u001b[38;5;28;01mreturn\u001b[39;00m \u001b[43m_get_backend_mod\u001b[49m\u001b[43m(\u001b[49m\u001b[43m)\u001b[49m\u001b[38;5;241;43m.\u001b[39;49m\u001b[43mshow\u001b[49m\u001b[43m(\u001b[49m\u001b[38;5;241;43m*\u001b[39;49m\u001b[43margs\u001b[49m\u001b[43m,\u001b[49m\u001b[43m \u001b[49m\u001b[38;5;241;43m*\u001b[39;49m\u001b[38;5;241;43m*\u001b[39;49m\u001b[43mkwargs\u001b[49m\u001b[43m)\u001b[49m\n",
      "File \u001b[0;32m~/.local/lib/python3.8/site-packages/matplotlib_inline/backend_inline.py:41\u001b[0m, in \u001b[0;36mshow\u001b[0;34m(close, block)\u001b[0m\n\u001b[1;32m     39\u001b[0m \u001b[38;5;28;01mtry\u001b[39;00m:\n\u001b[1;32m     40\u001b[0m     \u001b[38;5;28;01mfor\u001b[39;00m figure_manager \u001b[38;5;129;01min\u001b[39;00m Gcf\u001b[38;5;241m.\u001b[39mget_all_fig_managers():\n\u001b[0;32m---> 41\u001b[0m         \u001b[43mdisplay\u001b[49m\u001b[43m(\u001b[49m\n\u001b[1;32m     42\u001b[0m \u001b[43m            \u001b[49m\u001b[43mfigure_manager\u001b[49m\u001b[38;5;241;43m.\u001b[39;49m\u001b[43mcanvas\u001b[49m\u001b[38;5;241;43m.\u001b[39;49m\u001b[43mfigure\u001b[49m\u001b[43m,\u001b[49m\n\u001b[1;32m     43\u001b[0m \u001b[43m            \u001b[49m\u001b[43mmetadata\u001b[49m\u001b[38;5;241;43m=\u001b[39;49m\u001b[43m_fetch_figure_metadata\u001b[49m\u001b[43m(\u001b[49m\u001b[43mfigure_manager\u001b[49m\u001b[38;5;241;43m.\u001b[39;49m\u001b[43mcanvas\u001b[49m\u001b[38;5;241;43m.\u001b[39;49m\u001b[43mfigure\u001b[49m\u001b[43m)\u001b[49m\n\u001b[1;32m     44\u001b[0m \u001b[43m        \u001b[49m\u001b[43m)\u001b[49m\n\u001b[1;32m     45\u001b[0m \u001b[38;5;28;01mfinally\u001b[39;00m:\n\u001b[1;32m     46\u001b[0m     show\u001b[38;5;241m.\u001b[39m_to_draw \u001b[38;5;241m=\u001b[39m []\n",
      "File \u001b[0;32m~/.local/lib/python3.8/site-packages/IPython/core/display_functions.py:298\u001b[0m, in \u001b[0;36mdisplay\u001b[0;34m(include, exclude, metadata, transient, display_id, raw, clear, *objs, **kwargs)\u001b[0m\n\u001b[1;32m    296\u001b[0m     publish_display_data(data\u001b[38;5;241m=\u001b[39mobj, metadata\u001b[38;5;241m=\u001b[39mmetadata, \u001b[38;5;241m*\u001b[39m\u001b[38;5;241m*\u001b[39mkwargs)\n\u001b[1;32m    297\u001b[0m \u001b[38;5;28;01melse\u001b[39;00m:\n\u001b[0;32m--> 298\u001b[0m     format_dict, md_dict \u001b[38;5;241m=\u001b[39m \u001b[38;5;28;43mformat\u001b[39;49m\u001b[43m(\u001b[49m\u001b[43mobj\u001b[49m\u001b[43m,\u001b[49m\u001b[43m \u001b[49m\u001b[43minclude\u001b[49m\u001b[38;5;241;43m=\u001b[39;49m\u001b[43minclude\u001b[49m\u001b[43m,\u001b[49m\u001b[43m \u001b[49m\u001b[43mexclude\u001b[49m\u001b[38;5;241;43m=\u001b[39;49m\u001b[43mexclude\u001b[49m\u001b[43m)\u001b[49m\n\u001b[1;32m    299\u001b[0m     \u001b[38;5;28;01mif\u001b[39;00m \u001b[38;5;129;01mnot\u001b[39;00m format_dict:\n\u001b[1;32m    300\u001b[0m         \u001b[38;5;66;03m# nothing to display (e.g. _ipython_display_ took over)\u001b[39;00m\n\u001b[1;32m    301\u001b[0m         \u001b[38;5;28;01mcontinue\u001b[39;00m\n",
      "File \u001b[0;32m~/.local/lib/python3.8/site-packages/IPython/core/formatters.py:178\u001b[0m, in \u001b[0;36mDisplayFormatter.format\u001b[0;34m(self, obj, include, exclude)\u001b[0m\n\u001b[1;32m    176\u001b[0m md \u001b[38;5;241m=\u001b[39m \u001b[38;5;28;01mNone\u001b[39;00m\n\u001b[1;32m    177\u001b[0m \u001b[38;5;28;01mtry\u001b[39;00m:\n\u001b[0;32m--> 178\u001b[0m     data \u001b[38;5;241m=\u001b[39m \u001b[43mformatter\u001b[49m\u001b[43m(\u001b[49m\u001b[43mobj\u001b[49m\u001b[43m)\u001b[49m\n\u001b[1;32m    179\u001b[0m \u001b[38;5;28;01mexcept\u001b[39;00m:\n\u001b[1;32m    180\u001b[0m     \u001b[38;5;66;03m# FIXME: log the exception\u001b[39;00m\n\u001b[1;32m    181\u001b[0m     \u001b[38;5;28;01mraise\u001b[39;00m\n",
      "File \u001b[0;32m~/.local/lib/python3.8/site-packages/decorator.py:232\u001b[0m, in \u001b[0;36mdecorate.<locals>.fun\u001b[0;34m(*args, **kw)\u001b[0m\n\u001b[1;32m    230\u001b[0m \u001b[38;5;28;01mif\u001b[39;00m \u001b[38;5;129;01mnot\u001b[39;00m kwsyntax:\n\u001b[1;32m    231\u001b[0m     args, kw \u001b[38;5;241m=\u001b[39m fix(args, kw, sig)\n\u001b[0;32m--> 232\u001b[0m \u001b[38;5;28;01mreturn\u001b[39;00m \u001b[43mcaller\u001b[49m\u001b[43m(\u001b[49m\u001b[43mfunc\u001b[49m\u001b[43m,\u001b[49m\u001b[43m \u001b[49m\u001b[38;5;241;43m*\u001b[39;49m\u001b[43m(\u001b[49m\u001b[43mextras\u001b[49m\u001b[43m \u001b[49m\u001b[38;5;241;43m+\u001b[39;49m\u001b[43m \u001b[49m\u001b[43margs\u001b[49m\u001b[43m)\u001b[49m\u001b[43m,\u001b[49m\u001b[43m \u001b[49m\u001b[38;5;241;43m*\u001b[39;49m\u001b[38;5;241;43m*\u001b[39;49m\u001b[43mkw\u001b[49m\u001b[43m)\u001b[49m\n",
      "File \u001b[0;32m~/.local/lib/python3.8/site-packages/IPython/core/formatters.py:222\u001b[0m, in \u001b[0;36mcatch_format_error\u001b[0;34m(method, self, *args, **kwargs)\u001b[0m\n\u001b[1;32m    220\u001b[0m \u001b[38;5;124;03m\"\"\"show traceback on failed format call\"\"\"\u001b[39;00m\n\u001b[1;32m    221\u001b[0m \u001b[38;5;28;01mtry\u001b[39;00m:\n\u001b[0;32m--> 222\u001b[0m     r \u001b[38;5;241m=\u001b[39m \u001b[43mmethod\u001b[49m\u001b[43m(\u001b[49m\u001b[38;5;28;43mself\u001b[39;49m\u001b[43m,\u001b[49m\u001b[43m \u001b[49m\u001b[38;5;241;43m*\u001b[39;49m\u001b[43margs\u001b[49m\u001b[43m,\u001b[49m\u001b[43m \u001b[49m\u001b[38;5;241;43m*\u001b[39;49m\u001b[38;5;241;43m*\u001b[39;49m\u001b[43mkwargs\u001b[49m\u001b[43m)\u001b[49m\n\u001b[1;32m    223\u001b[0m \u001b[38;5;28;01mexcept\u001b[39;00m \u001b[38;5;167;01mNotImplementedError\u001b[39;00m:\n\u001b[1;32m    224\u001b[0m     \u001b[38;5;66;03m# don't warn on NotImplementedErrors\u001b[39;00m\n\u001b[1;32m    225\u001b[0m     \u001b[38;5;28;01mreturn\u001b[39;00m \u001b[38;5;28mself\u001b[39m\u001b[38;5;241m.\u001b[39m_check_return(\u001b[38;5;28;01mNone\u001b[39;00m, args[\u001b[38;5;241m0\u001b[39m])\n",
      "File \u001b[0;32m~/.local/lib/python3.8/site-packages/IPython/core/formatters.py:339\u001b[0m, in \u001b[0;36mBaseFormatter.__call__\u001b[0;34m(self, obj)\u001b[0m\n\u001b[1;32m    337\u001b[0m     \u001b[38;5;28;01mpass\u001b[39;00m\n\u001b[1;32m    338\u001b[0m \u001b[38;5;28;01melse\u001b[39;00m:\n\u001b[0;32m--> 339\u001b[0m     \u001b[38;5;28;01mreturn\u001b[39;00m \u001b[43mprinter\u001b[49m\u001b[43m(\u001b[49m\u001b[43mobj\u001b[49m\u001b[43m)\u001b[49m\n\u001b[1;32m    340\u001b[0m \u001b[38;5;66;03m# Finally look for special method names\u001b[39;00m\n\u001b[1;32m    341\u001b[0m method \u001b[38;5;241m=\u001b[39m get_real_method(obj, \u001b[38;5;28mself\u001b[39m\u001b[38;5;241m.\u001b[39mprint_method)\n",
      "File \u001b[0;32m~/.local/lib/python3.8/site-packages/IPython/core/pylabtools.py:151\u001b[0m, in \u001b[0;36mprint_figure\u001b[0;34m(fig, fmt, bbox_inches, base64, **kwargs)\u001b[0m\n\u001b[1;32m    148\u001b[0m     \u001b[38;5;28;01mfrom\u001b[39;00m \u001b[38;5;21;01mmatplotlib\u001b[39;00m\u001b[38;5;21;01m.\u001b[39;00m\u001b[38;5;21;01mbackend_bases\u001b[39;00m \u001b[38;5;28;01mimport\u001b[39;00m FigureCanvasBase\n\u001b[1;32m    149\u001b[0m     FigureCanvasBase(fig)\n\u001b[0;32m--> 151\u001b[0m \u001b[43mfig\u001b[49m\u001b[38;5;241;43m.\u001b[39;49m\u001b[43mcanvas\u001b[49m\u001b[38;5;241;43m.\u001b[39;49m\u001b[43mprint_figure\u001b[49m\u001b[43m(\u001b[49m\u001b[43mbytes_io\u001b[49m\u001b[43m,\u001b[49m\u001b[43m \u001b[49m\u001b[38;5;241;43m*\u001b[39;49m\u001b[38;5;241;43m*\u001b[39;49m\u001b[43mkw\u001b[49m\u001b[43m)\u001b[49m\n\u001b[1;32m    152\u001b[0m data \u001b[38;5;241m=\u001b[39m bytes_io\u001b[38;5;241m.\u001b[39mgetvalue()\n\u001b[1;32m    153\u001b[0m \u001b[38;5;28;01mif\u001b[39;00m fmt \u001b[38;5;241m==\u001b[39m \u001b[38;5;124m'\u001b[39m\u001b[38;5;124msvg\u001b[39m\u001b[38;5;124m'\u001b[39m:\n",
      "File \u001b[0;32m~/.conda/envs/ozgqn/lib/python3.8/site-packages/matplotlib/backend_bases.py:2366\u001b[0m, in \u001b[0;36mFigureCanvasBase.print_figure\u001b[0;34m(self, filename, dpi, facecolor, edgecolor, orientation, format, bbox_inches, pad_inches, bbox_extra_artists, backend, **kwargs)\u001b[0m\n\u001b[1;32m   2362\u001b[0m \u001b[38;5;28;01mtry\u001b[39;00m:\n\u001b[1;32m   2363\u001b[0m     \u001b[38;5;66;03m# _get_renderer may change the figure dpi (as vector formats\u001b[39;00m\n\u001b[1;32m   2364\u001b[0m     \u001b[38;5;66;03m# force the figure dpi to 72), so we need to set it again here.\u001b[39;00m\n\u001b[1;32m   2365\u001b[0m     \u001b[38;5;28;01mwith\u001b[39;00m cbook\u001b[38;5;241m.\u001b[39m_setattr_cm(\u001b[38;5;28mself\u001b[39m\u001b[38;5;241m.\u001b[39mfigure, dpi\u001b[38;5;241m=\u001b[39mdpi):\n\u001b[0;32m-> 2366\u001b[0m         result \u001b[38;5;241m=\u001b[39m \u001b[43mprint_method\u001b[49m\u001b[43m(\u001b[49m\n\u001b[1;32m   2367\u001b[0m \u001b[43m            \u001b[49m\u001b[43mfilename\u001b[49m\u001b[43m,\u001b[49m\n\u001b[1;32m   2368\u001b[0m \u001b[43m            \u001b[49m\u001b[43mfacecolor\u001b[49m\u001b[38;5;241;43m=\u001b[39;49m\u001b[43mfacecolor\u001b[49m\u001b[43m,\u001b[49m\n\u001b[1;32m   2369\u001b[0m \u001b[43m            \u001b[49m\u001b[43medgecolor\u001b[49m\u001b[38;5;241;43m=\u001b[39;49m\u001b[43medgecolor\u001b[49m\u001b[43m,\u001b[49m\n\u001b[1;32m   2370\u001b[0m \u001b[43m            \u001b[49m\u001b[43morientation\u001b[49m\u001b[38;5;241;43m=\u001b[39;49m\u001b[43morientation\u001b[49m\u001b[43m,\u001b[49m\n\u001b[1;32m   2371\u001b[0m \u001b[43m            \u001b[49m\u001b[43mbbox_inches_restore\u001b[49m\u001b[38;5;241;43m=\u001b[39;49m\u001b[43m_bbox_inches_restore\u001b[49m\u001b[43m,\u001b[49m\n\u001b[1;32m   2372\u001b[0m \u001b[43m            \u001b[49m\u001b[38;5;241;43m*\u001b[39;49m\u001b[38;5;241;43m*\u001b[39;49m\u001b[43mkwargs\u001b[49m\u001b[43m)\u001b[49m\n\u001b[1;32m   2373\u001b[0m \u001b[38;5;28;01mfinally\u001b[39;00m:\n\u001b[1;32m   2374\u001b[0m     \u001b[38;5;28;01mif\u001b[39;00m bbox_inches \u001b[38;5;129;01mand\u001b[39;00m restore_bbox:\n",
      "File \u001b[0;32m~/.conda/envs/ozgqn/lib/python3.8/site-packages/matplotlib/backend_bases.py:2232\u001b[0m, in \u001b[0;36mFigureCanvasBase._switch_canvas_and_return_print_method.<locals>.<lambda>\u001b[0;34m(*args, **kwargs)\u001b[0m\n\u001b[1;32m   2228\u001b[0m     optional_kws \u001b[38;5;241m=\u001b[39m {  \u001b[38;5;66;03m# Passed by print_figure for other renderers.\u001b[39;00m\n\u001b[1;32m   2229\u001b[0m         \u001b[38;5;124m\"\u001b[39m\u001b[38;5;124mdpi\u001b[39m\u001b[38;5;124m\"\u001b[39m, \u001b[38;5;124m\"\u001b[39m\u001b[38;5;124mfacecolor\u001b[39m\u001b[38;5;124m\"\u001b[39m, \u001b[38;5;124m\"\u001b[39m\u001b[38;5;124medgecolor\u001b[39m\u001b[38;5;124m\"\u001b[39m, \u001b[38;5;124m\"\u001b[39m\u001b[38;5;124morientation\u001b[39m\u001b[38;5;124m\"\u001b[39m,\n\u001b[1;32m   2230\u001b[0m         \u001b[38;5;124m\"\u001b[39m\u001b[38;5;124mbbox_inches_restore\u001b[39m\u001b[38;5;124m\"\u001b[39m}\n\u001b[1;32m   2231\u001b[0m     skip \u001b[38;5;241m=\u001b[39m optional_kws \u001b[38;5;241m-\u001b[39m {\u001b[38;5;241m*\u001b[39minspect\u001b[38;5;241m.\u001b[39msignature(meth)\u001b[38;5;241m.\u001b[39mparameters}\n\u001b[0;32m-> 2232\u001b[0m     print_method \u001b[38;5;241m=\u001b[39m functools\u001b[38;5;241m.\u001b[39mwraps(meth)(\u001b[38;5;28;01mlambda\u001b[39;00m \u001b[38;5;241m*\u001b[39margs, \u001b[38;5;241m*\u001b[39m\u001b[38;5;241m*\u001b[39mkwargs: \u001b[43mmeth\u001b[49m\u001b[43m(\u001b[49m\n\u001b[1;32m   2233\u001b[0m \u001b[43m        \u001b[49m\u001b[38;5;241;43m*\u001b[39;49m\u001b[43margs\u001b[49m\u001b[43m,\u001b[49m\u001b[43m \u001b[49m\u001b[38;5;241;43m*\u001b[39;49m\u001b[38;5;241;43m*\u001b[39;49m\u001b[43m{\u001b[49m\u001b[43mk\u001b[49m\u001b[43m:\u001b[49m\u001b[43m \u001b[49m\u001b[43mv\u001b[49m\u001b[43m \u001b[49m\u001b[38;5;28;43;01mfor\u001b[39;49;00m\u001b[43m \u001b[49m\u001b[43mk\u001b[49m\u001b[43m,\u001b[49m\u001b[43m \u001b[49m\u001b[43mv\u001b[49m\u001b[43m \u001b[49m\u001b[38;5;129;43;01min\u001b[39;49;00m\u001b[43m \u001b[49m\u001b[43mkwargs\u001b[49m\u001b[38;5;241;43m.\u001b[39;49m\u001b[43mitems\u001b[49m\u001b[43m(\u001b[49m\u001b[43m)\u001b[49m\u001b[43m \u001b[49m\u001b[38;5;28;43;01mif\u001b[39;49;00m\u001b[43m \u001b[49m\u001b[43mk\u001b[49m\u001b[43m \u001b[49m\u001b[38;5;129;43;01mnot\u001b[39;49;00m\u001b[43m \u001b[49m\u001b[38;5;129;43;01min\u001b[39;49;00m\u001b[43m \u001b[49m\u001b[43mskip\u001b[49m\u001b[43m}\u001b[49m\u001b[43m)\u001b[49m)\n\u001b[1;32m   2234\u001b[0m \u001b[38;5;28;01melse\u001b[39;00m:  \u001b[38;5;66;03m# Let third-parties do as they see fit.\u001b[39;00m\n\u001b[1;32m   2235\u001b[0m     print_method \u001b[38;5;241m=\u001b[39m meth\n",
      "File \u001b[0;32m~/.conda/envs/ozgqn/lib/python3.8/site-packages/matplotlib/backends/backend_agg.py:509\u001b[0m, in \u001b[0;36mFigureCanvasAgg.print_png\u001b[0;34m(self, filename_or_obj, metadata, pil_kwargs)\u001b[0m\n\u001b[1;32m    462\u001b[0m \u001b[38;5;28;01mdef\u001b[39;00m \u001b[38;5;21mprint_png\u001b[39m(\u001b[38;5;28mself\u001b[39m, filename_or_obj, \u001b[38;5;241m*\u001b[39m, metadata\u001b[38;5;241m=\u001b[39m\u001b[38;5;28;01mNone\u001b[39;00m, pil_kwargs\u001b[38;5;241m=\u001b[39m\u001b[38;5;28;01mNone\u001b[39;00m):\n\u001b[1;32m    463\u001b[0m     \u001b[38;5;124;03m\"\"\"\u001b[39;00m\n\u001b[1;32m    464\u001b[0m \u001b[38;5;124;03m    Write the figure to a PNG file.\u001b[39;00m\n\u001b[1;32m    465\u001b[0m \n\u001b[0;32m   (...)\u001b[0m\n\u001b[1;32m    507\u001b[0m \u001b[38;5;124;03m        *metadata*, including the default 'Software' key.\u001b[39;00m\n\u001b[1;32m    508\u001b[0m \u001b[38;5;124;03m    \"\"\"\u001b[39;00m\n\u001b[0;32m--> 509\u001b[0m     \u001b[38;5;28;43mself\u001b[39;49m\u001b[38;5;241;43m.\u001b[39;49m\u001b[43m_print_pil\u001b[49m\u001b[43m(\u001b[49m\u001b[43mfilename_or_obj\u001b[49m\u001b[43m,\u001b[49m\u001b[43m \u001b[49m\u001b[38;5;124;43m\"\u001b[39;49m\u001b[38;5;124;43mpng\u001b[39;49m\u001b[38;5;124;43m\"\u001b[39;49m\u001b[43m,\u001b[49m\u001b[43m \u001b[49m\u001b[43mpil_kwargs\u001b[49m\u001b[43m,\u001b[49m\u001b[43m \u001b[49m\u001b[43mmetadata\u001b[49m\u001b[43m)\u001b[49m\n",
      "File \u001b[0;32m~/.conda/envs/ozgqn/lib/python3.8/site-packages/matplotlib/backends/backend_agg.py:457\u001b[0m, in \u001b[0;36mFigureCanvasAgg._print_pil\u001b[0;34m(self, filename_or_obj, fmt, pil_kwargs, metadata)\u001b[0m\n\u001b[1;32m    452\u001b[0m \u001b[38;5;28;01mdef\u001b[39;00m \u001b[38;5;21m_print_pil\u001b[39m(\u001b[38;5;28mself\u001b[39m, filename_or_obj, fmt, pil_kwargs, metadata\u001b[38;5;241m=\u001b[39m\u001b[38;5;28;01mNone\u001b[39;00m):\n\u001b[1;32m    453\u001b[0m     \u001b[38;5;124;03m\"\"\"\u001b[39;00m\n\u001b[1;32m    454\u001b[0m \u001b[38;5;124;03m    Draw the canvas, then save it using `.image.imsave` (to which\u001b[39;00m\n\u001b[1;32m    455\u001b[0m \u001b[38;5;124;03m    *pil_kwargs* and *metadata* are forwarded).\u001b[39;00m\n\u001b[1;32m    456\u001b[0m \u001b[38;5;124;03m    \"\"\"\u001b[39;00m\n\u001b[0;32m--> 457\u001b[0m     \u001b[43mFigureCanvasAgg\u001b[49m\u001b[38;5;241;43m.\u001b[39;49m\u001b[43mdraw\u001b[49m\u001b[43m(\u001b[49m\u001b[38;5;28;43mself\u001b[39;49m\u001b[43m)\u001b[49m\n\u001b[1;32m    458\u001b[0m     mpl\u001b[38;5;241m.\u001b[39mimage\u001b[38;5;241m.\u001b[39mimsave(\n\u001b[1;32m    459\u001b[0m         filename_or_obj, \u001b[38;5;28mself\u001b[39m\u001b[38;5;241m.\u001b[39mbuffer_rgba(), \u001b[38;5;28mformat\u001b[39m\u001b[38;5;241m=\u001b[39mfmt, origin\u001b[38;5;241m=\u001b[39m\u001b[38;5;124m\"\u001b[39m\u001b[38;5;124mupper\u001b[39m\u001b[38;5;124m\"\u001b[39m,\n\u001b[1;32m    460\u001b[0m         dpi\u001b[38;5;241m=\u001b[39m\u001b[38;5;28mself\u001b[39m\u001b[38;5;241m.\u001b[39mfigure\u001b[38;5;241m.\u001b[39mdpi, metadata\u001b[38;5;241m=\u001b[39mmetadata, pil_kwargs\u001b[38;5;241m=\u001b[39mpil_kwargs)\n",
      "File \u001b[0;32m~/.conda/envs/ozgqn/lib/python3.8/site-packages/matplotlib/backends/backend_agg.py:400\u001b[0m, in \u001b[0;36mFigureCanvasAgg.draw\u001b[0;34m(self)\u001b[0m\n\u001b[1;32m    396\u001b[0m \u001b[38;5;66;03m# Acquire a lock on the shared font cache.\u001b[39;00m\n\u001b[1;32m    397\u001b[0m \u001b[38;5;28;01mwith\u001b[39;00m RendererAgg\u001b[38;5;241m.\u001b[39mlock, \\\n\u001b[1;32m    398\u001b[0m      (\u001b[38;5;28mself\u001b[39m\u001b[38;5;241m.\u001b[39mtoolbar\u001b[38;5;241m.\u001b[39m_wait_cursor_for_draw_cm() \u001b[38;5;28;01mif\u001b[39;00m \u001b[38;5;28mself\u001b[39m\u001b[38;5;241m.\u001b[39mtoolbar\n\u001b[1;32m    399\u001b[0m       \u001b[38;5;28;01melse\u001b[39;00m nullcontext()):\n\u001b[0;32m--> 400\u001b[0m     \u001b[38;5;28;43mself\u001b[39;49m\u001b[38;5;241;43m.\u001b[39;49m\u001b[43mfigure\u001b[49m\u001b[38;5;241;43m.\u001b[39;49m\u001b[43mdraw\u001b[49m\u001b[43m(\u001b[49m\u001b[38;5;28;43mself\u001b[39;49m\u001b[38;5;241;43m.\u001b[39;49m\u001b[43mrenderer\u001b[49m\u001b[43m)\u001b[49m\n\u001b[1;32m    401\u001b[0m     \u001b[38;5;66;03m# A GUI class may be need to update a window using this draw, so\u001b[39;00m\n\u001b[1;32m    402\u001b[0m     \u001b[38;5;66;03m# don't forget to call the superclass.\u001b[39;00m\n\u001b[1;32m    403\u001b[0m     \u001b[38;5;28msuper\u001b[39m()\u001b[38;5;241m.\u001b[39mdraw()\n",
      "File \u001b[0;32m~/.conda/envs/ozgqn/lib/python3.8/site-packages/matplotlib/artist.py:95\u001b[0m, in \u001b[0;36m_finalize_rasterization.<locals>.draw_wrapper\u001b[0;34m(artist, renderer, *args, **kwargs)\u001b[0m\n\u001b[1;32m     93\u001b[0m \u001b[38;5;129m@wraps\u001b[39m(draw)\n\u001b[1;32m     94\u001b[0m \u001b[38;5;28;01mdef\u001b[39;00m \u001b[38;5;21mdraw_wrapper\u001b[39m(artist, renderer, \u001b[38;5;241m*\u001b[39margs, \u001b[38;5;241m*\u001b[39m\u001b[38;5;241m*\u001b[39mkwargs):\n\u001b[0;32m---> 95\u001b[0m     result \u001b[38;5;241m=\u001b[39m \u001b[43mdraw\u001b[49m\u001b[43m(\u001b[49m\u001b[43martist\u001b[49m\u001b[43m,\u001b[49m\u001b[43m \u001b[49m\u001b[43mrenderer\u001b[49m\u001b[43m,\u001b[49m\u001b[43m \u001b[49m\u001b[38;5;241;43m*\u001b[39;49m\u001b[43margs\u001b[49m\u001b[43m,\u001b[49m\u001b[43m \u001b[49m\u001b[38;5;241;43m*\u001b[39;49m\u001b[38;5;241;43m*\u001b[39;49m\u001b[43mkwargs\u001b[49m\u001b[43m)\u001b[49m\n\u001b[1;32m     96\u001b[0m     \u001b[38;5;28;01mif\u001b[39;00m renderer\u001b[38;5;241m.\u001b[39m_rasterizing:\n\u001b[1;32m     97\u001b[0m         renderer\u001b[38;5;241m.\u001b[39mstop_rasterizing()\n",
      "File \u001b[0;32m~/.conda/envs/ozgqn/lib/python3.8/site-packages/matplotlib/artist.py:72\u001b[0m, in \u001b[0;36mallow_rasterization.<locals>.draw_wrapper\u001b[0;34m(artist, renderer)\u001b[0m\n\u001b[1;32m     69\u001b[0m     \u001b[38;5;28;01mif\u001b[39;00m artist\u001b[38;5;241m.\u001b[39mget_agg_filter() \u001b[38;5;129;01mis\u001b[39;00m \u001b[38;5;129;01mnot\u001b[39;00m \u001b[38;5;28;01mNone\u001b[39;00m:\n\u001b[1;32m     70\u001b[0m         renderer\u001b[38;5;241m.\u001b[39mstart_filter()\n\u001b[0;32m---> 72\u001b[0m     \u001b[38;5;28;01mreturn\u001b[39;00m \u001b[43mdraw\u001b[49m\u001b[43m(\u001b[49m\u001b[43martist\u001b[49m\u001b[43m,\u001b[49m\u001b[43m \u001b[49m\u001b[43mrenderer\u001b[49m\u001b[43m)\u001b[49m\n\u001b[1;32m     73\u001b[0m \u001b[38;5;28;01mfinally\u001b[39;00m:\n\u001b[1;32m     74\u001b[0m     \u001b[38;5;28;01mif\u001b[39;00m artist\u001b[38;5;241m.\u001b[39mget_agg_filter() \u001b[38;5;129;01mis\u001b[39;00m \u001b[38;5;129;01mnot\u001b[39;00m \u001b[38;5;28;01mNone\u001b[39;00m:\n",
      "File \u001b[0;32m~/.conda/envs/ozgqn/lib/python3.8/site-packages/matplotlib/figure.py:3140\u001b[0m, in \u001b[0;36mFigure.draw\u001b[0;34m(self, renderer)\u001b[0m\n\u001b[1;32m   3137\u001b[0m         \u001b[38;5;66;03m# ValueError can occur when resizing a window.\u001b[39;00m\n\u001b[1;32m   3139\u001b[0m \u001b[38;5;28mself\u001b[39m\u001b[38;5;241m.\u001b[39mpatch\u001b[38;5;241m.\u001b[39mdraw(renderer)\n\u001b[0;32m-> 3140\u001b[0m \u001b[43mmimage\u001b[49m\u001b[38;5;241;43m.\u001b[39;49m\u001b[43m_draw_list_compositing_images\u001b[49m\u001b[43m(\u001b[49m\n\u001b[1;32m   3141\u001b[0m \u001b[43m    \u001b[49m\u001b[43mrenderer\u001b[49m\u001b[43m,\u001b[49m\u001b[43m \u001b[49m\u001b[38;5;28;43mself\u001b[39;49m\u001b[43m,\u001b[49m\u001b[43m \u001b[49m\u001b[43martists\u001b[49m\u001b[43m,\u001b[49m\u001b[43m \u001b[49m\u001b[38;5;28;43mself\u001b[39;49m\u001b[38;5;241;43m.\u001b[39;49m\u001b[43msuppressComposite\u001b[49m\u001b[43m)\u001b[49m\n\u001b[1;32m   3143\u001b[0m \u001b[38;5;28;01mfor\u001b[39;00m sfig \u001b[38;5;129;01min\u001b[39;00m \u001b[38;5;28mself\u001b[39m\u001b[38;5;241m.\u001b[39msubfigs:\n\u001b[1;32m   3144\u001b[0m     sfig\u001b[38;5;241m.\u001b[39mdraw(renderer)\n",
      "File \u001b[0;32m~/.conda/envs/ozgqn/lib/python3.8/site-packages/matplotlib/image.py:131\u001b[0m, in \u001b[0;36m_draw_list_compositing_images\u001b[0;34m(renderer, parent, artists, suppress_composite)\u001b[0m\n\u001b[1;32m    129\u001b[0m \u001b[38;5;28;01mif\u001b[39;00m not_composite \u001b[38;5;129;01mor\u001b[39;00m \u001b[38;5;129;01mnot\u001b[39;00m has_images:\n\u001b[1;32m    130\u001b[0m     \u001b[38;5;28;01mfor\u001b[39;00m a \u001b[38;5;129;01min\u001b[39;00m artists:\n\u001b[0;32m--> 131\u001b[0m         \u001b[43ma\u001b[49m\u001b[38;5;241;43m.\u001b[39;49m\u001b[43mdraw\u001b[49m\u001b[43m(\u001b[49m\u001b[43mrenderer\u001b[49m\u001b[43m)\u001b[49m\n\u001b[1;32m    132\u001b[0m \u001b[38;5;28;01melse\u001b[39;00m:\n\u001b[1;32m    133\u001b[0m     \u001b[38;5;66;03m# Composite any adjacent images together\u001b[39;00m\n\u001b[1;32m    134\u001b[0m     image_group \u001b[38;5;241m=\u001b[39m []\n",
      "File \u001b[0;32m~/.conda/envs/ozgqn/lib/python3.8/site-packages/matplotlib/artist.py:72\u001b[0m, in \u001b[0;36mallow_rasterization.<locals>.draw_wrapper\u001b[0;34m(artist, renderer)\u001b[0m\n\u001b[1;32m     69\u001b[0m     \u001b[38;5;28;01mif\u001b[39;00m artist\u001b[38;5;241m.\u001b[39mget_agg_filter() \u001b[38;5;129;01mis\u001b[39;00m \u001b[38;5;129;01mnot\u001b[39;00m \u001b[38;5;28;01mNone\u001b[39;00m:\n\u001b[1;32m     70\u001b[0m         renderer\u001b[38;5;241m.\u001b[39mstart_filter()\n\u001b[0;32m---> 72\u001b[0m     \u001b[38;5;28;01mreturn\u001b[39;00m \u001b[43mdraw\u001b[49m\u001b[43m(\u001b[49m\u001b[43martist\u001b[49m\u001b[43m,\u001b[49m\u001b[43m \u001b[49m\u001b[43mrenderer\u001b[49m\u001b[43m)\u001b[49m\n\u001b[1;32m     73\u001b[0m \u001b[38;5;28;01mfinally\u001b[39;00m:\n\u001b[1;32m     74\u001b[0m     \u001b[38;5;28;01mif\u001b[39;00m artist\u001b[38;5;241m.\u001b[39mget_agg_filter() \u001b[38;5;129;01mis\u001b[39;00m \u001b[38;5;129;01mnot\u001b[39;00m \u001b[38;5;28;01mNone\u001b[39;00m:\n",
      "File \u001b[0;32m~/.conda/envs/ozgqn/lib/python3.8/site-packages/matplotlib/axes/_base.py:3064\u001b[0m, in \u001b[0;36m_AxesBase.draw\u001b[0;34m(self, renderer)\u001b[0m\n\u001b[1;32m   3061\u001b[0m \u001b[38;5;28;01mif\u001b[39;00m artists_rasterized:\n\u001b[1;32m   3062\u001b[0m     _draw_rasterized(\u001b[38;5;28mself\u001b[39m\u001b[38;5;241m.\u001b[39mfigure, artists_rasterized, renderer)\n\u001b[0;32m-> 3064\u001b[0m \u001b[43mmimage\u001b[49m\u001b[38;5;241;43m.\u001b[39;49m\u001b[43m_draw_list_compositing_images\u001b[49m\u001b[43m(\u001b[49m\n\u001b[1;32m   3065\u001b[0m \u001b[43m    \u001b[49m\u001b[43mrenderer\u001b[49m\u001b[43m,\u001b[49m\u001b[43m \u001b[49m\u001b[38;5;28;43mself\u001b[39;49m\u001b[43m,\u001b[49m\u001b[43m \u001b[49m\u001b[43martists\u001b[49m\u001b[43m,\u001b[49m\u001b[43m \u001b[49m\u001b[38;5;28;43mself\u001b[39;49m\u001b[38;5;241;43m.\u001b[39;49m\u001b[43mfigure\u001b[49m\u001b[38;5;241;43m.\u001b[39;49m\u001b[43msuppressComposite\u001b[49m\u001b[43m)\u001b[49m\n\u001b[1;32m   3067\u001b[0m renderer\u001b[38;5;241m.\u001b[39mclose_group(\u001b[38;5;124m'\u001b[39m\u001b[38;5;124maxes\u001b[39m\u001b[38;5;124m'\u001b[39m)\n\u001b[1;32m   3068\u001b[0m \u001b[38;5;28mself\u001b[39m\u001b[38;5;241m.\u001b[39mstale \u001b[38;5;241m=\u001b[39m \u001b[38;5;28;01mFalse\u001b[39;00m\n",
      "File \u001b[0;32m~/.conda/envs/ozgqn/lib/python3.8/site-packages/matplotlib/image.py:131\u001b[0m, in \u001b[0;36m_draw_list_compositing_images\u001b[0;34m(renderer, parent, artists, suppress_composite)\u001b[0m\n\u001b[1;32m    129\u001b[0m \u001b[38;5;28;01mif\u001b[39;00m not_composite \u001b[38;5;129;01mor\u001b[39;00m \u001b[38;5;129;01mnot\u001b[39;00m has_images:\n\u001b[1;32m    130\u001b[0m     \u001b[38;5;28;01mfor\u001b[39;00m a \u001b[38;5;129;01min\u001b[39;00m artists:\n\u001b[0;32m--> 131\u001b[0m         \u001b[43ma\u001b[49m\u001b[38;5;241;43m.\u001b[39;49m\u001b[43mdraw\u001b[49m\u001b[43m(\u001b[49m\u001b[43mrenderer\u001b[49m\u001b[43m)\u001b[49m\n\u001b[1;32m    132\u001b[0m \u001b[38;5;28;01melse\u001b[39;00m:\n\u001b[1;32m    133\u001b[0m     \u001b[38;5;66;03m# Composite any adjacent images together\u001b[39;00m\n\u001b[1;32m    134\u001b[0m     image_group \u001b[38;5;241m=\u001b[39m []\n",
      "File \u001b[0;32m~/.conda/envs/ozgqn/lib/python3.8/site-packages/matplotlib/artist.py:72\u001b[0m, in \u001b[0;36mallow_rasterization.<locals>.draw_wrapper\u001b[0;34m(artist, renderer)\u001b[0m\n\u001b[1;32m     69\u001b[0m     \u001b[38;5;28;01mif\u001b[39;00m artist\u001b[38;5;241m.\u001b[39mget_agg_filter() \u001b[38;5;129;01mis\u001b[39;00m \u001b[38;5;129;01mnot\u001b[39;00m \u001b[38;5;28;01mNone\u001b[39;00m:\n\u001b[1;32m     70\u001b[0m         renderer\u001b[38;5;241m.\u001b[39mstart_filter()\n\u001b[0;32m---> 72\u001b[0m     \u001b[38;5;28;01mreturn\u001b[39;00m \u001b[43mdraw\u001b[49m\u001b[43m(\u001b[49m\u001b[43martist\u001b[49m\u001b[43m,\u001b[49m\u001b[43m \u001b[49m\u001b[43mrenderer\u001b[49m\u001b[43m)\u001b[49m\n\u001b[1;32m     73\u001b[0m \u001b[38;5;28;01mfinally\u001b[39;00m:\n\u001b[1;32m     74\u001b[0m     \u001b[38;5;28;01mif\u001b[39;00m artist\u001b[38;5;241m.\u001b[39mget_agg_filter() \u001b[38;5;129;01mis\u001b[39;00m \u001b[38;5;129;01mnot\u001b[39;00m \u001b[38;5;28;01mNone\u001b[39;00m:\n",
      "File \u001b[0;32m~/.conda/envs/ozgqn/lib/python3.8/site-packages/matplotlib/axis.py:1380\u001b[0m, in \u001b[0;36mAxis.draw\u001b[0;34m(self, renderer, *args, **kwargs)\u001b[0m\n\u001b[1;32m   1377\u001b[0m tlb1, tlb2 \u001b[38;5;241m=\u001b[39m \u001b[38;5;28mself\u001b[39m\u001b[38;5;241m.\u001b[39m_get_ticklabel_bboxes(ticks_to_draw, renderer)\n\u001b[1;32m   1379\u001b[0m \u001b[38;5;28;01mfor\u001b[39;00m tick \u001b[38;5;129;01min\u001b[39;00m ticks_to_draw:\n\u001b[0;32m-> 1380\u001b[0m     \u001b[43mtick\u001b[49m\u001b[38;5;241;43m.\u001b[39;49m\u001b[43mdraw\u001b[49m\u001b[43m(\u001b[49m\u001b[43mrenderer\u001b[49m\u001b[43m)\u001b[49m\n\u001b[1;32m   1382\u001b[0m \u001b[38;5;66;03m# Shift label away from axes to avoid overlapping ticklabels.\u001b[39;00m\n\u001b[1;32m   1383\u001b[0m \u001b[38;5;28mself\u001b[39m\u001b[38;5;241m.\u001b[39m_update_label_position(renderer)\n",
      "File \u001b[0;32m~/.conda/envs/ozgqn/lib/python3.8/site-packages/matplotlib/artist.py:72\u001b[0m, in \u001b[0;36mallow_rasterization.<locals>.draw_wrapper\u001b[0;34m(artist, renderer)\u001b[0m\n\u001b[1;32m     69\u001b[0m     \u001b[38;5;28;01mif\u001b[39;00m artist\u001b[38;5;241m.\u001b[39mget_agg_filter() \u001b[38;5;129;01mis\u001b[39;00m \u001b[38;5;129;01mnot\u001b[39;00m \u001b[38;5;28;01mNone\u001b[39;00m:\n\u001b[1;32m     70\u001b[0m         renderer\u001b[38;5;241m.\u001b[39mstart_filter()\n\u001b[0;32m---> 72\u001b[0m     \u001b[38;5;28;01mreturn\u001b[39;00m \u001b[43mdraw\u001b[49m\u001b[43m(\u001b[49m\u001b[43martist\u001b[49m\u001b[43m,\u001b[49m\u001b[43m \u001b[49m\u001b[43mrenderer\u001b[49m\u001b[43m)\u001b[49m\n\u001b[1;32m     73\u001b[0m \u001b[38;5;28;01mfinally\u001b[39;00m:\n\u001b[1;32m     74\u001b[0m     \u001b[38;5;28;01mif\u001b[39;00m artist\u001b[38;5;241m.\u001b[39mget_agg_filter() \u001b[38;5;129;01mis\u001b[39;00m \u001b[38;5;129;01mnot\u001b[39;00m \u001b[38;5;28;01mNone\u001b[39;00m:\n",
      "File \u001b[0;32m~/.conda/envs/ozgqn/lib/python3.8/site-packages/matplotlib/axis.py:301\u001b[0m, in \u001b[0;36mTick.draw\u001b[0;34m(self, renderer)\u001b[0m\n\u001b[1;32m    298\u001b[0m renderer\u001b[38;5;241m.\u001b[39mopen_group(\u001b[38;5;28mself\u001b[39m\u001b[38;5;241m.\u001b[39m\u001b[38;5;18m__name__\u001b[39m, gid\u001b[38;5;241m=\u001b[39m\u001b[38;5;28mself\u001b[39m\u001b[38;5;241m.\u001b[39mget_gid())\n\u001b[1;32m    299\u001b[0m \u001b[38;5;28;01mfor\u001b[39;00m artist \u001b[38;5;129;01min\u001b[39;00m [\u001b[38;5;28mself\u001b[39m\u001b[38;5;241m.\u001b[39mgridline, \u001b[38;5;28mself\u001b[39m\u001b[38;5;241m.\u001b[39mtick1line, \u001b[38;5;28mself\u001b[39m\u001b[38;5;241m.\u001b[39mtick2line,\n\u001b[1;32m    300\u001b[0m                \u001b[38;5;28mself\u001b[39m\u001b[38;5;241m.\u001b[39mlabel1, \u001b[38;5;28mself\u001b[39m\u001b[38;5;241m.\u001b[39mlabel2]:\n\u001b[0;32m--> 301\u001b[0m     \u001b[43martist\u001b[49m\u001b[38;5;241;43m.\u001b[39;49m\u001b[43mdraw\u001b[49m\u001b[43m(\u001b[49m\u001b[43mrenderer\u001b[49m\u001b[43m)\u001b[49m\n\u001b[1;32m    302\u001b[0m renderer\u001b[38;5;241m.\u001b[39mclose_group(\u001b[38;5;28mself\u001b[39m\u001b[38;5;241m.\u001b[39m\u001b[38;5;18m__name__\u001b[39m)\n\u001b[1;32m    303\u001b[0m \u001b[38;5;28mself\u001b[39m\u001b[38;5;241m.\u001b[39mstale \u001b[38;5;241m=\u001b[39m \u001b[38;5;28;01mFalse\u001b[39;00m\n",
      "File \u001b[0;32m~/.conda/envs/ozgqn/lib/python3.8/site-packages/matplotlib/artist.py:72\u001b[0m, in \u001b[0;36mallow_rasterization.<locals>.draw_wrapper\u001b[0;34m(artist, renderer)\u001b[0m\n\u001b[1;32m     69\u001b[0m     \u001b[38;5;28;01mif\u001b[39;00m artist\u001b[38;5;241m.\u001b[39mget_agg_filter() \u001b[38;5;129;01mis\u001b[39;00m \u001b[38;5;129;01mnot\u001b[39;00m \u001b[38;5;28;01mNone\u001b[39;00m:\n\u001b[1;32m     70\u001b[0m         renderer\u001b[38;5;241m.\u001b[39mstart_filter()\n\u001b[0;32m---> 72\u001b[0m     \u001b[38;5;28;01mreturn\u001b[39;00m \u001b[43mdraw\u001b[49m\u001b[43m(\u001b[49m\u001b[43martist\u001b[49m\u001b[43m,\u001b[49m\u001b[43m \u001b[49m\u001b[43mrenderer\u001b[49m\u001b[43m)\u001b[49m\n\u001b[1;32m     73\u001b[0m \u001b[38;5;28;01mfinally\u001b[39;00m:\n\u001b[1;32m     74\u001b[0m     \u001b[38;5;28;01mif\u001b[39;00m artist\u001b[38;5;241m.\u001b[39mget_agg_filter() \u001b[38;5;129;01mis\u001b[39;00m \u001b[38;5;129;01mnot\u001b[39;00m \u001b[38;5;28;01mNone\u001b[39;00m:\n",
      "File \u001b[0;32m~/.conda/envs/ozgqn/lib/python3.8/site-packages/matplotlib/text.py:772\u001b[0m, in \u001b[0;36mText.draw\u001b[0;34m(self, renderer)\u001b[0m\n\u001b[1;32m    769\u001b[0m     \u001b[38;5;28mself\u001b[39m\u001b[38;5;241m.\u001b[39m_bbox_patch\u001b[38;5;241m.\u001b[39mdraw(renderer)\n\u001b[1;32m    771\u001b[0m gc \u001b[38;5;241m=\u001b[39m renderer\u001b[38;5;241m.\u001b[39mnew_gc()\n\u001b[0;32m--> 772\u001b[0m \u001b[43mgc\u001b[49m\u001b[38;5;241;43m.\u001b[39;49m\u001b[43mset_foreground\u001b[49m\u001b[43m(\u001b[49m\u001b[38;5;28;43mself\u001b[39;49m\u001b[38;5;241;43m.\u001b[39;49m\u001b[43mget_color\u001b[49m\u001b[43m(\u001b[49m\u001b[43m)\u001b[49m\u001b[43m)\u001b[49m\n\u001b[1;32m    773\u001b[0m gc\u001b[38;5;241m.\u001b[39mset_alpha(\u001b[38;5;28mself\u001b[39m\u001b[38;5;241m.\u001b[39mget_alpha())\n\u001b[1;32m    774\u001b[0m gc\u001b[38;5;241m.\u001b[39mset_url(\u001b[38;5;28mself\u001b[39m\u001b[38;5;241m.\u001b[39m_url)\n",
      "File \u001b[0;32m~/.conda/envs/ozgqn/lib/python3.8/site-packages/matplotlib/backend_bases.py:981\u001b[0m, in \u001b[0;36mGraphicsContextBase.set_foreground\u001b[0;34m(self, fg, isRGBA)\u001b[0m\n\u001b[1;32m    979\u001b[0m     \u001b[38;5;28mself\u001b[39m\u001b[38;5;241m.\u001b[39m_rgb \u001b[38;5;241m=\u001b[39m fg\n\u001b[1;32m    980\u001b[0m \u001b[38;5;28;01melse\u001b[39;00m:\n\u001b[0;32m--> 981\u001b[0m     \u001b[38;5;28mself\u001b[39m\u001b[38;5;241m.\u001b[39m_rgb \u001b[38;5;241m=\u001b[39m \u001b[43mcolors\u001b[49m\u001b[38;5;241;43m.\u001b[39;49m\u001b[43mto_rgba\u001b[49m\u001b[43m(\u001b[49m\u001b[43mfg\u001b[49m\u001b[43m)\u001b[49m\n",
      "File \u001b[0;32m~/.conda/envs/ozgqn/lib/python3.8/site-packages/matplotlib/colors.py:290\u001b[0m, in \u001b[0;36mto_rgba\u001b[0;34m(c, alpha)\u001b[0m\n\u001b[1;32m    266\u001b[0m \u001b[38;5;124;03m\"\"\"\u001b[39;00m\n\u001b[1;32m    267\u001b[0m \u001b[38;5;124;03mConvert *c* to an RGBA color.\u001b[39;00m\n\u001b[1;32m    268\u001b[0m \n\u001b[0;32m   (...)\u001b[0m\n\u001b[1;32m    287\u001b[0m \u001b[38;5;124;03m    alpha) can assume values between 0 and 1.\u001b[39;00m\n\u001b[1;32m    288\u001b[0m \u001b[38;5;124;03m\"\"\"\u001b[39;00m\n\u001b[1;32m    289\u001b[0m \u001b[38;5;66;03m# Special-case nth color syntax because it should not be cached.\u001b[39;00m\n\u001b[0;32m--> 290\u001b[0m \u001b[38;5;28;01mif\u001b[39;00m \u001b[43m_is_nth_color\u001b[49m\u001b[43m(\u001b[49m\u001b[43mc\u001b[49m\u001b[43m)\u001b[49m:\n\u001b[1;32m    291\u001b[0m     prop_cycler \u001b[38;5;241m=\u001b[39m mpl\u001b[38;5;241m.\u001b[39mrcParams[\u001b[38;5;124m'\u001b[39m\u001b[38;5;124maxes.prop_cycle\u001b[39m\u001b[38;5;124m'\u001b[39m]\n\u001b[1;32m    292\u001b[0m     colors \u001b[38;5;241m=\u001b[39m prop_cycler\u001b[38;5;241m.\u001b[39mby_key()\u001b[38;5;241m.\u001b[39mget(\u001b[38;5;124m'\u001b[39m\u001b[38;5;124mcolor\u001b[39m\u001b[38;5;124m'\u001b[39m, [\u001b[38;5;124m'\u001b[39m\u001b[38;5;124mk\u001b[39m\u001b[38;5;124m'\u001b[39m])\n",
      "File \u001b[0;32m~/.conda/envs/ozgqn/lib/python3.8/site-packages/matplotlib/colors.py:215\u001b[0m, in \u001b[0;36m_is_nth_color\u001b[0;34m(c)\u001b[0m\n\u001b[1;32m    213\u001b[0m \u001b[38;5;28;01mdef\u001b[39;00m \u001b[38;5;21m_is_nth_color\u001b[39m(c):\n\u001b[1;32m    214\u001b[0m     \u001b[38;5;124;03m\"\"\"Return whether *c* can be interpreted as an item in the color cycle.\"\"\"\u001b[39;00m\n\u001b[0;32m--> 215\u001b[0m     \u001b[38;5;28;01mreturn\u001b[39;00m \u001b[38;5;28misinstance\u001b[39m(c, \u001b[38;5;28mstr\u001b[39m) \u001b[38;5;129;01mand\u001b[39;00m \u001b[43mre\u001b[49m\u001b[38;5;241;43m.\u001b[39;49m\u001b[43mmatch\u001b[49m\u001b[43m(\u001b[49m\u001b[38;5;124;43mr\u001b[39;49m\u001b[38;5;124;43m\"\u001b[39;49m\u001b[38;5;124;43m\\\u001b[39;49m\u001b[38;5;124;43mAC[0-9]+\u001b[39;49m\u001b[38;5;124;43m\\\u001b[39;49m\u001b[38;5;124;43mZ\u001b[39;49m\u001b[38;5;124;43m\"\u001b[39;49m\u001b[43m,\u001b[49m\u001b[43m \u001b[49m\u001b[43mc\u001b[49m\u001b[43m)\u001b[49m\n",
      "File \u001b[0;32m~/.conda/envs/ozgqn/lib/python3.8/re.py:191\u001b[0m, in \u001b[0;36mmatch\u001b[0;34m(pattern, string, flags)\u001b[0m\n\u001b[1;32m    188\u001b[0m \u001b[38;5;28;01mdef\u001b[39;00m \u001b[38;5;21mmatch\u001b[39m(pattern, string, flags\u001b[38;5;241m=\u001b[39m\u001b[38;5;241m0\u001b[39m):\n\u001b[1;32m    189\u001b[0m     \u001b[38;5;124;03m\"\"\"Try to apply the pattern at the start of the string, returning\u001b[39;00m\n\u001b[1;32m    190\u001b[0m \u001b[38;5;124;03m    a Match object, or None if no match was found.\"\"\"\u001b[39;00m\n\u001b[0;32m--> 191\u001b[0m     \u001b[38;5;28;01mreturn\u001b[39;00m \u001b[43m_compile\u001b[49m\u001b[43m(\u001b[49m\u001b[43mpattern\u001b[49m\u001b[43m,\u001b[49m\u001b[43m \u001b[49m\u001b[43mflags\u001b[49m\u001b[43m)\u001b[49m\u001b[38;5;241;43m.\u001b[39;49m\u001b[43mmatch\u001b[49m\u001b[43m(\u001b[49m\u001b[43mstring\u001b[49m\u001b[43m)\u001b[49m\n",
      "\u001b[0;31mKeyboardInterrupt\u001b[0m: "
     ]
    }
   ],
   "source": [
    "#CSCG EXPLORATION\n",
    "T=300\n",
    "ob = env.get_ob_given_p(start_pose)\n",
    "c_obs, a = [np.array([ob],dtype=np.int64), np.array([], dtype=np.int64)]\n",
    "poses = [start_pose]\n",
    "pose = start_pose\n",
    "test = []\n",
    "\n",
    "ok = False\n",
    "for t in range(0,T):\n",
    "    next_possible_actions = env.get_next_possible_motions(pose, no_stay=False)\n",
    "    \n",
    "    # print('p next actions', pose, next_possible_actions)\n",
    "    next_possible_actions = [0,1,2,3]\n",
    "    #print('observations', [ob, pose])\n",
    "    action, _ = chmm.infer_action(next_possible_actions = next_possible_actions, observation=[ob, pose], random_policy=False)\n",
    "    # test.append(chmm.pose_mapping.index(pose))\n",
    "    obs, _,_,_ = env.step(action, pose)\n",
    "    ob, pose = obs\n",
    "    c_obs =np.append(c_obs,ob)\n",
    "    a= np.append(a,action)\n",
    "    poses.append(pose)\n",
    "\n",
    "    # test.append(chmm.pose_mapping.index(pose))\n",
    "    observations = np.array([np.array([c, p], dtype=object) for c, p in zip(c_obs[:len(a)], poses[:len(a)])])\n",
    "    \n",
    "    if t % 11 == 0:\n",
    "        model = copy.deepcopy(chmm)\n",
    "        model, progression, digested_observations = train_cscg(model, observations, a)\n",
    "        if isinstance(observations[0], np.ndarray) or isinstance(observations[0], tuple):\n",
    "            # obs = test_model.from_obs_to_ob(observations)\n",
    "            observations[:,1] = model.from_pose_to_idx(observations[:,1])\n",
    "        asm = model.get_agent_state_mapping(observations,a,poses)\n",
    "        if transition_explo_reached(model, perfect_B, desired_state_mapping, actions, tolerance_margin = 0.4, real_pose_dict=None):\n",
    "            print('ok')\n",
    "            ok = True\n",
    "            break\n",
    "        del model\n",
    "if ok != True:\n",
    "    model = copy.deepcopy(chmm)\n",
    "    observations = np.array([np.array([c, p], dtype=object) for c, p in zip(c_obs[:], poses[:])])\n",
    "    model, progression, digested_observations = train_cscg(model, observations, a)"
   ]
  },
  {
   "cell_type": "code",
   "execution_count": 156,
   "metadata": {},
   "outputs": [
    {
     "data": {
      "text/plain": [
       "False"
      ]
     },
     "execution_count": 156,
     "metadata": {},
     "output_type": "execute_result"
    }
   ],
   "source": [
    "ok"
   ]
  },
  {
   "cell_type": "code",
   "execution_count": null,
   "metadata": {},
   "outputs": [],
   "source": [
    "with open(\"figures/cscg/cscg_test.pkl\", \"wb\") as outp:\n",
    "    pickle.dump(chmm, outp, pickle.HIGHEST_PROTOCOL)"
   ]
  },
  {
   "cell_type": "code",
   "execution_count": 157,
   "metadata": {},
   "outputs": [
    {
     "data": {
      "text/plain": [
       "{(0, 0): {'state': -1, 'state_ob': 0, 'ob': 0, 'pose_idx': 0},\n",
       " (0, 1): {'state': -1, 'state_ob': 1, 'ob': 0, 'pose_idx': 1},\n",
       " (0, 2): {'state': -1, 'state_ob': 2, 'ob': 1, 'pose_idx': 2},\n",
       " (1, 2): {'state': -1, 'state_ob': 3, 'ob': 4, 'pose_idx': 3},\n",
       " (2, 2): {'state': -1, 'state_ob': 4, 'ob': 3, 'pose_idx': 4},\n",
       " (1, 1): {'state': -1, 'state_ob': 5, 'ob': 0, 'pose_idx': 5},\n",
       " (1, 0): {'state': -1, 'state_ob': 6, 'ob': 2, 'pose_idx': 6},\n",
       " (2, 1): {'state': -1, 'state_ob': 7, 'ob': 3, 'pose_idx': 7},\n",
       " (2, 0): {'state': -1, 'state_ob': 8, 'ob': 3, 'pose_idx': 8}}"
      ]
     },
     "execution_count": 157,
     "metadata": {},
     "output_type": "execute_result"
    }
   ],
   "source": [
    "model.get_agent_state_mapping()"
   ]
  },
  {
   "cell_type": "code",
   "execution_count": 158,
   "metadata": {},
   "outputs": [
    {
     "data": {
      "text/plain": [
       "{(0, 0): {'state': -1, 'state_ob': 0, 'ob': 0, 'pose_idx': 0},\n",
       " (0, 1): {'state': -1, 'state_ob': 1, 'ob': 0, 'pose_idx': 1},\n",
       " (0, 2): {'state': -1, 'state_ob': 2, 'ob': 1, 'pose_idx': 2},\n",
       " (1, 2): {'state': -1, 'state_ob': 3, 'ob': 4, 'pose_idx': 3},\n",
       " (2, 2): {'state': -1, 'state_ob': 4, 'ob': 3, 'pose_idx': 4},\n",
       " (1, 1): {'state': -1, 'state_ob': 5, 'ob': 0, 'pose_idx': 5},\n",
       " (1, 0): {'state': -1, 'state_ob': 6, 'ob': 2, 'pose_idx': 6},\n",
       " (2, 1): {'state': -1, 'state_ob': 7, 'ob': 3, 'pose_idx': 7},\n",
       " (2, 0): {'state': -1, 'state_ob': 8, 'ob': 3, 'pose_idx': 8}}"
      ]
     },
     "execution_count": 158,
     "metadata": {},
     "output_type": "execute_result"
    }
   ],
   "source": [
    "chmm.get_agent_state_mapping()"
   ]
  },
  {
   "cell_type": "code",
   "execution_count": 50,
   "metadata": {},
   "outputs": [],
   "source": [
    "def plot_cscg_graph_test(\n",
    "    A, x, v, n_clones,agent_state_mapping, store_path, cmap=cm.Spectral, vertex_size=30\n",
    "):\n",
    "    v_map = [value['state'] for value in agent_state_mapping.values()]\n",
    "    obs = [value['ob'] for value in agent_state_mapping.values()]\n",
    "    colors = [cmap(nl)[:3] for nl in obs]\n",
    "    # if isinstance(x[0], np.ndarray):\n",
    "        \n",
    "    if not len(v_map) == len(v) :\n",
    "        print('states don-t match agent_state_mapping')\n",
    "        try:\n",
    "\n",
    "            poses = list(agent_state_mapping.keys())\n",
    "            obs = []\n",
    "            for s in v:\n",
    "                if s in v_map:\n",
    "                    index = v_map.index(s)\n",
    "                else:\n",
    "                    index = bisect.bisect_left(v_map, s) -1\n",
    "                if index < 0:\n",
    "                    index =0\n",
    "                obs.append(agent_state_mapping[poses[index]]['ob'])\n",
    "            colors = [cmap(nl)[:3] for nl in obs]\n",
    "            # if isinstance(x[0], np.ndarray):\n",
    "            #     x = x[:,0]\n",
    "            # node_labels = np.arange(np.max(x) + 1).repeat(n_clones)[v]\n",
    "            #colors = [cmap(nl)[:3] for nl in node_labels / node_labels.max()]\n",
    "        except ValueError:\n",
    "            print('Value error in plot_cscg_graph')\n",
    "            node_labels = np.arange(np.min([A.shape[0], len(n_clones)])).repeat(n_clones)[v]        \n",
    "            colors = [cmap(nl)[:3] for nl in node_labels / node_labels.max()]\n",
    "\n",
    "    g = igraph.Graph.Adjacency((A > 0).tolist())\n",
    "    print(A)\n",
    "    print(type(g))\n",
    "\n",
    "    out = igraph.plot(\n",
    "        g,\n",
    "        store_path / 'connection_graph.png',\n",
    "        layout=g.layout(\"kamada_kawai\"),\n",
    "        vertex_color=colors,\n",
    "        vertex_label=v,\n",
    "        vertex_size=vertex_size,\n",
    "        margin=50,\n",
    "    )\n",
    "\n",
    "    return out"
   ]
  },
  {
   "cell_type": "code",
   "execution_count": 159,
   "metadata": {},
   "outputs": [],
   "source": [
    "states = model.states\n",
    "v = np.unique(states)\n",
    "T = model.T[:, v][:, :, v]\n",
    "# T[-1] = model.T[:, v][:, :, v]\n",
    "A = T.sum(0)\n",
    "A = A.round(3)\n",
    "non_zero_mask = A_test_model > 0\n",
    "current_n_zero_mask = A >0\n",
    "if np.array_equal(non_zero_mask,current_n_zero_mask):\n",
    "    print('ok')"
   ]
  },
  {
   "cell_type": "code",
   "execution_count": 160,
   "metadata": {},
   "outputs": [
    {
     "data": {
      "text/plain": [
       "array([ 1, 13, 24, 39, 46, 50, 65, 76, 85])"
      ]
     },
     "execution_count": 160,
     "metadata": {},
     "output_type": "execute_result"
    }
   ],
   "source": [
    "v"
   ]
  },
  {
   "cell_type": "code",
   "execution_count": 161,
   "metadata": {},
   "outputs": [
    {
     "data": {
      "text/plain": [
       "array([[2.987, 0.999, 0.   , 0.   , 0.   , 0.   , 0.999, 0.   , 0.   ],\n",
       "       [0.998, 1.999, 0.999, 0.   , 0.   , 0.999, 0.   , 0.   , 0.   ],\n",
       "       [0.   , 0.999, 2.998, 0.999, 0.   , 0.   , 0.   , 0.   , 0.   ],\n",
       "       [0.   , 0.   , 0.999, 1.999, 1.   , 0.999, 0.   , 0.   , 0.   ],\n",
       "       [0.   , 0.   , 0.   , 0.999, 2.997, 0.   , 0.   , 0.999, 0.   ],\n",
       "       [0.   , 0.998, 0.   , 0.999, 0.   , 1.   , 0.999, 0.999, 0.   ],\n",
       "       [0.999, 0.   , 0.   , 0.   , 0.   , 0.999, 1.999, 0.   , 0.999],\n",
       "       [0.   , 0.   , 0.   , 0.   , 0.999, 0.999, 0.   , 1.999, 0.999],\n",
       "       [0.   , 0.   , 0.   , 0.   , 0.   , 0.   , 0.999, 0.999, 2.998]],\n",
       "      dtype=float32)"
      ]
     },
     "execution_count": 161,
     "metadata": {},
     "output_type": "execute_result"
    }
   ],
   "source": [
    "A"
   ]
  },
  {
   "cell_type": "code",
   "execution_count": 162,
   "metadata": {},
   "outputs": [
    {
     "data": {
      "text/plain": [
       "{(0, 0): {'state': -1, 'state_ob': 0, 'ob': 0, 'pose_idx': 0},\n",
       " (1, 0): {'state': -1, 'state_ob': 1, 'ob': 2, 'pose_idx': 1},\n",
       " (2, 0): {'state': -1, 'state_ob': 2, 'ob': 3, 'pose_idx': 2},\n",
       " (1, 1): {'state': -1, 'state_ob': 3, 'ob': 0, 'pose_idx': 3},\n",
       " (1, 2): {'state': -1, 'state_ob': 4, 'ob': 4, 'pose_idx': 4},\n",
       " (0, 2): {'state': -1, 'state_ob': 5, 'ob': 1, 'pose_idx': 5},\n",
       " (0, 1): {'state': -1, 'state_ob': 6, 'ob': 0, 'pose_idx': 6},\n",
       " (2, 1): {'state': -1, 'state_ob': 7, 'ob': 3, 'pose_idx': 7},\n",
       " (2, 2): {'state': -1, 'state_ob': 8, 'ob': 3, 'pose_idx': 8}}"
      ]
     },
     "execution_count": 162,
     "metadata": {},
     "output_type": "execute_result"
    }
   ],
   "source": [
    "agent_state_mapping"
   ]
  },
  {
   "cell_type": "code",
   "execution_count": 163,
   "metadata": {},
   "outputs": [
    {
     "name": "stdout",
     "output_type": "stream",
     "text": [
      "2\n",
      "301\n",
      "300\n",
      "301\n"
     ]
    }
   ],
   "source": [
    "print(len(obs))\n",
    "print(len(observations))\n",
    "print(len(a))\n",
    "print(len(poses))"
   ]
  },
  {
   "cell_type": "code",
   "execution_count": 164,
   "metadata": {},
   "outputs": [
    {
     "name": "stdout",
     "output_type": "stream",
     "text": [
      "[[2.987 0.999 0.    0.    0.    0.    0.999 0.    0.   ]\n",
      " [0.998 1.999 0.999 0.    0.    0.999 0.    0.    0.   ]\n",
      " [0.    0.999 2.998 0.999 0.    0.    0.    0.    0.   ]\n",
      " [0.    0.    0.999 1.999 1.    0.999 0.    0.    0.   ]\n",
      " [0.    0.    0.    0.999 2.997 0.    0.    0.999 0.   ]\n",
      " [0.    0.998 0.    0.999 0.    1.    0.999 0.999 0.   ]\n",
      " [0.999 0.    0.    0.    0.    0.999 1.999 0.    0.999]\n",
      " [0.    0.    0.    0.    0.999 0.999 0.    1.999 0.999]\n",
      " [0.    0.    0.    0.    0.    0.    0.999 0.999 2.998]]\n",
      "<class 'igraph.Graph'>\n"
     ]
    },
    {
     "data": {
      "image/svg+xml": [
       "<?xml version=\"1.0\" encoding=\"UTF-8\"?>\n",
       "<svg xmlns=\"http://www.w3.org/2000/svg\" xmlns:xlink=\"http://www.w3.org/1999/xlink\" width=\"600pt\" height=\"600pt\" viewBox=\"0 0 600 600\" version=\"1.1\">\n",
       "<defs>\n",
       "<g>\n",
       "<symbol overflow=\"visible\" id=\"glyph0-0\">\n",
       "<path style=\"stroke:none;\" d=\"M 0.703125 2.46875 L 0.703125 -9.875 L 7.703125 -9.875 L 7.703125 2.46875 Z M 1.484375 1.703125 L 6.921875 1.703125 L 6.921875 -9.078125 L 1.484375 -9.078125 Z M 1.484375 1.703125 \"/>\n",
       "</symbol>\n",
       "<symbol overflow=\"visible\" id=\"glyph0-1\">\n",
       "<path style=\"stroke:none;\" d=\"M 1.734375 -1.15625 L 4 -1.15625 L 4 -8.953125 L 1.53125 -8.453125 L 1.53125 -9.71875 L 3.984375 -10.203125 L 5.359375 -10.203125 L 5.359375 -1.15625 L 7.609375 -1.15625 L 7.609375 0 L 1.734375 0 Z M 1.734375 -1.15625 \"/>\n",
       "</symbol>\n",
       "<symbol overflow=\"visible\" id=\"glyph0-2\">\n",
       "<path style=\"stroke:none;\" d=\"M 5.6875 -5.5 C 6.34375 -5.363281 6.851562 -5.070312 7.21875 -4.625 C 7.59375 -4.175781 7.78125 -3.625 7.78125 -2.96875 C 7.78125 -1.957031 7.429688 -1.175781 6.734375 -0.625 C 6.046875 -0.0703125 5.066406 0.203125 3.796875 0.203125 C 3.367188 0.203125 2.925781 0.15625 2.46875 0.0625 C 2.019531 -0.0195312 1.550781 -0.144531 1.0625 -0.3125 L 1.0625 -1.640625 C 1.445312 -1.421875 1.867188 -1.253906 2.328125 -1.140625 C 2.785156 -1.023438 3.257812 -0.96875 3.75 -0.96875 C 4.613281 -0.96875 5.269531 -1.132812 5.71875 -1.46875 C 6.175781 -1.8125 6.40625 -2.3125 6.40625 -2.96875 C 6.40625 -3.570312 6.191406 -4.039062 5.765625 -4.375 C 5.347656 -4.71875 4.765625 -4.890625 4.015625 -4.890625 L 2.828125 -4.890625 L 2.828125 -6.015625 L 4.078125 -6.015625 C 4.753906 -6.015625 5.269531 -6.148438 5.625 -6.421875 C 5.988281 -6.703125 6.171875 -7.097656 6.171875 -7.609375 C 6.171875 -8.128906 5.984375 -8.53125 5.609375 -8.8125 C 5.242188 -9.09375 4.710938 -9.234375 4.015625 -9.234375 C 3.640625 -9.234375 3.234375 -9.191406 2.796875 -9.109375 C 2.367188 -9.023438 1.894531 -8.894531 1.375 -8.71875 L 1.375 -9.953125 C 1.894531 -10.097656 2.382812 -10.207031 2.84375 -10.28125 C 3.300781 -10.351562 3.734375 -10.390625 4.140625 -10.390625 C 5.191406 -10.390625 6.019531 -10.148438 6.625 -9.671875 C 7.238281 -9.203125 7.546875 -8.5625 7.546875 -7.75 C 7.546875 -7.175781 7.382812 -6.695312 7.0625 -6.3125 C 6.738281 -5.925781 6.28125 -5.65625 5.6875 -5.5 Z M 5.6875 -5.5 \"/>\n",
       "</symbol>\n",
       "<symbol overflow=\"visible\" id=\"glyph0-3\">\n",
       "<path style=\"stroke:none;\" d=\"M 2.6875 -1.15625 L 7.5 -1.15625 L 7.5 0 L 1.03125 0 L 1.03125 -1.15625 C 1.550781 -1.695312 2.265625 -2.425781 3.171875 -3.34375 C 4.078125 -4.257812 4.644531 -4.847656 4.875 -5.109375 C 5.3125 -5.609375 5.617188 -6.03125 5.796875 -6.375 C 5.972656 -6.71875 6.0625 -7.054688 6.0625 -7.390625 C 6.0625 -7.929688 5.867188 -8.375 5.484375 -8.71875 C 5.109375 -9.0625 4.613281 -9.234375 4 -9.234375 C 3.570312 -9.234375 3.117188 -9.15625 2.640625 -9 C 2.160156 -8.851562 1.644531 -8.625 1.09375 -8.3125 L 1.09375 -9.71875 C 1.644531 -9.9375 2.160156 -10.101562 2.640625 -10.21875 C 3.128906 -10.332031 3.578125 -10.390625 3.984375 -10.390625 C 5.035156 -10.390625 5.875 -10.125 6.5 -9.59375 C 7.132812 -9.070312 7.453125 -8.367188 7.453125 -7.484375 C 7.453125 -7.054688 7.375 -6.65625 7.21875 -6.28125 C 7.0625 -5.90625 6.773438 -5.460938 6.359375 -4.953125 C 6.242188 -4.828125 5.878906 -4.445312 5.265625 -3.8125 C 4.660156 -3.175781 3.800781 -2.289062 2.6875 -1.15625 Z M 2.6875 -1.15625 \"/>\n",
       "</symbol>\n",
       "<symbol overflow=\"visible\" id=\"glyph0-4\">\n",
       "<path style=\"stroke:none;\" d=\"M 5.296875 -9 L 1.8125 -3.5625 L 5.296875 -3.5625 Z M 4.921875 -10.203125 L 6.671875 -10.203125 L 6.671875 -3.5625 L 8.125 -3.5625 L 8.125 -2.40625 L 6.671875 -2.40625 L 6.671875 0 L 5.296875 0 L 5.296875 -2.40625 L 0.6875 -2.40625 L 0.6875 -3.734375 Z M 4.921875 -10.203125 \"/>\n",
       "</symbol>\n",
       "<symbol overflow=\"visible\" id=\"glyph0-5\">\n",
       "<path style=\"stroke:none;\" d=\"M 1.53125 -0.21875 L 1.53125 -1.46875 C 1.882812 -1.300781 2.238281 -1.175781 2.59375 -1.09375 C 2.945312 -1.007812 3.296875 -0.96875 3.640625 -0.96875 C 4.546875 -0.96875 5.238281 -1.269531 5.71875 -1.875 C 6.207031 -2.488281 6.484375 -3.421875 6.546875 -4.671875 C 6.285156 -4.285156 5.953125 -3.984375 5.546875 -3.765625 C 5.140625 -3.554688 4.691406 -3.453125 4.203125 -3.453125 C 3.179688 -3.453125 2.367188 -3.757812 1.765625 -4.375 C 1.171875 -5 0.875 -5.847656 0.875 -6.921875 C 0.875 -7.960938 1.179688 -8.800781 1.796875 -9.4375 C 2.421875 -10.070312 3.25 -10.390625 4.28125 -10.390625 C 5.46875 -10.390625 6.367188 -9.9375 6.984375 -9.03125 C 7.609375 -8.125 7.921875 -6.8125 7.921875 -5.09375 C 7.921875 -3.488281 7.539062 -2.203125 6.78125 -1.234375 C 6.019531 -0.273438 4.992188 0.203125 3.703125 0.203125 C 3.347656 0.203125 2.992188 0.164062 2.640625 0.09375 C 2.285156 0.03125 1.914062 -0.0703125 1.53125 -0.21875 Z M 4.28125 -4.546875 C 4.90625 -4.546875 5.394531 -4.753906 5.75 -5.171875 C 6.113281 -5.597656 6.296875 -6.179688 6.296875 -6.921875 C 6.296875 -7.648438 6.113281 -8.226562 5.75 -8.65625 C 5.394531 -9.082031 4.90625 -9.296875 4.28125 -9.296875 C 3.664062 -9.296875 3.175781 -9.082031 2.8125 -8.65625 C 2.445312 -8.226562 2.265625 -7.648438 2.265625 -6.921875 C 2.265625 -6.179688 2.445312 -5.597656 2.8125 -5.171875 C 3.175781 -4.753906 3.664062 -4.546875 4.28125 -4.546875 Z M 4.28125 -4.546875 \"/>\n",
       "</symbol>\n",
       "<symbol overflow=\"visible\" id=\"glyph0-6\">\n",
       "<path style=\"stroke:none;\" d=\"M 4.625 -5.65625 C 4 -5.65625 3.503906 -5.441406 3.140625 -5.015625 C 2.785156 -4.585938 2.609375 -4.007812 2.609375 -3.28125 C 2.609375 -2.539062 2.785156 -1.957031 3.140625 -1.53125 C 3.503906 -1.101562 4 -0.890625 4.625 -0.890625 C 5.238281 -0.890625 5.726562 -1.101562 6.09375 -1.53125 C 6.457031 -1.957031 6.640625 -2.539062 6.640625 -3.28125 C 6.640625 -4.007812 6.457031 -4.585938 6.09375 -5.015625 C 5.726562 -5.441406 5.238281 -5.65625 4.625 -5.65625 Z M 7.359375 -9.984375 L 7.359375 -8.71875 C 7.015625 -8.882812 6.664062 -9.007812 6.3125 -9.09375 C 5.957031 -9.1875 5.609375 -9.234375 5.265625 -9.234375 C 4.347656 -9.234375 3.648438 -8.925781 3.171875 -8.3125 C 2.691406 -7.695312 2.421875 -6.765625 2.359375 -5.515625 C 2.617188 -5.910156 2.953125 -6.210938 3.359375 -6.421875 C 3.765625 -6.640625 4.210938 -6.75 4.703125 -6.75 C 5.722656 -6.75 6.53125 -6.4375 7.125 -5.8125 C 7.726562 -5.1875 8.03125 -4.34375 8.03125 -3.28125 C 8.03125 -2.226562 7.71875 -1.382812 7.09375 -0.75 C 6.476562 -0.113281 5.65625 0.203125 4.625 0.203125 C 3.4375 0.203125 2.53125 -0.25 1.90625 -1.15625 C 1.289062 -2.0625 0.984375 -3.375 0.984375 -5.09375 C 0.984375 -6.707031 1.363281 -7.992188 2.125 -8.953125 C 2.894531 -9.910156 3.921875 -10.390625 5.203125 -10.390625 C 5.554688 -10.390625 5.90625 -10.351562 6.25 -10.28125 C 6.601562 -10.21875 6.972656 -10.117188 7.359375 -9.984375 Z M 7.359375 -9.984375 \"/>\n",
       "</symbol>\n",
       "<symbol overflow=\"visible\" id=\"glyph0-7\">\n",
       "<path style=\"stroke:none;\" d=\"M 1.515625 -10.203125 L 6.9375 -10.203125 L 6.9375 -9.046875 L 2.78125 -9.046875 L 2.78125 -6.546875 C 2.976562 -6.609375 3.175781 -6.65625 3.375 -6.6875 C 3.570312 -6.726562 3.773438 -6.75 3.984375 -6.75 C 5.117188 -6.75 6.019531 -6.4375 6.6875 -5.8125 C 7.351562 -5.1875 7.6875 -4.34375 7.6875 -3.28125 C 7.6875 -2.175781 7.34375 -1.316406 6.65625 -0.703125 C 5.976562 -0.0976562 5.015625 0.203125 3.765625 0.203125 C 3.335938 0.203125 2.898438 0.164062 2.453125 0.09375 C 2.015625 0.0195312 1.554688 -0.0859375 1.078125 -0.234375 L 1.078125 -1.625 C 1.492188 -1.40625 1.921875 -1.238281 2.359375 -1.125 C 2.796875 -1.019531 3.253906 -0.96875 3.734375 -0.96875 C 4.523438 -0.96875 5.148438 -1.171875 5.609375 -1.578125 C 6.066406 -1.992188 6.296875 -2.5625 6.296875 -3.28125 C 6.296875 -3.988281 6.066406 -4.546875 5.609375 -4.953125 C 5.148438 -5.367188 4.523438 -5.578125 3.734375 -5.578125 C 3.367188 -5.578125 3 -5.535156 2.625 -5.453125 C 2.257812 -5.378906 1.890625 -5.253906 1.515625 -5.078125 Z M 1.515625 -10.203125 \"/>\n",
       "</symbol>\n",
       "<symbol overflow=\"visible\" id=\"glyph0-8\">\n",
       "<path style=\"stroke:none;\" d=\"M 4.453125 -9.296875 C 3.742188 -9.296875 3.207031 -8.945312 2.84375 -8.25 C 2.488281 -7.550781 2.3125 -6.5 2.3125 -5.09375 C 2.3125 -3.695312 2.488281 -2.644531 2.84375 -1.9375 C 3.207031 -1.238281 3.742188 -0.890625 4.453125 -0.890625 C 5.171875 -0.890625 5.707031 -1.238281 6.0625 -1.9375 C 6.414062 -2.644531 6.59375 -3.695312 6.59375 -5.09375 C 6.59375 -6.5 6.414062 -7.550781 6.0625 -8.25 C 5.707031 -8.945312 5.171875 -9.296875 4.453125 -9.296875 Z M 4.453125 -10.390625 C 5.597656 -10.390625 6.472656 -9.9375 7.078125 -9.03125 C 7.679688 -8.125 7.984375 -6.8125 7.984375 -5.09375 C 7.984375 -3.375 7.679688 -2.0625 7.078125 -1.15625 C 6.472656 -0.25 5.597656 0.203125 4.453125 0.203125 C 3.304688 0.203125 2.429688 -0.25 1.828125 -1.15625 C 1.222656 -2.0625 0.921875 -3.375 0.921875 -5.09375 C 0.921875 -6.8125 1.222656 -8.125 1.828125 -9.03125 C 2.429688 -9.9375 3.304688 -10.390625 4.453125 -10.390625 Z M 4.453125 -10.390625 \"/>\n",
       "</symbol>\n",
       "<symbol overflow=\"visible\" id=\"glyph0-9\">\n",
       "<path style=\"stroke:none;\" d=\"M 1.15625 -10.203125 L 7.71875 -10.203125 L 7.71875 -9.625 L 4 0 L 2.5625 0 L 6.046875 -9.046875 L 1.15625 -9.046875 Z M 1.15625 -10.203125 \"/>\n",
       "</symbol>\n",
       "<symbol overflow=\"visible\" id=\"glyph0-10\">\n",
       "<path style=\"stroke:none;\" d=\"M 4.453125 -4.84375 C 3.796875 -4.84375 3.28125 -4.664062 2.90625 -4.3125 C 2.53125 -3.96875 2.34375 -3.488281 2.34375 -2.875 C 2.34375 -2.257812 2.53125 -1.773438 2.90625 -1.421875 C 3.28125 -1.066406 3.796875 -0.890625 4.453125 -0.890625 C 5.109375 -0.890625 5.625 -1.066406 6 -1.421875 C 6.375 -1.773438 6.5625 -2.257812 6.5625 -2.875 C 6.5625 -3.488281 6.375 -3.96875 6 -4.3125 C 5.625 -4.664062 5.109375 -4.84375 4.453125 -4.84375 Z M 3.0625 -5.4375 C 2.476562 -5.582031 2.019531 -5.859375 1.6875 -6.265625 C 1.351562 -6.671875 1.1875 -7.164062 1.1875 -7.75 C 1.1875 -8.5625 1.476562 -9.203125 2.0625 -9.671875 C 2.644531 -10.148438 3.441406 -10.390625 4.453125 -10.390625 C 5.460938 -10.390625 6.257812 -10.148438 6.84375 -9.671875 C 7.425781 -9.203125 7.71875 -8.5625 7.71875 -7.75 C 7.71875 -7.164062 7.550781 -6.671875 7.21875 -6.265625 C 6.882812 -5.859375 6.425781 -5.582031 5.84375 -5.4375 C 6.507812 -5.28125 7.023438 -4.972656 7.390625 -4.515625 C 7.765625 -4.066406 7.953125 -3.519531 7.953125 -2.875 C 7.953125 -1.882812 7.648438 -1.125 7.046875 -0.59375 C 6.441406 -0.0625 5.578125 0.203125 4.453125 0.203125 C 3.328125 0.203125 2.460938 -0.0625 1.859375 -0.59375 C 1.253906 -1.125 0.953125 -1.882812 0.953125 -2.875 C 0.953125 -3.519531 1.140625 -4.066406 1.515625 -4.515625 C 1.890625 -4.972656 2.40625 -5.28125 3.0625 -5.4375 Z M 2.5625 -7.609375 C 2.5625 -7.085938 2.726562 -6.675781 3.0625 -6.375 C 3.394531 -6.082031 3.859375 -5.9375 4.453125 -5.9375 C 5.046875 -5.9375 5.507812 -6.082031 5.84375 -6.375 C 6.175781 -6.675781 6.34375 -7.085938 6.34375 -7.609375 C 6.34375 -8.140625 6.175781 -8.550781 5.84375 -8.84375 C 5.507812 -9.144531 5.046875 -9.296875 4.453125 -9.296875 C 3.859375 -9.296875 3.394531 -9.144531 3.0625 -8.84375 C 2.726562 -8.550781 2.5625 -8.140625 2.5625 -7.609375 Z M 2.5625 -7.609375 \"/>\n",
       "</symbol>\n",
       "</g>\n",
       "</defs>\n",
       "<g id=\"surface92\">\n",
       "<rect x=\"0\" y=\"0\" width=\"600\" height=\"600\" style=\"fill:rgb(100%,100%,100%);fill-opacity:1;stroke:none;\"/>\n",
       "<path style=\"fill:none;stroke-width:1;stroke-linecap:butt;stroke-linejoin:miter;stroke:rgb(26.666667%,26.666667%,26.666667%);stroke-opacity:1;stroke-miterlimit:10;\" d=\"M 588.410156 243.453125 C 588.410156 255.878906 578.335938 265.953125 565.910156 265.953125 C 553.484375 265.953125 543.410156 255.878906 543.410156 243.453125 C 543.410156 231.027344 553.484375 220.953125 565.910156 220.953125 C 578.335938 220.953125 588.410156 231.027344 588.410156 243.453125 \"/>\n",
       "<path style=\"fill:none;stroke-width:1;stroke-linecap:butt;stroke-linejoin:miter;stroke:rgb(26.666667%,26.666667%,26.666667%);stroke-opacity:1;stroke-miterlimit:10;\" d=\"M 550 259.363281 C 476.007812 271.824219 395.578125 366.894531 425.875 389.835938 \"/>\n",
       "<path style=\" stroke:none;fill-rule:nonzero;fill:rgb(26.666667%,26.666667%,26.666667%);fill-opacity:1;\" d=\"M 437.25 398.449219 L 423.078125 393.53125 L 428.675781 386.140625 L 437.25 398.449219 \"/>\n",
       "<path style=\"fill:none;stroke-width:1;stroke-linecap:butt;stroke-linejoin:miter;stroke:rgb(26.666667%,26.666667%,26.666667%);stroke-opacity:1;stroke-miterlimit:10;\" d=\"M 550 259.363281 C 531.609375 199.386719 462.097656 201.53125 428.328125 170.6875 \"/>\n",
       "<path style=\" stroke:none;fill-rule:nonzero;fill:rgb(26.666667%,26.666667%,26.666667%);fill-opacity:1;\" d=\"M 417.792969 161.070312 L 431.453125 167.265625 L 425.203125 174.113281 L 417.792969 161.070312 \"/>\n",
       "<path style=\"fill:none;stroke-width:1;stroke-linecap:butt;stroke-linejoin:miter;stroke:rgb(26.666667%,26.666667%,26.666667%);stroke-opacity:1;stroke-miterlimit:10;\" d=\"M 448.6875 407.109375 C 508.296875 387.597656 507.683594 328.5 535.039062 283.804688 \"/>\n",
       "<path style=\" stroke:none;fill-rule:nonzero;fill:rgb(26.666667%,26.666667%,26.666667%);fill-opacity:1;\" d=\"M 542.488281 271.636719 L 538.992188 286.226562 L 531.085938 281.386719 L 542.488281 271.636719 \"/>\n",
       "<path style=\"fill:none;stroke-width:1;stroke-linecap:butt;stroke-linejoin:miter;stroke:rgb(26.666667%,26.666667%,26.666667%);stroke-opacity:1;stroke-miterlimit:10;\" d=\"M 487.097656 391.199219 C 487.097656 403.625 477.023438 413.699219 464.597656 413.699219 C 452.171875 413.699219 442.097656 403.625 442.097656 391.199219 C 442.097656 378.773438 452.171875 368.699219 464.597656 368.699219 C 477.023438 368.699219 487.097656 378.773438 487.097656 391.199219 \"/>\n",
       "<path style=\"fill:none;stroke-width:1;stroke-linecap:butt;stroke-linejoin:miter;stroke:rgb(26.666667%,26.666667%,26.666667%);stroke-opacity:1;stroke-miterlimit:10;\" d=\"M 448.6875 407.109375 C 386.867188 420.984375 369.78125 464.960938 349.96875 522.773438 \"/>\n",
       "<path style=\" stroke:none;fill-rule:nonzero;fill:rgb(26.666667%,26.666667%,26.666667%);fill-opacity:1;\" d=\"M 345.34375 536.269531 L 345.582031 521.269531 L 354.351562 524.277344 L 345.34375 536.269531 \"/>\n",
       "<path style=\"fill:none;stroke-width:1;stroke-linecap:butt;stroke-linejoin:miter;stroke:rgb(26.666667%,26.666667%,26.666667%);stroke-opacity:1;stroke-miterlimit:10;\" d=\"M 448.6875 407.109375 C 436.023438 340.5625 394.941406 291.933594 328.535156 297.574219 \"/>\n",
       "<path style=\" stroke:none;fill-rule:nonzero;fill:rgb(26.666667%,26.666667%,26.666667%);fill-opacity:1;\" d=\"M 314.320312 298.785156 L 328.144531 292.957031 L 328.929688 302.195312 L 314.320312 298.785156 \"/>\n",
       "<path style=\"fill:none;stroke-width:1;stroke-linecap:butt;stroke-linejoin:miter;stroke:rgb(26.666667%,26.666667%,26.666667%);stroke-opacity:1;stroke-miterlimit:10;\" d=\"M 340.636719 550 C 410.554688 541.710938 489.402344 482.195312 462.941406 433.398438 \"/>\n",
       "<path style=\" stroke:none;fill-rule:nonzero;fill:rgb(26.666667%,26.666667%,26.666667%);fill-opacity:1;\" d=\"M 456.144531 420.859375 L 467.019531 431.1875 L 458.867188 435.609375 L 456.144531 420.859375 \"/>\n",
       "<path style=\"fill:none;stroke-width:1;stroke-linecap:butt;stroke-linejoin:miter;stroke:rgb(26.666667%,26.666667%,26.666667%);stroke-opacity:1;stroke-miterlimit:10;\" d=\"M 379.046875 534.089844 C 379.046875 546.515625 368.972656 556.589844 356.546875 556.589844 C 344.121094 556.589844 334.046875 546.515625 334.046875 534.089844 C 334.046875 521.664062 344.121094 511.589844 356.546875 511.589844 C 368.972656 511.589844 379.046875 521.664062 379.046875 534.089844 \"/>\n",
       "<path style=\"fill:none;stroke-width:1;stroke-linecap:butt;stroke-linejoin:miter;stroke:rgb(26.666667%,26.666667%,26.666667%);stroke-opacity:1;stroke-miterlimit:10;\" d=\"M 340.636719 550 C 327.667969 485.097656 285.742188 434.070312 222.28125 444.0625 \"/>\n",
       "<path style=\" stroke:none;fill-rule:nonzero;fill:rgb(26.666667%,26.666667%,26.666667%);fill-opacity:1;\" d=\"M 208.1875 446.28125 L 221.558594 439.484375 L 223 448.640625 L 208.1875 446.28125 \"/>\n",
       "<path style=\"fill:none;stroke-width:1;stroke-linecap:butt;stroke-linejoin:miter;stroke:rgb(26.666667%,26.666667%,26.666667%);stroke-opacity:1;stroke-miterlimit:10;\" d=\"M 192.890625 448.6875 C 210.320312 509.339844 258.097656 519.488281 313.695312 540.042969 \"/>\n",
       "<path style=\" stroke:none;fill-rule:nonzero;fill:rgb(26.666667%,26.666667%,26.666667%);fill-opacity:1;\" d=\"M 327.078125 544.988281 L 312.089844 544.390625 L 315.304688 535.695312 L 327.078125 544.988281 \"/>\n",
       "<path style=\"fill:none;stroke-width:1;stroke-linecap:butt;stroke-linejoin:miter;stroke:rgb(26.666667%,26.666667%,26.666667%);stroke-opacity:1;stroke-miterlimit:10;\" d=\"M 231.300781 432.777344 C 231.300781 445.207031 221.226562 455.277344 208.800781 455.277344 C 196.375 455.277344 186.300781 445.207031 186.300781 432.777344 C 186.300781 420.351562 196.375 410.277344 208.800781 410.277344 C 221.226562 410.277344 231.300781 420.351562 231.300781 432.777344 \"/>\n",
       "<path style=\"fill:none;stroke-width:1;stroke-linecap:butt;stroke-linejoin:miter;stroke:rgb(26.666667%,26.666667%,26.666667%);stroke-opacity:1;stroke-miterlimit:10;\" d=\"M 192.890625 448.6875 C 182.929688 382.746094 142.246094 327.148438 78.808594 336.425781 \"/>\n",
       "<path style=\" stroke:none;fill-rule:nonzero;fill:rgb(26.666667%,26.666667%,26.666667%);fill-opacity:1;\" d=\"M 64.695312 338.488281 L 78.140625 331.835938 L 79.480469 341.011719 L 64.695312 338.488281 \"/>\n",
       "<path style=\"fill:none;stroke-width:1;stroke-linecap:butt;stroke-linejoin:miter;stroke:rgb(26.666667%,26.666667%,26.666667%);stroke-opacity:1;stroke-miterlimit:10;\" d=\"M 192.890625 448.6875 C 266.882812 438.027344 351.710938 357.148438 319.605469 321.667969 \"/>\n",
       "<path style=\" stroke:none;fill-rule:nonzero;fill:rgb(26.666667%,26.666667%,26.666667%);fill-opacity:1;\" d=\"M 310.035156 311.089844 L 323.042969 318.558594 L 316.167969 324.777344 L 310.035156 311.089844 \"/>\n",
       "<path style=\"fill:none;stroke-width:1;stroke-linecap:butt;stroke-linejoin:miter;stroke:rgb(26.666667%,26.666667%,26.666667%);stroke-opacity:1;stroke-miterlimit:10;\" d=\"M 50 340.636719 C 68.390625 400.613281 137.902344 398.46875 171.671875 429.3125 \"/>\n",
       "<path style=\" stroke:none;fill-rule:nonzero;fill:rgb(26.666667%,26.666667%,26.666667%);fill-opacity:1;\" d=\"M 182.207031 438.929688 L 168.546875 432.734375 L 174.796875 425.886719 L 182.207031 438.929688 \"/>\n",
       "<path style=\"fill:none;stroke-width:1;stroke-linecap:butt;stroke-linejoin:miter;stroke:rgb(26.666667%,26.666667%,26.666667%);stroke-opacity:1;stroke-miterlimit:10;\" d=\"M 88.410156 324.726562 C 88.410156 337.152344 78.335938 347.226562 65.910156 347.226562 C 53.484375 347.226562 43.410156 337.152344 43.410156 324.726562 C 43.410156 312.300781 53.484375 302.226562 65.910156 302.226562 C 78.335938 302.226562 88.410156 312.300781 88.410156 324.726562 \"/>\n",
       "<path style=\"fill:none;stroke-width:1;stroke-linecap:butt;stroke-linejoin:miter;stroke:rgb(26.666667%,26.666667%,26.666667%);stroke-opacity:1;stroke-miterlimit:10;\" d=\"M 50 340.636719 C 123.992188 328.175781 204.421875 233.105469 174.125 210.164062 \"/>\n",
       "<path style=\" stroke:none;fill-rule:nonzero;fill:rgb(26.666667%,26.666667%,26.666667%);fill-opacity:1;\" d=\"M 162.75 201.550781 L 176.921875 206.46875 L 171.324219 213.859375 L 162.75 201.550781 \"/>\n",
       "<path style=\"fill:none;stroke-width:1;stroke-linecap:butt;stroke-linejoin:miter;stroke:rgb(26.666667%,26.666667%,26.666667%);stroke-opacity:1;stroke-miterlimit:10;\" d=\"M 300 300 C 312.539062 366.726562 353.992188 416.902344 420.167969 410.058594 \"/>\n",
       "<path style=\" stroke:none;fill-rule:nonzero;fill:rgb(26.666667%,26.666667%,26.666667%);fill-opacity:1;\" d=\"M 434.355469 408.59375 L 420.644531 414.671875 L 419.691406 405.449219 L 434.355469 408.59375 \"/>\n",
       "<path style=\"fill:none;stroke-width:1;stroke-linecap:butt;stroke-linejoin:miter;stroke:rgb(26.666667%,26.666667%,26.666667%);stroke-opacity:1;stroke-miterlimit:10;\" d=\"M 300 300 C 237.769531 317.265625 230.796875 370.027344 205.382812 422.765625 \"/>\n",
       "<path style=\" stroke:none;fill-rule:nonzero;fill:rgb(26.666667%,26.666667%,26.666667%);fill-opacity:1;\" d=\"M 199.191406 435.617188 L 201.207031 420.753906 L 209.558594 424.777344 L 199.191406 435.617188 \"/>\n",
       "<path style=\"fill:none;stroke-width:1;stroke-linecap:butt;stroke-linejoin:miter;stroke:rgb(26.666667%,26.666667%,26.666667%);stroke-opacity:1;stroke-miterlimit:10;\" d=\"M 338.410156 284.089844 C 338.410156 296.515625 328.335938 306.589844 315.910156 306.589844 C 303.484375 306.589844 293.410156 296.515625 293.410156 284.089844 C 293.410156 271.664062 303.484375 261.589844 315.910156 261.589844 C 328.335938 261.589844 338.410156 271.664062 338.410156 284.089844 \"/>\n",
       "<path style=\"fill:none;stroke-width:1;stroke-linecap:butt;stroke-linejoin:miter;stroke:rgb(26.666667%,26.666667%,26.666667%);stroke-opacity:1;stroke-miterlimit:10;\" d=\"M 300 300 C 362.230469 282.734375 369.203125 229.972656 394.617188 177.234375 \"/>\n",
       "<path style=\" stroke:none;fill-rule:nonzero;fill:rgb(26.666667%,26.666667%,26.666667%);fill-opacity:1;\" d=\"M 400.808594 164.382812 L 398.792969 179.246094 L 390.441406 175.222656 L 400.808594 164.382812 \"/>\n",
       "<path style=\"fill:none;stroke-width:1;stroke-linecap:butt;stroke-linejoin:miter;stroke:rgb(26.666667%,26.666667%,26.666667%);stroke-opacity:1;stroke-miterlimit:10;\" d=\"M 300 300 C 287.460938 233.273438 246.007812 183.097656 179.832031 189.941406 \"/>\n",
       "<path style=\" stroke:none;fill-rule:nonzero;fill:rgb(26.666667%,26.666667%,26.666667%);fill-opacity:1;\" d=\"M 165.644531 191.40625 L 179.355469 185.328125 L 180.308594 194.550781 L 165.644531 191.40625 \"/>\n",
       "<path style=\"fill:none;stroke-width:1;stroke-linecap:butt;stroke-linejoin:miter;stroke:rgb(26.666667%,26.666667%,26.666667%);stroke-opacity:1;stroke-miterlimit:10;\" d=\"M 407.109375 151.3125 C 417.070312 217.253906 457.753906 272.851562 521.191406 263.574219 \"/>\n",
       "<path style=\" stroke:none;fill-rule:nonzero;fill:rgb(26.666667%,26.666667%,26.666667%);fill-opacity:1;\" d=\"M 535.304688 261.511719 L 521.859375 268.164062 L 520.519531 258.988281 L 535.304688 261.511719 \"/>\n",
       "<path style=\"fill:none;stroke-width:1;stroke-linecap:butt;stroke-linejoin:miter;stroke:rgb(26.666667%,26.666667%,26.666667%);stroke-opacity:1;stroke-miterlimit:10;\" d=\"M 407.109375 151.3125 C 333.117188 161.972656 248.289062 242.851562 280.394531 278.332031 \"/>\n",
       "<path style=\" stroke:none;fill-rule:nonzero;fill:rgb(26.666667%,26.666667%,26.666667%);fill-opacity:1;\" d=\"M 289.964844 288.910156 L 276.957031 281.441406 L 283.832031 275.222656 L 289.964844 288.910156 \"/>\n",
       "<path style=\"fill:none;stroke-width:1;stroke-linecap:butt;stroke-linejoin:miter;stroke:rgb(26.666667%,26.666667%,26.666667%);stroke-opacity:1;stroke-miterlimit:10;\" d=\"M 445.519531 135.402344 C 445.519531 147.828125 435.445312 157.902344 423.019531 157.902344 C 410.59375 157.902344 400.519531 147.828125 400.519531 135.402344 C 400.519531 122.976562 410.59375 112.902344 423.019531 112.902344 C 435.445312 112.902344 445.519531 122.976562 445.519531 135.402344 \"/>\n",
       "<path style=\"fill:none;stroke-width:1;stroke-linecap:butt;stroke-linejoin:miter;stroke:rgb(26.666667%,26.666667%,26.666667%);stroke-opacity:1;stroke-miterlimit:10;\" d=\"M 407.109375 151.3125 C 389.679688 90.660156 341.902344 80.511719 286.304688 59.957031 \"/>\n",
       "<path style=\" stroke:none;fill-rule:nonzero;fill:rgb(26.666667%,26.666667%,26.666667%);fill-opacity:1;\" d=\"M 272.921875 55.011719 L 287.910156 55.609375 L 284.695312 64.304688 L 272.921875 55.011719 \"/>\n",
       "<path style=\"fill:none;stroke-width:1;stroke-linecap:butt;stroke-linejoin:miter;stroke:rgb(26.666667%,26.666667%,26.666667%);stroke-opacity:1;stroke-miterlimit:10;\" d=\"M 151.3125 192.890625 C 91.703125 212.402344 92.316406 271.5 64.960938 316.195312 \"/>\n",
       "<path style=\" stroke:none;fill-rule:nonzero;fill:rgb(26.666667%,26.666667%,26.666667%);fill-opacity:1;\" d=\"M 57.511719 328.363281 L 61.007812 313.773438 L 68.914062 318.613281 L 57.511719 328.363281 \"/>\n",
       "<path style=\"fill:none;stroke-width:1;stroke-linecap:butt;stroke-linejoin:miter;stroke:rgb(26.666667%,26.666667%,26.666667%);stroke-opacity:1;stroke-miterlimit:10;\" d=\"M 151.3125 192.890625 C 163.976562 259.4375 205.058594 308.066406 271.464844 302.425781 \"/>\n",
       "<path style=\" stroke:none;fill-rule:nonzero;fill:rgb(26.666667%,26.666667%,26.666667%);fill-opacity:1;\" d=\"M 285.679688 301.214844 L 271.855469 307.042969 L 271.070312 297.804688 L 285.679688 301.214844 \"/>\n",
       "<path style=\"fill:none;stroke-width:1;stroke-linecap:butt;stroke-linejoin:miter;stroke:rgb(26.666667%,26.666667%,26.666667%);stroke-opacity:1;stroke-miterlimit:10;\" d=\"M 189.722656 176.980469 C 189.722656 189.40625 179.648438 199.480469 167.222656 199.480469 C 154.792969 199.480469 144.722656 189.40625 144.722656 176.980469 C 144.722656 164.554688 154.792969 154.480469 167.222656 154.480469 C 179.648438 154.480469 189.722656 164.554688 189.722656 176.980469 \"/>\n",
       "<path style=\"fill:none;stroke-width:1;stroke-linecap:butt;stroke-linejoin:miter;stroke:rgb(26.666667%,26.666667%,26.666667%);stroke-opacity:1;stroke-miterlimit:10;\" d=\"M 151.3125 192.890625 C 213.132812 179.015625 230.21875 135.039062 250.03125 77.226562 \"/>\n",
       "<path style=\" stroke:none;fill-rule:nonzero;fill:rgb(26.666667%,26.666667%,26.666667%);fill-opacity:1;\" d=\"M 254.65625 63.730469 L 254.417969 78.730469 L 245.648438 75.722656 L 254.65625 63.730469 \"/>\n",
       "<path style=\"fill:none;stroke-width:1;stroke-linecap:butt;stroke-linejoin:miter;stroke:rgb(26.666667%,26.666667%,26.666667%);stroke-opacity:1;stroke-miterlimit:10;\" d=\"M 259.363281 50 C 272.332031 114.902344 314.257812 165.929688 377.71875 155.9375 \"/>\n",
       "<path style=\" stroke:none;fill-rule:nonzero;fill:rgb(26.666667%,26.666667%,26.666667%);fill-opacity:1;\" d=\"M 391.8125 153.71875 L 378.441406 160.515625 L 377 151.359375 L 391.8125 153.71875 \"/>\n",
       "<path style=\"fill:none;stroke-width:1;stroke-linecap:butt;stroke-linejoin:miter;stroke:rgb(26.666667%,26.666667%,26.666667%);stroke-opacity:1;stroke-miterlimit:10;\" d=\"M 259.363281 50 C 189.445312 58.289062 110.597656 117.804688 137.058594 166.601562 \"/>\n",
       "<path style=\" stroke:none;fill-rule:nonzero;fill:rgb(26.666667%,26.666667%,26.666667%);fill-opacity:1;\" d=\"M 143.855469 179.140625 L 132.980469 168.8125 L 141.132812 164.390625 L 143.855469 179.140625 \"/>\n",
       "<path style=\"fill:none;stroke-width:1;stroke-linecap:butt;stroke-linejoin:miter;stroke:rgb(26.666667%,26.666667%,26.666667%);stroke-opacity:1;stroke-miterlimit:10;\" d=\"M 297.773438 34.089844 C 297.773438 46.515625 287.699219 56.589844 275.273438 56.589844 C 262.847656 56.589844 252.773438 46.515625 252.773438 34.089844 C 252.773438 21.664062 262.847656 11.589844 275.273438 11.589844 C 287.699219 11.589844 297.773438 21.664062 297.773438 34.089844 \"/>\n",
       "<path style=\"fill-rule:nonzero;fill:rgb(99.609375%,0%,0%);fill-opacity:1;stroke-width:1;stroke-linecap:butt;stroke-linejoin:miter;stroke:rgb(0%,0%,0%);stroke-opacity:1;stroke-miterlimit:10;\" d=\"M 565 259.363281 C 565 267.648438 558.285156 274.363281 550 274.363281 C 541.714844 274.363281 535 267.648438 535 259.363281 C 535 251.078125 541.714844 244.363281 550 244.363281 C 558.285156 244.363281 565 251.078125 565 259.363281 \"/>\n",
       "<path style=\"fill-rule:nonzero;fill:rgb(99.609375%,0%,0%);fill-opacity:1;stroke-width:1;stroke-linecap:butt;stroke-linejoin:miter;stroke:rgb(0%,0%,0%);stroke-opacity:1;stroke-miterlimit:10;\" d=\"M 463.6875 407.109375 C 463.6875 415.394531 456.972656 422.109375 448.6875 422.109375 C 440.40625 422.109375 433.6875 415.394531 433.6875 407.109375 C 433.6875 398.824219 440.40625 392.109375 448.6875 392.109375 C 456.972656 392.109375 463.6875 398.824219 463.6875 407.109375 \"/>\n",
       "<path style=\"fill-rule:nonzero;fill:rgb(0%,99.609375%,0%);fill-opacity:1;stroke-width:1;stroke-linecap:butt;stroke-linejoin:miter;stroke:rgb(0%,0%,0%);stroke-opacity:1;stroke-miterlimit:10;\" d=\"M 355.636719 550 C 355.636719 558.285156 348.921875 565 340.636719 565 C 332.351562 565 325.636719 558.285156 325.636719 550 C 325.636719 541.714844 332.351562 535 340.636719 535 C 348.921875 535 355.636719 541.714844 355.636719 550 \"/>\n",
       "<path style=\"fill-rule:nonzero;fill:rgb(99.609375%,99.609375%,0%);fill-opacity:1;stroke-width:1;stroke-linecap:butt;stroke-linejoin:miter;stroke:rgb(0%,0%,0%);stroke-opacity:1;stroke-miterlimit:10;\" d=\"M 207.890625 448.6875 C 207.890625 456.972656 201.175781 463.6875 192.890625 463.6875 C 184.605469 463.6875 177.890625 456.972656 177.890625 448.6875 C 177.890625 440.40625 184.605469 433.6875 192.890625 433.6875 C 201.175781 433.6875 207.890625 440.40625 207.890625 448.6875 \"/>\n",
       "<path style=\"fill-rule:nonzero;fill:rgb(43.75%,15.234375%,76.171875%);fill-opacity:1;stroke-width:1;stroke-linecap:butt;stroke-linejoin:miter;stroke:rgb(0%,0%,0%);stroke-opacity:1;stroke-miterlimit:10;\" d=\"M 65 340.636719 C 65 348.921875 58.285156 355.636719 50 355.636719 C 41.714844 355.636719 35 348.921875 35 340.636719 C 35 332.351562 41.714844 325.636719 50 325.636719 C 58.285156 325.636719 65 332.351562 65 340.636719 \"/>\n",
       "<path style=\"fill-rule:nonzero;fill:rgb(99.609375%,0%,0%);fill-opacity:1;stroke-width:1;stroke-linecap:butt;stroke-linejoin:miter;stroke:rgb(0%,0%,0%);stroke-opacity:1;stroke-miterlimit:10;\" d=\"M 315 300 C 315 308.285156 308.285156 315 300 315 C 291.714844 315 285 308.285156 285 300 C 285 291.714844 291.714844 285 300 285 C 308.285156 285 315 291.714844 315 300 \"/>\n",
       "<path style=\"fill-rule:nonzero;fill:rgb(19.53125%,19.53125%,99.609375%);fill-opacity:1;stroke-width:1;stroke-linecap:butt;stroke-linejoin:miter;stroke:rgb(0%,0%,0%);stroke-opacity:1;stroke-miterlimit:10;\" d=\"M 422.109375 151.3125 C 422.109375 159.59375 415.394531 166.3125 407.109375 166.3125 C 398.824219 166.3125 392.109375 159.59375 392.109375 151.3125 C 392.109375 143.027344 398.824219 136.3125 407.109375 136.3125 C 415.394531 136.3125 422.109375 143.027344 422.109375 151.3125 \"/>\n",
       "<path style=\"fill-rule:nonzero;fill:rgb(43.75%,15.234375%,76.171875%);fill-opacity:1;stroke-width:1;stroke-linecap:butt;stroke-linejoin:miter;stroke:rgb(0%,0%,0%);stroke-opacity:1;stroke-miterlimit:10;\" d=\"M 166.3125 192.890625 C 166.3125 201.175781 159.59375 207.890625 151.3125 207.890625 C 143.027344 207.890625 136.3125 201.175781 136.3125 192.890625 C 136.3125 184.605469 143.027344 177.890625 151.3125 177.890625 C 159.59375 177.890625 166.3125 184.605469 166.3125 192.890625 \"/>\n",
       "<path style=\"fill-rule:nonzero;fill:rgb(43.75%,15.234375%,76.171875%);fill-opacity:1;stroke-width:1;stroke-linecap:butt;stroke-linejoin:miter;stroke:rgb(0%,0%,0%);stroke-opacity:1;stroke-miterlimit:10;\" d=\"M 274.363281 50 C 274.363281 58.285156 267.648438 65 259.363281 65 C 251.078125 65 244.363281 58.285156 244.363281 50 C 244.363281 41.714844 251.078125 35 259.363281 35 C 267.648438 35 274.363281 41.714844 274.363281 50 \"/>\n",
       "<g style=\"fill:rgb(0%,0%,0%);fill-opacity:1;\">\n",
       "  <use xlink:href=\"#glyph0-1\" x=\"545.421875\" y=\"266.117188\"/>\n",
       "</g>\n",
       "<g style=\"fill:rgb(0%,0%,0%);fill-opacity:1;\">\n",
       "  <use xlink:href=\"#glyph0-1\" x=\"439.574219\" y=\"413.957031\"/>\n",
       "  <use xlink:href=\"#glyph0-2\" x=\"448.481445\" y=\"413.957031\"/>\n",
       "</g>\n",
       "<g style=\"fill:rgb(0%,0%,0%);fill-opacity:1;\">\n",
       "  <use xlink:href=\"#glyph0-3\" x=\"331.609375\" y=\"556.847656\"/>\n",
       "  <use xlink:href=\"#glyph0-4\" x=\"340.516602\" y=\"556.847656\"/>\n",
       "</g>\n",
       "<g style=\"fill:rgb(0%,0%,0%);fill-opacity:1;\">\n",
       "  <use xlink:href=\"#glyph0-2\" x=\"183.941406\" y=\"455.535156\"/>\n",
       "  <use xlink:href=\"#glyph0-5\" x=\"192.848633\" y=\"455.535156\"/>\n",
       "</g>\n",
       "<g style=\"fill:rgb(0%,0%,0%);fill-opacity:1;\">\n",
       "  <use xlink:href=\"#glyph0-4\" x=\"41.191406\" y=\"347.484375\"/>\n",
       "  <use xlink:href=\"#glyph0-6\" x=\"50.098633\" y=\"347.484375\"/>\n",
       "</g>\n",
       "<g style=\"fill:rgb(0%,0%,0%);fill-opacity:1;\">\n",
       "  <use xlink:href=\"#glyph0-7\" x=\"291.015625\" y=\"306.847656\"/>\n",
       "  <use xlink:href=\"#glyph0-8\" x=\"299.922852\" y=\"306.847656\"/>\n",
       "</g>\n",
       "<g style=\"fill:rgb(0%,0%,0%);fill-opacity:1;\">\n",
       "  <use xlink:href=\"#glyph0-6\" x=\"398.324219\" y=\"158.15625\"/>\n",
       "  <use xlink:href=\"#glyph0-7\" x=\"407.231445\" y=\"158.15625\"/>\n",
       "</g>\n",
       "<g style=\"fill:rgb(0%,0%,0%);fill-opacity:1;\">\n",
       "  <use xlink:href=\"#glyph0-9\" x=\"142.269531\" y=\"199.734375\"/>\n",
       "  <use xlink:href=\"#glyph0-6\" x=\"151.176758\" y=\"199.734375\"/>\n",
       "</g>\n",
       "<g style=\"fill:rgb(0%,0%,0%);fill-opacity:1;\">\n",
       "  <use xlink:href=\"#glyph0-10\" x=\"250.59375\" y=\"56.847656\"/>\n",
       "  <use xlink:href=\"#glyph0-7\" x=\"259.500977\" y=\"56.847656\"/>\n",
       "</g>\n",
       "</g>\n",
       "</svg>\n"
      ],
      "text/plain": [
       "<igraph.drawing.Plot at 0x7f0fe6fada60>"
      ]
     },
     "execution_count": 164,
     "metadata": {
      "image/svg+xml": {
       "isolated": true
      }
     },
     "output_type": "execute_result"
    }
   ],
   "source": [
    "from pathlib import Path\n",
    "\n",
    "if len(model.states) == 0:\n",
    "    print('here')\n",
    "    # poses_idx = from_pose_to_idx(chmm, poses)\n",
    "    # obs = np.array(poses_idx).flatten().astype(np.int64)\n",
    "    # a = np.array(a[1:]).flatten().astype(np.int64)\n",
    "    # states = chmm.decode(x,a)[1]\n",
    "else:\n",
    "    states = model.states\n",
    "v = np.unique(model.states)\n",
    "# T = test_model.C[:, v][:, :, v]\n",
    "# A = T.sum(0)\n",
    "# div = A.sum(1, keepdims=True)\n",
    "# A /= (div + 0.0001)\n",
    "obs = observations.copy()\n",
    "if isinstance(observations[0], np.ndarray) or isinstance(observations[0], tuple):\n",
    "    # obs = test_model.from_obs_to_ob(observations)\n",
    "    obs[:,1] = model.from_pose_to_idx(observations[:,1])\n",
    "\n",
    "agent_state_mapping = model.get_agent_state_mapping(obs,a,poses)\n",
    "plot_cscg_graph_test(A,digested_observations,v, model.n_clones, agent_state_mapping , Path(''), env.rooms_colour_map)"
   ]
  },
  {
   "cell_type": "code",
   "execution_count": 166,
   "metadata": {},
   "outputs": [
    {
     "data": {
      "image/png": "[encoded data removed]",
      "text/plain": [
       "<Figure size 1080x576 with 6 Axes>"
      ]
     },
     "metadata": {
      "needs_background": "light"
     },
     "output_type": "display_data"
    }
   ],
   "source": [
    "Transition_matrix = model.get_B()\n",
    "T_plot = plot_transition_detailed_resized(Transition_matrix, actions, agent_state_mapping, desired_state_mapping, plot=False)"
   ]
  },
  {
   "cell_type": "code",
   "execution_count": null,
   "metadata": {},
   "outputs": [],
   "source": [
    "plot_path_in_map(env, start_pose, a[:])"
   ]
  },
  {
   "cell_type": "code",
   "execution_count": null,
   "metadata": {},
   "outputs": [],
   "source": [
    "agent_state_mapping = chmm.get_agent_state_mapping()\n",
    "agent_state_mapping\n"
   ]
  },
  {
   "cell_type": "code",
   "execution_count": 19,
   "metadata": {},
   "outputs": [
    {
     "ename": "AttributeError",
     "evalue": "'PosixPath' object has no attribute 'values'",
     "output_type": "error",
     "traceback": [
      "\u001b[0;31m---------------------------------------------------------------------------\u001b[0m",
      "\u001b[0;31mAttributeError\u001b[0m                            Traceback (most recent call last)",
      "Input \u001b[0;32mIn [19]\u001b[0m, in \u001b[0;36m<cell line: 11>\u001b[0;34m()\u001b[0m\n\u001b[1;32m      9\u001b[0m     A \u001b[38;5;241m/\u001b[39m\u001b[38;5;241m=\u001b[39m (div \u001b[38;5;241m+\u001b[39m \u001b[38;5;241m0.0001\u001b[39m)\n\u001b[1;32m     10\u001b[0m cwd \u001b[38;5;241m=\u001b[39m Path\u001b[38;5;241m.\u001b[39mcwd()\n\u001b[0;32m---> 11\u001b[0m graph \u001b[38;5;241m=\u001b[39m \u001b[43mplot_cscg_graph\u001b[49m\u001b[43m(\u001b[49m\u001b[43mA\u001b[49m\u001b[43m,\u001b[49m\u001b[43m \u001b[49m\u001b[43mx\u001b[49m\u001b[43m,\u001b[49m\u001b[43m \u001b[49m\u001b[43mv\u001b[49m\u001b[43m,\u001b[49m\u001b[43m \u001b[49m\u001b[43mchmm\u001b[49m\u001b[38;5;241;43m.\u001b[39;49m\u001b[43mn_clones\u001b[49m\u001b[43m,\u001b[49m\u001b[43m  \u001b[49m\u001b[43mcwd\u001b[49m\u001b[43m,\u001b[49m\u001b[43m \u001b[49m\u001b[43mcmap\u001b[49m\u001b[43m)\u001b[49m\n\u001b[1;32m     13\u001b[0m graph\n",
      "File \u001b[0;32m~/workspace/higher_level_nav/visualisation_tools.py:416\u001b[0m, in \u001b[0;36mplot_cscg_graph\u001b[0;34m(A, x, v, n_clones, agent_state_mapping, store_path, cmap, vertex_size)\u001b[0m\n\u001b[1;32m    413\u001b[0m \u001b[38;5;28;01mdef\u001b[39;00m \u001b[38;5;21mplot_cscg_graph\u001b[39m(\n\u001b[1;32m    414\u001b[0m     A, x, v, n_clones,agent_state_mapping, store_path, cmap\u001b[38;5;241m=\u001b[39mcm\u001b[38;5;241m.\u001b[39mSpectral, vertex_size\u001b[38;5;241m=\u001b[39m\u001b[38;5;241m30\u001b[39m\n\u001b[1;32m    415\u001b[0m ):\n\u001b[0;32m--> 416\u001b[0m     v_map \u001b[38;5;241m=\u001b[39m [value[\u001b[38;5;124m'\u001b[39m\u001b[38;5;124mstate\u001b[39m\u001b[38;5;124m'\u001b[39m] \u001b[38;5;28;01mfor\u001b[39;00m value \u001b[38;5;129;01min\u001b[39;00m \u001b[43magent_state_mapping\u001b[49m\u001b[38;5;241;43m.\u001b[39;49m\u001b[43mvalues\u001b[49m()]\n\u001b[1;32m    417\u001b[0m     obs \u001b[38;5;241m=\u001b[39m [value[\u001b[38;5;124m'\u001b[39m\u001b[38;5;124mob\u001b[39m\u001b[38;5;124m'\u001b[39m] \u001b[38;5;28;01mfor\u001b[39;00m value \u001b[38;5;129;01min\u001b[39;00m agent_state_mapping\u001b[38;5;241m.\u001b[39mvalues()]\n\u001b[1;32m    418\u001b[0m     colors \u001b[38;5;241m=\u001b[39m [cmap(nl)[:\u001b[38;5;241m3\u001b[39m] \u001b[38;5;28;01mfor\u001b[39;00m nl \u001b[38;5;129;01min\u001b[39;00m obs]\n",
      "\u001b[0;31mAttributeError\u001b[0m: 'PosixPath' object has no attribute 'values'"
     ]
    }
   ],
   "source": [
    "if len(chmm.states) == 0:\n",
    "    states = chmm.decode(x,a[1:])[1]\n",
    "else:\n",
    "    states = chmm.states\n",
    "    v = np.unique(states)\n",
    "    T = chmm.C[:, v][:, :, v]\n",
    "    A = T.sum(0)\n",
    "    div = A.sum(1, keepdims=True)\n",
    "    A /= (div + 0.0001)\n",
    "cwd = Path.cwd()\n",
    "graph = plot_cscg_graph(A, x, v, chmm.n_clones,  cwd, cmap)\n",
    "\n",
    "graph\n"
   ]
  },
  {
   "cell_type": "code",
   "execution_count": null,
   "metadata": {},
   "outputs": [],
   "source": [
    "chmm.get_agent_state_mapping(x,a,poses)"
   ]
  },
  {
   "cell_type": "code",
   "execution_count": null,
   "metadata": {},
   "outputs": [],
   "source": [
    "n_states =  9#chmm.get_n_states()\n",
    "plot_transition(chmm.get_B(), actions, chmm.get_agent_state_mapping(observations,a,poses), \\\n",
    "                             desired_state_mapping, plot=True)"
   ]
  },
  {
   "cell_type": "code",
   "execution_count": 165,
   "metadata": {},
   "outputs": [
    {
     "name": "stdout",
     "output_type": "stream",
     "text": [
      "          LEFT\n",
      "    prev_s   \n",
      "       0      1      2      3      4      5      6      7      8      9   ...   \n",
      "0   0.011  0.008  0.007  0.003  0.006  0.002  0.009  0.018  0.002  0.007  ...  \\\n",
      "1   0.002  0.002  0.010  0.013  0.011  0.008  0.001  0.002  0.012  0.004  ...   \n",
      "2   0.013  0.017  0.015  0.005  0.015  0.009  0.011  0.008  0.010  0.018  ...   \n",
      "3   0.011  0.015  0.018  0.012  0.008  0.020  0.016  0.011  0.012  0.019  ...   \n",
      "4   0.010  0.006  0.009  0.014  0.007  0.015  0.018  0.003  0.016  0.012  ...   \n",
      "..    ...    ...    ...    ...    ...    ...    ...    ...    ...    ...  ...   \n",
      "85  0.010  0.016  0.015  0.021  0.005  0.010  0.004  0.007  0.006  0.002  ...   \n",
      "86  0.009  0.018  0.018  0.001  0.012  0.007  0.022  0.021  0.016  0.008  ...   \n",
      "87  0.013  0.018  0.020  0.011  0.011  0.007  0.005  0.021  0.011  0.023  ...   \n",
      "88  0.022  0.012  0.014  0.020  0.008  0.006  0.014  0.004  0.009  0.005  ...   \n",
      "89  0.004  0.022  0.010  0.004  0.014  0.020  0.010  0.018  0.003  0.017  ...   \n",
      "\n",
      "       80     81     82     83     84     85     86     87     88     89  \n",
      "0   0.014  0.015  0.013  0.021  0.023  0.019  0.011  0.018  0.013  0.015  \n",
      "1   0.003  0.021  0.013  0.005  0.010  0.017  0.010  0.001  0.011  0.009  \n",
      "2   0.003  0.006  0.007  0.019  0.002  0.005  0.023  0.003  0.018  0.005  \n",
      "3   0.016  0.010  0.011  0.006  0.023  0.004  0.012  0.016  0.010  0.011  \n",
      "4   0.003  0.002  0.020  0.016  0.011  0.001  0.011  0.007  0.018  0.009  \n",
      "..    ...    ...    ...    ...    ...    ...    ...    ...    ...    ...  \n",
      "85  0.007  0.019  0.005  0.001  0.004  0.021  0.020  0.008  0.007  0.006  \n",
      "86  0.016  0.016  0.015  0.003  0.007  0.002  0.006  0.014  0.004  0.008  \n",
      "87  0.002  0.002  0.013  0.008  0.005  0.005  0.005  0.008  0.007  0.002  \n",
      "88  0.006  0.019  0.013  0.014  0.006  0.018  0.021  0.001  0.003  0.007  \n",
      "89  0.009  0.016  0.016  0.016  0.006  0.018  0.002  0.002  0.007  0.009  \n",
      "\n",
      "[90 rows x 90 columns]\n",
      "          RIGHT\n",
      "    prev_s   \n",
      "       0      1      2      3      4      5      6      7      8      9   ...   \n",
      "0   0.016  0.009  0.006  0.012  0.008  0.008  0.007  0.001  0.002  0.008  ...  \\\n",
      "1   0.016  0.008  0.002  0.013  0.019  0.018  0.009  0.020  0.019  0.004  ...   \n",
      "2   0.017  0.007  0.018  0.010  0.005  0.019  0.011  0.018  0.003  0.015  ...   \n",
      "3   0.016  0.017  0.020  0.008  0.004  0.021  0.001  0.012  0.019  0.012  ...   \n",
      "4   0.003  0.010  0.007  0.012  0.010  0.012  0.010  0.019  0.009  0.019  ...   \n",
      "..    ...    ...    ...    ...    ...    ...    ...    ...    ...    ...  ...   \n",
      "85  0.017  0.011  0.016  0.003  0.005  0.007  0.017  0.010  0.004  0.020  ...   \n",
      "86  0.019  0.003  0.009  0.020  0.005  0.012  0.012  0.009  0.011  0.004  ...   \n",
      "87  0.009  0.015  0.012  0.014  0.003  0.004  0.011  0.017  0.007  0.009  ...   \n",
      "88  0.004  0.003  0.012  0.006  0.019  0.017  0.016  0.001  0.001  0.003  ...   \n",
      "89  0.012  0.015  0.014  0.015  0.009  0.005  0.016  0.008  0.006  0.020  ...   \n",
      "\n",
      "       80     81     82     83     84     85     86     87     88     89  \n",
      "0   0.010  0.002  0.017  0.010  0.015  0.007  0.018  0.010  0.016  0.019  \n",
      "1   0.014  0.002  0.003  0.006  0.013  0.021  0.011  0.013  0.018  0.007  \n",
      "2   0.016  0.019  0.012  0.006  0.001  0.002  0.005  0.021  0.011  0.012  \n",
      "3   0.020  0.008  0.004  0.019  0.017  0.019  0.006  0.018  0.020  0.018  \n",
      "4   0.018  0.005  0.016  0.014  0.006  0.001  0.016  0.009  0.020  0.004  \n",
      "..    ...    ...    ...    ...    ...    ...    ...    ...    ...    ...  \n",
      "85  0.013  0.014  0.016  0.017  0.016  0.013  0.014  0.014  0.004  0.010  \n",
      "86  0.014  0.010  0.017  0.002  0.005  0.016  0.020  0.010  0.012  0.003  \n",
      "87  0.012  0.003  0.009  0.010  0.019  0.009  0.019  0.002  0.010  0.016  \n",
      "88  0.005  0.019  0.017  0.003  0.007  0.014  0.001  0.012  0.007  0.011  \n",
      "89  0.014  0.013  0.017  0.014  0.004  0.017  0.011  0.005  0.016  0.015  \n",
      "\n",
      "[90 rows x 90 columns]\n",
      "          UP\n",
      "    prev_s   \n",
      "       0      1      2      3      4      5      6      7      8      9   ...   \n",
      "0   0.015  0.016  0.005  0.013  0.013  0.017  0.020  0.017  0.002  0.006  ...  \\\n",
      "1   0.008  0.021  0.013  0.006  0.019  0.005  0.014  0.007  0.017  0.016  ...   \n",
      "2   0.015  0.014  0.003  0.013  0.019  0.017  0.011  0.004  0.003  0.013  ...   \n",
      "3   0.005  0.003  0.012  0.015  0.003  0.021  0.008  0.004  0.017  0.014  ...   \n",
      "4   0.018  0.015  0.009  0.019  0.002  0.004  0.013  0.003  0.015  0.010  ...   \n",
      "..    ...    ...    ...    ...    ...    ...    ...    ...    ...    ...  ...   \n",
      "85  0.018  0.009  0.008  0.001  0.005  0.001  0.009  0.002  0.010  0.014  ...   \n",
      "86  0.010  0.003  0.003  0.009  0.001  0.020  0.012  0.003  0.010  0.017  ...   \n",
      "87  0.002  0.008  0.006  0.020  0.014  0.013  0.018  0.006  0.003  0.004  ...   \n",
      "88  0.002  0.003  0.003  0.011  0.015  0.002  0.016  0.007  0.015  0.011  ...   \n",
      "89  0.012  0.011  0.008  0.014  0.011  0.021  0.016  0.004  0.018  0.010  ...   \n",
      "\n",
      "       80     81     82     83     84     85     86     87     88     89  \n",
      "0   0.002  0.009  0.003  0.010  0.005  0.004  0.019  0.009  0.015  0.005  \n",
      "1   0.007  0.004  0.013  0.019  0.008  0.003  0.005  0.010  0.020  0.013  \n",
      "2   0.007  0.019  0.010  0.020  0.011  0.003  0.002  0.018  0.015  0.013  \n",
      "3   0.009  0.004  0.005  0.013  0.011  0.017  0.007  0.007  0.016  0.008  \n",
      "4   0.002  0.011  0.018  0.005  0.020  0.012  0.007  0.002  0.021  0.017  \n",
      "..    ...    ...    ...    ...    ...    ...    ...    ...    ...    ...  \n",
      "85  0.016  0.018  0.018  0.012  0.011  0.005  0.009  0.020  0.017  0.016  \n",
      "86  0.003  0.011  0.018  0.012  0.017  0.016  0.008  0.008  0.011  0.007  \n",
      "87  0.013  0.011  0.008  0.009  0.011  0.013  0.004  0.013  0.006  0.001  \n",
      "88  0.021  0.002  0.007  0.003  0.002  0.015  0.004  0.002  0.015  0.009  \n",
      "89  0.007  0.003  0.007  0.006  0.009  0.004  0.019  0.002  0.008  0.011  \n",
      "\n",
      "[90 rows x 90 columns]\n",
      "          DOWN\n",
      "    prev_s   \n",
      "       0      1      2      3      4      5      6      7      8      9   ...   \n",
      "0   0.010  0.016  0.007  0.007  0.005  0.005  0.013  0.017  0.016  0.015  ...  \\\n",
      "1   0.020  0.006  0.001  0.018  0.019  0.010  0.018  0.005  0.009  0.002  ...   \n",
      "2   0.006  0.013  0.012  0.004  0.018  0.016  0.015  0.015  0.019  0.003  ...   \n",
      "3   0.017  0.003  0.013  0.009  0.004  0.011  0.014  0.014  0.006  0.011  ...   \n",
      "4   0.002  0.004  0.013  0.007  0.012  0.013  0.018  0.018  0.007  0.004  ...   \n",
      "..    ...    ...    ...    ...    ...    ...    ...    ...    ...    ...  ...   \n",
      "85  0.020  0.017  0.004  0.006  0.010  0.016  0.013  0.017  0.015  0.021  ...   \n",
      "86  0.005  0.019  0.020  0.002  0.015  0.022  0.018  0.015  0.005  0.016  ...   \n",
      "87  0.015  0.016  0.017  0.004  0.011  0.005  0.013  0.002  0.018  0.010  ...   \n",
      "88  0.008  0.014  0.001  0.011  0.011  0.010  0.017  0.013  0.014  0.008  ...   \n",
      "89  0.015  0.008  0.018  0.011  0.012  0.013  0.015  0.007  0.015  0.005  ...   \n",
      "\n",
      "       80     81     82     83     84     85     86     87     88     89  \n",
      "0   0.015  0.018  0.007  0.008  0.007  0.008  0.003  0.013  0.018  0.022  \n",
      "1   0.002  0.017  0.012  0.014  0.015  0.015  0.013  0.010  0.018  0.010  \n",
      "2   0.012  0.005  0.006  0.020  0.007  0.014  0.015  0.004  0.010  0.008  \n",
      "3   0.008  0.011  0.020  0.013  0.005  0.008  0.018  0.018  0.007  0.013  \n",
      "4   0.018  0.003  0.008  0.010  0.008  0.005  0.008  0.001  0.018  0.021  \n",
      "..    ...    ...    ...    ...    ...    ...    ...    ...    ...    ...  \n",
      "85  0.011  0.012  0.012  0.011  0.010  0.012  0.013  0.010  0.016  0.016  \n",
      "86  0.002  0.021  0.006  0.014  0.005  0.006  0.020  0.018  0.004  0.015  \n",
      "87  0.006  0.003  0.018  0.011  0.015  0.020  0.016  0.010  0.010  0.003  \n",
      "88  0.002  0.017  0.011  0.006  0.014  0.013  0.016  0.007  0.007  0.019  \n",
      "89  0.007  0.004  0.005  0.021  0.008  0.018  0.004  0.012  0.017  0.004  \n",
      "\n",
      "[90 rows x 90 columns]\n",
      "          STAY\n",
      "    prev_s   \n",
      "     0    1    2    3    4    5    6    7    8    9   ...   80   81   82   83   \n",
      "0   1.0  0.0  0.0  0.0  0.0  0.0  0.0  0.0  0.0  0.0  ...  0.0  0.0  0.0  0.0  \\\n",
      "1   0.0  1.0  0.0  0.0  0.0  0.0  0.0  0.0  0.0  0.0  ...  0.0  0.0  0.0  0.0   \n",
      "2   0.0  0.0  1.0  0.0  0.0  0.0  0.0  0.0  0.0  0.0  ...  0.0  0.0  0.0  0.0   \n",
      "3   0.0  0.0  0.0  1.0  0.0  0.0  0.0  0.0  0.0  0.0  ...  0.0  0.0  0.0  0.0   \n",
      "4   0.0  0.0  0.0  0.0  1.0  0.0  0.0  0.0  0.0  0.0  ...  0.0  0.0  0.0  0.0   \n",
      "..  ...  ...  ...  ...  ...  ...  ...  ...  ...  ...  ...  ...  ...  ...  ...   \n",
      "85  0.0  0.0  0.0  0.0  0.0  0.0  0.0  0.0  0.0  0.0  ...  0.0  0.0  0.0  0.0   \n",
      "86  0.0  0.0  0.0  0.0  0.0  0.0  0.0  0.0  0.0  0.0  ...  0.0  0.0  0.0  0.0   \n",
      "87  0.0  0.0  0.0  0.0  0.0  0.0  0.0  0.0  0.0  0.0  ...  0.0  0.0  0.0  0.0   \n",
      "88  0.0  0.0  0.0  0.0  0.0  0.0  0.0  0.0  0.0  0.0  ...  0.0  0.0  0.0  0.0   \n",
      "89  0.0  0.0  0.0  0.0  0.0  0.0  0.0  0.0  0.0  0.0  ...  0.0  0.0  0.0  0.0   \n",
      "\n",
      "     84   85   86   87   88   89  \n",
      "0   0.0  0.0  0.0  0.0  0.0  0.0  \n",
      "1   0.0  0.0  0.0  0.0  0.0  0.0  \n",
      "2   0.0  0.0  0.0  0.0  0.0  0.0  \n",
      "3   0.0  0.0  0.0  0.0  0.0  0.0  \n",
      "4   0.0  0.0  0.0  0.0  0.0  0.0  \n",
      "..  ...  ...  ...  ...  ...  ...  \n",
      "85  0.0  1.0  0.0  0.0  0.0  0.0  \n",
      "86  0.0  0.0  1.0  0.0  0.0  0.0  \n",
      "87  0.0  0.0  0.0  1.0  0.0  0.0  \n",
      "88  0.0  0.0  0.0  0.0  1.0  0.0  \n",
      "89  0.0  0.0  0.0  0.0  0.0  1.0  \n",
      "\n",
      "[90 rows x 90 columns]\n"
     ]
    }
   ],
   "source": [
    "tr = print_transitions(chmm.get_B(), actions)"
   ]
  },
  {
   "cell_type": "code",
   "execution_count": null,
   "metadata": {},
   "outputs": [],
   "source": [
    "preferred_ob = [4, -1]\n",
    "chmm = load_object(\"results/grid_4x4_alias/cscg_exploration/cscg_pose_ob/cscg_pose_ob_2024-02-09-13-27-45/cscg_pose_ob.pkl\")\n",
    "\n",
    "chmm.goal_oriented_navigation(obs = preferred_ob.copy())"
   ]
  },
  {
   "cell_type": "code",
   "execution_count": null,
   "metadata": {},
   "outputs": [],
   "source": [
    "from ours.pymdp import utils\n",
    "from ours.pymdp.maths import spm_dot\n",
    "\n",
    "def infer_action(chmm, **kwargs):\n",
    "    obs=kwargs.get('obs',-1)\n",
    "    next_possible_actions = kwargs.get('next_possible_actions',[*range(chmm.n_actions)])\n",
    "    random = kwargs.get('random_policy', False)\n",
    "    if random:\n",
    "        return np.random.choice(next_possible_actions)\n",
    "    \n",
    "    prior = chmm.agent.qs[0].copy()\n",
    "    if chmm.prev_action is not None:\n",
    "        prior = spm_dot(chmm.agent.B[0][:, :, chmm.prev_action], prior)\n",
    "\n",
    "    qs = chmm.agent.infer_states([obs])\n",
    "\n",
    "    action = int(get_action(chmm,qs,next_possible_actions))\n",
    "\n",
    "    chmm.prev_action = action\n",
    "\n",
    "    chmm.agent.action = np.array([chmm.prev_action])\n",
    "    chmm.agent.step_time()\n",
    "\n",
    "    posterior = chmm.agent.qs[0].copy()\n",
    "    return action, {\n",
    "        \"qs\": chmm.agent.qs[0],\n",
    "        \"bayesian_surprise\": utils.bayesian_surprise(posterior, prior),\n",
    "        }\n",
    "\n",
    "def get_action(chmm, qs,next_possible_actions):\n",
    "    # states = np.where(qs[0][:-1] > 1e-4)[0]\n",
    "    states = np.where(qs[0] > 1e-4)[0]\n",
    "    pq = qs[0][states]\n",
    "\n",
    "    plans = []\n",
    "    n_states = []\n",
    "    for i, s in enumerate(states):\n",
    "        # pi_x = np.zeros_like(qs[0][:-1])\n",
    "        pi_x = np.zeros_like(qs[0])\n",
    "        pi_x[s] = 1\n",
    "        #if s not in chmm.preferred_states:\n",
    "        #if s in chmm.states:\n",
    "        actions, states = observation_bridge(chmm, pi_x, max_steps=15) #consider preference\n",
    "    \n",
    "        if actions[0] == -1:\n",
    "            pq[i] = 0\n",
    "        elif states[0] in chmm.states:\n",
    "            pq[i] = pq[i] * 1.5\n",
    "        # else:\n",
    "        #     actions = [-1]  # just go forward if its already in preferred\n",
    "        #     states = [-1]\n",
    "        #     pq[i] = 0\n",
    "\n",
    "        plans.append(actions[0])\n",
    "        n_states.append(states[0])\n",
    "\n",
    "    norm = pq.sum() \n",
    "    print('plan', plans,'n_states',n_states, 'pq', pq)\n",
    "    # if norm <= 0:\n",
    "    #     pq = [1/len(pq)]*len(pq)\n",
    "    #     action = np.random.choice(next_possible_actions)\n",
    "    # else:\n",
    "    pq /= norm\n",
    "    action = np.random.choice(plans, p=pq)\n",
    "    return action\n",
    "\n",
    "def observation_bridge(chmm, belief_over_states, max_steps=100):\n",
    "    \n",
    "    # T = chmm.T[:, v][:, :, v][:, :, :]\n",
    "    ret = forward_mp_all_multiple_states(\n",
    "        chmm.T.transpose(0, 2, 1),\n",
    "        belief_over_states,\n",
    "        chmm.Pi_a,\n",
    "        chmm.n_clones,\n",
    "        chmm.preferred_states,\n",
    "        max_steps,\n",
    "    )\n",
    "    \n",
    "    if ret:\n",
    "        print('belief_over_states',np.argmax(belief_over_states),'pref state', ret[2] ,'mess_fwd' ,ret[1]  )\n",
    "        log2_lik, mess_fwd, selected_state = ret\n",
    "        s_a = backtrace_all(\n",
    "            chmm.T, chmm.Pi_a, chmm.n_clones, mess_fwd, selected_state\n",
    "        )\n",
    "        print('s_a',s_a)\n",
    "        return s_a\n",
    "    return [-1], [-1]\n",
    "    \n",
    "\n",
    "\n",
    "def backtrace_all(T, Pi_a, n_clones, mess_fwd, target_state):\n",
    "    \"\"\"Compute backward messages.\"\"\"\n",
    "    states = np.zeros(mess_fwd.shape[0], dtype=np.int64)\n",
    "    actions = np.zeros(mess_fwd.shape[0], dtype=np.int64)\n",
    "    n_states = T.shape[1]\n",
    "    # backward pass\n",
    "    t = mess_fwd.shape[0] - 1\n",
    "    actions[t], states[t] = (\n",
    "        -1,\n",
    "        target_state,\n",
    "    )  # last actions is irrelevant, use an invalid value\n",
    "    for t in range(mess_fwd.shape[0] - 2, -1, -1):\n",
    "        belief = (\n",
    "            mess_fwd[t].reshape(1, -1) * T[:, :, states[t + 1]] * Pi_a.reshape(-1, 1)\n",
    "        )\n",
    "        a_s = rargmax(belief.flatten())\n",
    "        actions[t], states[t] = a_s // n_states, a_s % n_states\n",
    "    return actions, states\n",
    "\n",
    "\n",
    "def forward_mp_all_multiple_states(\n",
    "    T_tr, Pi_x, Pi_a, n_clones, target_states, max_steps\n",
    "):\n",
    "    \"\"\"Log-probability of a sequence, and optionally, messages\"\"\"\n",
    "    # forward pass\n",
    "    t, log2_lik = 0, []\n",
    "    message = Pi_x\n",
    "    p_obs = message.max()\n",
    "    assert p_obs > 0\n",
    "    message /= p_obs\n",
    "    log2_lik.append(np.log2(p_obs))\n",
    "    mess_fwd = []\n",
    "    mess_fwd.append(message)\n",
    "    T_tr_maxa = (T_tr * Pi_a.reshape(-1, 1, 1)).max(0)\n",
    "    selected_state = -1\n",
    "    for t in range(1, max_steps):\n",
    "        message = (T_tr_maxa * message.reshape(1, -1)).max(1)\n",
    "        print('message high states', np.where(message > 0.1))\n",
    "        p_obs = message.max()\n",
    "        print('t',t, 'message', p_obs, message)\n",
    "        if p_obs > 0:\n",
    "            message /= p_obs\n",
    "            log2_lik.append(np.log2(p_obs))\n",
    "            mess_fwd.append(message)\n",
    "            break_out = False\n",
    "            print('message high states', np.where(message > 0.2), np.any(message != [message[0]]*len(message)))\n",
    "            for target_state in target_states:\n",
    "                \n",
    "                #if target state reached if possible next state AND if the proba is not equally distributed among ALL states\n",
    "                if message[target_state] > 0 : \n",
    "                    selected_state = target_state\n",
    "                    break_out = True\n",
    "                    print('break out', selected_state)\n",
    "                    break\n",
    "            if break_out:\n",
    "                break\n",
    "        else:\n",
    "            return False\n",
    "\n",
    "    else:\n",
    "        return False\n",
    "    return np.array(log2_lik), np.array(mess_fwd), selected_state\n",
    "\n",
    "def rargmax(x):\n",
    "    # return x.argmax()  # <- favors clustering towards smaller state numbers\n",
    "    return np.random.choice((x == x.max()).nonzero()[0])"
   ]
  },
  {
   "cell_type": "code",
   "execution_count": null,
   "metadata": {},
   "outputs": [],
   "source": [
    "def goal_reached(model, action , c_obs, p_obs, actions):\n",
    "    \n",
    "    if (c_obs[-1] == model.preferred_ob[0] and action == actions['STAY']) :\n",
    "        print('Goal reached')\n",
    "        return 1\n",
    "    elif np.array_equal([model.preferred_ob[0]] * 3,c_obs[-3:]) and np.array_equal([p_obs[-1]]*3 ,p_obs[-3:]):\n",
    "        print('Goal reached')\n",
    "        return 2\n",
    "    return 0"
   ]
  },
  {
   "cell_type": "code",
   "execution_count": null,
   "metadata": {},
   "outputs": [],
   "source": [
    "#CSCG GOAL \n",
    "# chmm = load_object(\"figures/cscg/cscg_test.pkl\")\n",
    "\n",
    "chmm.goal_oriented_navigation(obs = preferred_ob.copy())\n",
    "obs,_ = env.reset((0,0))\n",
    "ob, pose = obs\n",
    "print('start ob', ob)\n",
    "x, a = [np.array([ob],dtype=np.int64), np.array([], dtype=np.int64)]\n",
    "poses = [start_pose]\n",
    "pose = start_pose\n",
    "T = 15\n",
    "for t in range(0,T):\n",
    "    # print()\n",
    "    print('my t', t)\n",
    "    next_possible_actions = env.get_next_possible_motions(pose, no_stay=False)\n",
    "    print('p next actions', pose, next_possible_actions)\n",
    "    # next_possible_actions = [0,1,2,3,4]\n",
    "    action, _ = chmm.infer_action(observation=[ob,pose], random_policy=False)\n",
    "    print('pose', pose, 'action chosen:', action)\n",
    "    obs, _,_,_ = env.step(action, pose)\n",
    "    ob, pose = obs\n",
    "    x =np.append(x,ob)\n",
    "    a= np.append(a,action)\n",
    "    poses.append(pose)\n",
    "\n",
    "    if 'pose':\n",
    "        obs = chmm.from_obs_to_ob(np.array([np.array([c, p], dtype=object) for c, p in zip(c_obs, p_obs)]))\n",
    "    else:\n",
    "        obs = x\n",
    "    if goal_reached(chmm, action , obs, poses, actions) >0:\n",
    "        break"
   ]
  },
  {
   "cell_type": "code",
   "execution_count": null,
   "metadata": {},
   "outputs": [],
   "source": [
    "plot_path_in_map(env, start_pose, a[:])"
   ]
  }
 ],
 "metadata": {
  "kernelspec": {
   "display_name": "ozgqn",
   "language": "python",
   "name": "python3"
  },
  "language_info": {
   "codemirror_mode": {
    "name": "ipython",
    "version": 3
   },
   "file_extension": ".py",
   "mimetype": "text/x-python",
   "name": "python",
   "nbconvert_exporter": "python",
   "pygments_lexer": "ipython3",
   "version": "3.8.16"
  }
 },
 "nbformat": 4,
 "nbformat_minor": 2
}
