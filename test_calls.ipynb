{
 "cells": [
  {
   "cell_type": "code",
   "execution_count": 25,
   "metadata": {},
   "outputs": [],
   "source": [
    "#TEST IMPORTS\n",
    "import numpy as np\n",
    "from ours.V3_3 import Ours_V3_3 \n",
    "from ours.V1 import Ours_V1\n",
    "from cscg.chmm_actions import CHMM, datagen_structured_obs_room\n",
    "\n",
    "from envs.minigrid import GridWorldEnv\n",
    "from visualisation_tools import *"
   ]
  },
  {
   "cell_type": "code",
   "execution_count": 2,
   "metadata": {},
   "outputs": [],
   "source": [
    "rooms = np.array(\n",
    "    [\n",
    "        [0, 0, 1],\n",
    "        [2, 0, 4],\n",
    "        [3, 3, 3],\n",
    "    ]\n",
    ")\n",
    "\n",
    "# rooms = np.array(\n",
    "#     [\n",
    "#         [0, 0, 1, 4],\n",
    "#         [2, 0, 1, 3],\n",
    "#         [3, 3, 3, 0],\n",
    "#     ]\n",
    "# ) #3x4 rooms, 1 ob per room\n",
    "\n",
    "# rooms = np.array(\n",
    "#     [\n",
    "#         [0, 1],\n",
    "#         [2, 3]\n",
    "#     ]\n",
    "# )"
   ]
  },
  {
   "cell_type": "code",
   "execution_count": 26,
   "metadata": {},
   "outputs": [],
   "source": [
    "#ASSIGN COLORS TO ROOMS IDS\n",
    "\n",
    "custom_colors = (\n",
    "    np.array(\n",
    "        [\n",
    "            [255, 0, 0],\n",
    "            [0, 255, 0],\n",
    "            [50,50, 255],\n",
    "            [112, 39, 195],\n",
    "            [255, 255, 0],\n",
    "            [100, 100, 100],\n",
    "            [0, 0, 0],\n",
    "            [255, 255, 255],\n",
    "            \n",
    "        ]\n",
    "    )\n",
    "    / 256\n",
    ")\n",
    "\n",
    "cmap = create_custom_cmap(custom_colors[:5])"
   ]
  },
  {
   "cell_type": "code",
   "execution_count": 4,
   "metadata": {},
   "outputs": [],
   "source": [
    "actions = {'UP':2, 'RIGHT':1, 'DOWN':3, 'LEFT':0, 'STAY':4}\n",
    "desired_state_mapping = {(i * rooms.shape[1] + j): (i, j) for i in range(rooms.shape[0]) for j in range(rooms.shape[1])}"
   ]
  },
  {
   "cell_type": "code",
   "execution_count": 5,
   "metadata": {},
   "outputs": [],
   "source": [
    "#TEST MODELS INIT\n",
    "minigrid_env = GridWorldEnv(rooms, actions)\n",
    "start_pose = (0,0)\n",
    "ob = minigrid_env.reset(start_pose)\n",
    "start_state_idx = minigrid_env.get_state(start_pose)\n",
    "\n",
    "\n",
    "ours_v3_3 = Ours_V3_3(num_obs=2, num_states=2, observations=[ob,start_pose], learning_rate_pB=3.0, actions= actions)\n",
    "ours_v1 = Ours_V1(num_obs=2, num_states=2, observations=[ob,start_state_idx], learning_rate_pB=3.0, actions= actions)\n"
   ]
  },
  {
   "cell_type": "code",
   "execution_count": 6,
   "metadata": {},
   "outputs": [
    {
     "name": "stdout",
     "output_type": "stream",
     "text": [
      "position in rooms observations\n",
      "[['x' 0 -1]\n",
      " [-1 0 -1]\n",
      " [-1 -1 -1]]\n",
      "rooms ideal generated states\n",
      "[[0 0 -1]\n",
      " [-1 0 -1]\n",
      " [-1 -1 -1]]\n"
     ]
    }
   ],
   "source": [
    "#INIT SETUP VISUALISATION\n",
    "plot_observations_and_states(minigrid_env,start_pose)"
   ]
  },
  {
   "cell_type": "code",
   "execution_count": 7,
   "metadata": {},
   "outputs": [
    {
     "name": "stdout",
     "output_type": "stream",
     "text": [
      " __ \n",
      "time 0 believed Qs: [1. 0.]\n"
     ]
    },
    {
     "name": "stdout",
     "output_type": "stream",
     "text": [
      "action taken: 4 pose: (0, 0) ,ob: 0\n",
      "prior on believed state [0.8 0.2]\n",
      "update_B: a 4 qs[factor] [0.8 0.2] qs_prev[factor] [1. 0.]\n",
      "after updates believed Qs: [0.932 0.068]\n",
      "update_B: a 2 qs[factor] [0.932 0.068] qs_prev[factor] [0.932 0.068]\n",
      "a 1 n pose (0, 1) 1\n",
      "update_B: a 1 qs[factor] [0. 1.] qs_prev[factor] [0.932 0.068]\n",
      "a 3 n pose (1, 0) 2\n",
      "update_B: a 3 qs[factor] [0.636 0.188 0.176] qs_prev[factor] [0.932 0.068 0.   ]\n",
      "update_B: a 0 qs[factor] [0.932 0.068 0.   ] qs_prev[factor] [0.932 0.068 0.   ]\n",
      "update_B: a 4 qs[factor] [0.932 0.068 0.   ] qs_prev[factor] [0.932 0.068 0.   ]\n",
      " __ \n",
      "time 1 believed Qs: [0.932 0.068 0.   ]\n",
      "action taken: 1 pose: (0, 1) ,ob: 0\n",
      "prior on believed state [0. 1. 0.]\n",
      "update_B: a 1 qs[factor] [0. 1. 0.] qs_prev[factor] [0.932 0.068 0.   ]\n",
      "update_B: a 0 qs[factor] [0.932 0.068 0.   ] qs_prev[factor] [0. 1. 0.]\n",
      "after updates believed Qs: [0. 1. 0.]\n",
      "update_B: a 2 qs[factor] [0. 1. 0.] qs_prev[factor] [0. 1. 0.]\n",
      "a 1 n pose (0, 2) 3\n",
      "update_B: a 1 qs[factor] [0.217 0.602 0.014 0.167] qs_prev[factor] [0. 1. 0. 0.]\n",
      "a 3 n pose (1, 1) 4\n",
      "update_B: a 3 qs[factor] [0.194 0.538 0.013 0.088 0.167] qs_prev[factor] [0. 1. 0. 0. 0.]\n",
      "update_B: a 4 qs[factor] [0. 1. 0. 0. 0.] qs_prev[factor] [0. 1. 0. 0. 0.]\n",
      " __ \n",
      "time 2 believed Qs: [0. 1. 0. 0. 0.]\n",
      "action taken: 3 pose: (1, 1) ,ob: 0\n",
      "prior on believed state [0.149 0.289 0.011 0.029 0.522]\n",
      "update_B: a 3 qs[factor] [0.149 0.289 0.011 0.029 0.522] qs_prev[factor] [0. 1. 0. 0. 0.]\n",
      "update_B: a 2 qs[factor] [0. 1. 0. 0. 0.] qs_prev[factor] [0.149 0.289 0.011 0.029 0.522]\n",
      "after updates believed Qs: [0.064 0.111 0.003 0.008 0.814]\n",
      "a 1 n pose (1, 2) 5\n",
      "update_B: a 1 qs[factor] [0.163 0.146 0.064 0.047 0.14  0.441] qs_prev[factor] [0.064 0.111 0.003 0.008 0.814 0.   ]\n",
      "a 3 n pose (2, 1) 6\n",
      "update_B: a 3 qs[factor] [0.166 0.16  0.129 0.122 0.158 0.098 0.167] qs_prev[factor] [0.064 0.111 0.003 0.008 0.814 0.    0.   ]\n",
      "update_B: a 4 qs[factor] [0.064 0.111 0.003 0.008 0.814 0.    0.   ] qs_prev[factor] [0.064 0.111 0.003 0.008 0.814 0.    0.   ]\n",
      " __ \n",
      "time 3 believed Qs: [0.064 0.111 0.003 0.008 0.814 0.    0.   ]\n",
      "action taken: 0 pose: (1, 0) ,ob: 1\n",
      "prior on believed state [0.    0.012 0.988 0.    0.    0.    0.   ]\n",
      "update_B: a 0 qs[factor] [0.    0.012 0.988 0.    0.    0.    0.   ] qs_prev[factor] [0.064 0.111 0.003 0.008 0.814 0.    0.   ]\n",
      "update_B: a 1 qs[factor] [0.064 0.111 0.003 0.008 0.814 0.    0.   ] qs_prev[factor] [0.    0.012 0.988 0.    0.    0.    0.   ]\n",
      "after updates believed Qs: [0. 0. 1. 0. 0. 0. 0.]\n",
      "a 3 n pose (2, 0) 7\n",
      "update_B: a 3 qs[factor] [0.135 0.136 0.257 0.101 0.081 0.067 0.058 0.167] qs_prev[factor] [0. 0. 1. 0. 0. 0. 0. 0.]\n",
      "update_B: a 0 qs[factor] [0. 0. 1. 0. 0. 0. 0. 0.] qs_prev[factor] [0. 0. 1. 0. 0. 0. 0. 0.]\n",
      "update_B: a 4 qs[factor] [0. 0. 1. 0. 0. 0. 0. 0.] qs_prev[factor] [0. 0. 1. 0. 0. 0. 0. 0.]\n",
      " __ \n",
      "time 4 believed Qs: [0. 0. 1. 0. 0. 0. 0. 0.]\n",
      "action taken: 2 pose: (0, 0) ,ob: 0\n",
      "prior on believed state [0.692 0.308 0.    0.    0.    0.    0.    0.   ]\n",
      "update_B: a 2 qs[factor] [0.692 0.308 0.    0.    0.    0.    0.    0.   ] qs_prev[factor] [0. 0. 1. 0. 0. 0. 0. 0.]\n",
      "update_B: a 3 qs[factor] [0. 0. 1. 0. 0. 0. 0. 0.] qs_prev[factor] [0.692 0.308 0.    0.    0.    0.    0.    0.   ]\n",
      "after updates believed Qs: [0.928 0.072 0.    0.    0.    0.    0.    0.   ]\n",
      "update_B: a 2 qs[factor] [0.928 0.072 0.    0.    0.    0.    0.    0.   ] qs_prev[factor] [0.928 0.072 0.    0.    0.    0.    0.    0.   ]\n",
      "update_B: a 0 qs[factor] [0.928 0.072 0.    0.    0.    0.    0.    0.   ] qs_prev[factor] [0.928 0.072 0.    0.    0.    0.    0.    0.   ]\n",
      "update_B: a 4 qs[factor] [0.928 0.072 0.    0.    0.    0.    0.    0.   ] qs_prev[factor] [0.928 0.072 0.    0.    0.    0.    0.    0.   ]\n",
      " __ \n",
      "time 5 believed Qs: [0.928 0.072 0.    0.    0.    0.    0.    0.   ]\n",
      "action taken: 3 pose: (1, 0) ,ob: 1\n",
      "prior on believed state [0.    0.001 0.999 0.    0.    0.    0.    0.   ]\n",
      "update_B: a 3 qs[factor] [0.    0.001 0.999 0.    0.    0.    0.    0.   ] qs_prev[factor] [0.928 0.072 0.    0.    0.    0.    0.    0.   ]\n",
      "update_B: a 2 qs[factor] [0.928 0.072 0.    0.    0.    0.    0.    0.   ] qs_prev[factor] [0.    0.001 0.999 0.    0.    0.    0.    0.   ]\n",
      "after updates believed Qs: [0. 0. 1. 0. 0. 0. 0. 0.]\n",
      "update_B: a 0 qs[factor] [0. 0. 1. 0. 0. 0. 0. 0.] qs_prev[factor] [0. 0. 1. 0. 0. 0. 0. 0.]\n",
      "update_B: a 4 qs[factor] [0. 0. 1. 0. 0. 0. 0. 0.] qs_prev[factor] [0. 0. 1. 0. 0. 0. 0. 0.]\n",
      " __ \n",
      "time 6 believed Qs: [0. 0. 1. 0. 0. 0. 0. 0.]\n",
      "action taken: 3 pose: (2, 0) ,ob: 2\n",
      "prior on believed state [0.015 0.037 0.026 0.031 0.025 0.021 0.018 0.827]\n",
      "update_B: a 3 qs[factor] [0.015 0.037 0.026 0.031 0.025 0.021 0.018 0.827] qs_prev[factor] [0. 0. 1. 0. 0. 0. 0. 0.]\n",
      "update_B: a 2 qs[factor] [0. 0. 1. 0. 0. 0. 0. 0.] qs_prev[factor] [0.015 0.037 0.026 0.031 0.025 0.021 0.018 0.827]\n",
      "after updates believed Qs: [0.001 0.005 0.002 0.004 0.003 0.003 0.002 0.979]\n",
      "update_B: a 3 qs[factor] [0.001 0.005 0.002 0.004 0.003 0.003 0.002 0.979] qs_prev[factor] [0.001 0.005 0.002 0.004 0.003 0.003 0.002 0.979]\n",
      "update_B: a 0 qs[factor] [0.001 0.005 0.002 0.004 0.003 0.003 0.002 0.979] qs_prev[factor] [0.001 0.005 0.002 0.004 0.003 0.003 0.002 0.979]\n",
      "update_B: a 4 qs[factor] [0.001 0.005 0.002 0.004 0.003 0.003 0.002 0.979] qs_prev[factor] [0.001 0.005 0.002 0.004 0.003 0.003 0.002 0.979]\n",
      " __ \n",
      "time 7 believed Qs: [0.001 0.005 0.002 0.004 0.003 0.003 0.002 0.979]\n",
      "action taken: 1 pose: (2, 1) ,ob: 2\n",
      "prior on believed state [0.018 0.045 0.006 0.049 0.05  0.053 0.78  0.   ]\n",
      "update_B: a 1 qs[factor] [0.018 0.045 0.006 0.049 0.05  0.053 0.78  0.   ] qs_prev[factor] [0.001 0.005 0.002 0.004 0.003 0.003 0.002 0.979]\n",
      "update_B: a 0 qs[factor] [0.001 0.005 0.002 0.004 0.003 0.003 0.002 0.979] qs_prev[factor] [0.018 0.045 0.006 0.049 0.05  0.053 0.78  0.   ]\n",
      "after updates believed Qs: [0.001 0.004 0.    0.004 0.004 0.005 0.982 0.   ]\n",
      "a 1 n pose (2, 2) 8\n",
      "update_B: a 1 qs[factor] [0.09  0.096 0.088 0.094 0.094 0.096 0.2   0.075 0.167] qs_prev[factor] [0.001 0.004 0.    0.004 0.004 0.005 0.982 0.    0.   ]\n",
      "update_B: a 3 qs[factor] [0.001 0.004 0.    0.004 0.004 0.005 0.982 0.    0.   ] qs_prev[factor] [0.001 0.004 0.    0.004 0.004 0.005 0.982 0.    0.   ]\n",
      "update_B: a 4 qs[factor] [0.001 0.004 0.    0.004 0.004 0.005 0.982 0.    0.   ] qs_prev[factor] [0.001 0.004 0.    0.004 0.004 0.005 0.982 0.    0.   ]\n",
      " __ \n",
      "time 8 believed Qs: [0.001 0.004 0.    0.004 0.004 0.005 0.982 0.    0.   ]\n",
      "action taken: 2 pose: (1, 1) ,ob: 0\n",
      "prior on believed state [0.056 0.175 0.004 0.047 0.718 0.    0.    0.    0.   ]\n",
      "update_B: a 2 qs[factor] [0.056 0.175 0.004 0.047 0.718 0.    0.    0.    0.   ] qs_prev[factor] [0.001 0.004 0.    0.004 0.004 0.005 0.982 0.    0.   ]\n",
      "update_B: a 3 qs[factor] [0.001 0.004 0.    0.004 0.004 0.005 0.982 0.    0.   ] qs_prev[factor] [0.056 0.175 0.004 0.047 0.718 0.    0.    0.    0.   ]\n",
      "after updates believed Qs: [0.006 0.052 0.    0.004 0.938 0.    0.    0.    0.   ]\n",
      "update_B: a 4 qs[factor] [0.006 0.052 0.    0.004 0.938 0.    0.    0.    0.   ] qs_prev[factor] [0.006 0.052 0.    0.004 0.938 0.    0.    0.    0.   ]\n",
      " __ \n",
      "time 9 believed Qs: [0.006 0.052 0.    0.004 0.938 0.    0.    0.    0.   ]\n",
      "action taken: 1 pose: (1, 2) ,ob: 3\n",
      "prior on believed state [0.011 0.026 0.001 0.01  0.009 0.943 0.    0.    0.   ]\n",
      "update_B: a 1 qs[factor] [0.011 0.026 0.001 0.01  0.009 0.943 0.    0.    0.   ] qs_prev[factor] [0.006 0.052 0.    0.004 0.938 0.    0.    0.    0.   ]\n",
      "update_B: a 0 qs[factor] [0.006 0.052 0.    0.004 0.938 0.    0.    0.    0.   ] qs_prev[factor] [0.011 0.026 0.001 0.01  0.009 0.943 0.    0.    0.   ]\n",
      "after updates believed Qs: [0.002 0.006 0.    0.002 0.001 0.988 0.    0.    0.   ]\n",
      "update_B: a 1 qs[factor] [0.002 0.006 0.    0.002 0.001 0.988 0.    0.    0.   ] qs_prev[factor] [0.002 0.006 0.    0.002 0.001 0.988 0.    0.    0.   ]\n",
      "update_B: a 4 qs[factor] [0.002 0.006 0.    0.002 0.001 0.988 0.    0.    0.   ] qs_prev[factor] [0.002 0.006 0.    0.002 0.001 0.988 0.    0.    0.   ]\n"
     ]
    }
   ],
   "source": [
    "#RUN\n",
    "\n",
    "action_hist = []\n",
    "T= 10\n",
    "pose = start_pose\n",
    "for t in range(0,T):\n",
    "    print(' __ ')\n",
    "    print('time', t, 'believed Qs:',ours_v3_3.get_current_belief()[0].round(3))\n",
    "    action = ours_v3_3.infer_action()\n",
    "    action_hist.append(action)\n",
    "    ob, pose = minigrid_env.step(action, pose)\n",
    "\n",
    "    next_possible_actions = minigrid_env.get_next_possible_motions(pose)\n",
    "    print('action taken:',int(action),'pose:',pose,',ob:', ob)\n",
    "    ours_v3_3.agent_step_update(action,[ob,pose],next_possible_actions)"
   ]
  },
  {
   "cell_type": "code",
   "execution_count": 8,
   "metadata": {},
   "outputs": [
    {
     "name": "stdout",
     "output_type": "stream",
     "text": [
      "position in rooms observations\n",
      "[['x' 0 -1]\n",
      " [1 0 3]\n",
      " [2 2 2]]\n",
      "rooms ideal generated states\n",
      "[[0 1 -1]\n",
      " [3 2 6]\n",
      " [4 5 2]]\n"
     ]
    }
   ],
   "source": [
    "plot_observations_and_states(minigrid_env,start_pose)"
   ]
  },
  {
   "cell_type": "code",
   "execution_count": 10,
   "metadata": {},
   "outputs": [
    {
     "data": {
      "image/png": "[encoded data removed]",
      "text/plain": [
       "<Figure size 432x288 with 1 Axes>"
      ]
     },
     "metadata": {
      "needs_background": "light"
     },
     "output_type": "display_data"
    },
    {
     "data": {
      "image/png": "[encoded data removed]",
      "text/plain": [
       "<Figure size 432x288 with 1 Axes>"
      ]
     },
     "metadata": {
      "needs_background": "light"
     },
     "output_type": "display_data"
    }
   ],
   "source": [
    "plot_likelihood(ours_v3_3.agent.A[0], tittle_add='Colour')\n",
    "plot_likelihood(ours_v3_3.agent.A[1], ours_v3_3.agent_state_mapping, tittle_add='Pose')"
   ]
  },
  {
   "cell_type": "code",
   "execution_count": null,
   "metadata": {},
   "outputs": [],
   "source": [
    "plot_path_in_map(minigrid_env, start_pose, action_hist[:54])"
   ]
  },
  {
   "cell_type": "code",
   "execution_count": 11,
   "metadata": {},
   "outputs": [
    {
     "data": {
      "image/png": "[encoded data removed]",
      "text/plain": [
       "<Figure size 1080x576 with 6 Axes>"
      ]
     },
     "metadata": {
      "needs_background": "light"
     },
     "output_type": "display_data"
    }
   ],
   "source": [
    "plot_transition_detailed(ours_v3_3.agent.B[0], actions, ours_v3_3.agent_state_mapping, desired_state_mapping)"
   ]
  },
  {
   "cell_type": "code",
   "execution_count": 23,
   "metadata": {},
   "outputs": [
    {
     "data": {
      "image/svg+xml": [
       "<?xml version=\"1.0\" encoding=\"UTF-8\"?>\n",
       "<svg xmlns=\"http://www.w3.org/2000/svg\" xmlns:xlink=\"http://www.w3.org/1999/xlink\" width=\"600pt\" height=\"600pt\" viewBox=\"0 0 600 600\" version=\"1.1\">\n",
       "<defs>\n",
       "<g>\n",
       "<symbol overflow=\"visible\" id=\"glyph0-0\">\n",
       "<path style=\"stroke:none;\" d=\"M 0.703125 2.46875 L 0.703125 -9.875 L 7.703125 -9.875 L 7.703125 2.46875 Z M 1.484375 1.703125 L 6.921875 1.703125 L 6.921875 -9.078125 L 1.484375 -9.078125 Z M 1.484375 1.703125 \"/>\n",
       "</symbol>\n",
       "<symbol overflow=\"visible\" id=\"glyph0-1\">\n",
       "<path style=\"stroke:none;\" d=\"M 4.453125 -9.296875 C 3.742188 -9.296875 3.207031 -8.945312 2.84375 -8.25 C 2.488281 -7.550781 2.3125 -6.5 2.3125 -5.09375 C 2.3125 -3.695312 2.488281 -2.644531 2.84375 -1.9375 C 3.207031 -1.238281 3.742188 -0.890625 4.453125 -0.890625 C 5.171875 -0.890625 5.707031 -1.238281 6.0625 -1.9375 C 6.414062 -2.644531 6.59375 -3.695312 6.59375 -5.09375 C 6.59375 -6.5 6.414062 -7.550781 6.0625 -8.25 C 5.707031 -8.945312 5.171875 -9.296875 4.453125 -9.296875 Z M 4.453125 -10.390625 C 5.597656 -10.390625 6.472656 -9.9375 7.078125 -9.03125 C 7.679688 -8.125 7.984375 -6.8125 7.984375 -5.09375 C 7.984375 -3.375 7.679688 -2.0625 7.078125 -1.15625 C 6.472656 -0.25 5.597656 0.203125 4.453125 0.203125 C 3.304688 0.203125 2.429688 -0.25 1.828125 -1.15625 C 1.222656 -2.0625 0.921875 -3.375 0.921875 -5.09375 C 0.921875 -6.8125 1.222656 -8.125 1.828125 -9.03125 C 2.429688 -9.9375 3.304688 -10.390625 4.453125 -10.390625 Z M 4.453125 -10.390625 \"/>\n",
       "</symbol>\n",
       "<symbol overflow=\"visible\" id=\"glyph0-2\">\n",
       "<path style=\"stroke:none;\" d=\"M 1.734375 -1.15625 L 4 -1.15625 L 4 -8.953125 L 1.53125 -8.453125 L 1.53125 -9.71875 L 3.984375 -10.203125 L 5.359375 -10.203125 L 5.359375 -1.15625 L 7.609375 -1.15625 L 7.609375 0 L 1.734375 0 Z M 1.734375 -1.15625 \"/>\n",
       "</symbol>\n",
       "<symbol overflow=\"visible\" id=\"glyph0-3\">\n",
       "<path style=\"stroke:none;\" d=\"M 2.6875 -1.15625 L 7.5 -1.15625 L 7.5 0 L 1.03125 0 L 1.03125 -1.15625 C 1.550781 -1.695312 2.265625 -2.425781 3.171875 -3.34375 C 4.078125 -4.257812 4.644531 -4.847656 4.875 -5.109375 C 5.3125 -5.609375 5.617188 -6.03125 5.796875 -6.375 C 5.972656 -6.71875 6.0625 -7.054688 6.0625 -7.390625 C 6.0625 -7.929688 5.867188 -8.375 5.484375 -8.71875 C 5.109375 -9.0625 4.613281 -9.234375 4 -9.234375 C 3.570312 -9.234375 3.117188 -9.15625 2.640625 -9 C 2.160156 -8.851562 1.644531 -8.625 1.09375 -8.3125 L 1.09375 -9.71875 C 1.644531 -9.9375 2.160156 -10.101562 2.640625 -10.21875 C 3.128906 -10.332031 3.578125 -10.390625 3.984375 -10.390625 C 5.035156 -10.390625 5.875 -10.125 6.5 -9.59375 C 7.132812 -9.070312 7.453125 -8.367188 7.453125 -7.484375 C 7.453125 -7.054688 7.375 -6.65625 7.21875 -6.28125 C 7.0625 -5.90625 6.773438 -5.460938 6.359375 -4.953125 C 6.242188 -4.828125 5.878906 -4.445312 5.265625 -3.8125 C 4.660156 -3.175781 3.800781 -2.289062 2.6875 -1.15625 Z M 2.6875 -1.15625 \"/>\n",
       "</symbol>\n",
       "<symbol overflow=\"visible\" id=\"glyph0-4\">\n",
       "<path style=\"stroke:none;\" d=\"M 5.296875 -9 L 1.8125 -3.5625 L 5.296875 -3.5625 Z M 4.921875 -10.203125 L 6.671875 -10.203125 L 6.671875 -3.5625 L 8.125 -3.5625 L 8.125 -2.40625 L 6.671875 -2.40625 L 6.671875 0 L 5.296875 0 L 5.296875 -2.40625 L 0.6875 -2.40625 L 0.6875 -3.734375 Z M 4.921875 -10.203125 \"/>\n",
       "</symbol>\n",
       "<symbol overflow=\"visible\" id=\"glyph0-5\">\n",
       "<path style=\"stroke:none;\" d=\"M 1.515625 -10.203125 L 6.9375 -10.203125 L 6.9375 -9.046875 L 2.78125 -9.046875 L 2.78125 -6.546875 C 2.976562 -6.609375 3.175781 -6.65625 3.375 -6.6875 C 3.570312 -6.726562 3.773438 -6.75 3.984375 -6.75 C 5.117188 -6.75 6.019531 -6.4375 6.6875 -5.8125 C 7.351562 -5.1875 7.6875 -4.34375 7.6875 -3.28125 C 7.6875 -2.175781 7.34375 -1.316406 6.65625 -0.703125 C 5.976562 -0.0976562 5.015625 0.203125 3.765625 0.203125 C 3.335938 0.203125 2.898438 0.164062 2.453125 0.09375 C 2.015625 0.0195312 1.554688 -0.0859375 1.078125 -0.234375 L 1.078125 -1.625 C 1.492188 -1.40625 1.921875 -1.238281 2.359375 -1.125 C 2.796875 -1.019531 3.253906 -0.96875 3.734375 -0.96875 C 4.523438 -0.96875 5.148438 -1.171875 5.609375 -1.578125 C 6.066406 -1.992188 6.296875 -2.5625 6.296875 -3.28125 C 6.296875 -3.988281 6.066406 -4.546875 5.609375 -4.953125 C 5.148438 -5.367188 4.523438 -5.578125 3.734375 -5.578125 C 3.367188 -5.578125 3 -5.535156 2.625 -5.453125 C 2.257812 -5.378906 1.890625 -5.253906 1.515625 -5.078125 Z M 1.515625 -10.203125 \"/>\n",
       "</symbol>\n",
       "<symbol overflow=\"visible\" id=\"glyph0-6\">\n",
       "<path style=\"stroke:none;\" d=\"M 4.625 -5.65625 C 4 -5.65625 3.503906 -5.441406 3.140625 -5.015625 C 2.785156 -4.585938 2.609375 -4.007812 2.609375 -3.28125 C 2.609375 -2.539062 2.785156 -1.957031 3.140625 -1.53125 C 3.503906 -1.101562 4 -0.890625 4.625 -0.890625 C 5.238281 -0.890625 5.726562 -1.101562 6.09375 -1.53125 C 6.457031 -1.957031 6.640625 -2.539062 6.640625 -3.28125 C 6.640625 -4.007812 6.457031 -4.585938 6.09375 -5.015625 C 5.726562 -5.441406 5.238281 -5.65625 4.625 -5.65625 Z M 7.359375 -9.984375 L 7.359375 -8.71875 C 7.015625 -8.882812 6.664062 -9.007812 6.3125 -9.09375 C 5.957031 -9.1875 5.609375 -9.234375 5.265625 -9.234375 C 4.347656 -9.234375 3.648438 -8.925781 3.171875 -8.3125 C 2.691406 -7.695312 2.421875 -6.765625 2.359375 -5.515625 C 2.617188 -5.910156 2.953125 -6.210938 3.359375 -6.421875 C 3.765625 -6.640625 4.210938 -6.75 4.703125 -6.75 C 5.722656 -6.75 6.53125 -6.4375 7.125 -5.8125 C 7.726562 -5.1875 8.03125 -4.34375 8.03125 -3.28125 C 8.03125 -2.226562 7.71875 -1.382812 7.09375 -0.75 C 6.476562 -0.113281 5.65625 0.203125 4.625 0.203125 C 3.4375 0.203125 2.53125 -0.25 1.90625 -1.15625 C 1.289062 -2.0625 0.984375 -3.375 0.984375 -5.09375 C 0.984375 -6.707031 1.363281 -7.992188 2.125 -8.953125 C 2.894531 -9.910156 3.921875 -10.390625 5.203125 -10.390625 C 5.554688 -10.390625 5.90625 -10.351562 6.25 -10.28125 C 6.601562 -10.21875 6.972656 -10.117188 7.359375 -9.984375 Z M 7.359375 -9.984375 \"/>\n",
       "</symbol>\n",
       "<symbol overflow=\"visible\" id=\"glyph0-7\">\n",
       "<path style=\"stroke:none;\" d=\"M 1.15625 -10.203125 L 7.71875 -10.203125 L 7.71875 -9.625 L 4 0 L 2.5625 0 L 6.046875 -9.046875 L 1.15625 -9.046875 Z M 1.15625 -10.203125 \"/>\n",
       "</symbol>\n",
       "</g>\n",
       "</defs>\n",
       "<g id=\"surface66\">\n",
       "<rect x=\"0\" y=\"0\" width=\"600\" height=\"600\" style=\"fill:rgb(100%,100%,100%);fill-opacity:1;stroke:none;\"/>\n",
       "<path style=\"fill:none;stroke-width:1;stroke-linecap:butt;stroke-linejoin:miter;stroke:rgb(26.666667%,26.666667%,26.666667%);stroke-opacity:1;stroke-miterlimit:10;\" d=\"M 588.410156 411.855469 C 588.410156 424.28125 578.335938 434.355469 565.910156 434.355469 C 553.484375 434.355469 543.410156 424.28125 543.410156 411.855469 C 543.410156 399.429688 553.484375 389.355469 565.910156 389.355469 C 578.335938 389.355469 588.410156 399.429688 588.410156 411.855469 \"/>\n",
       "<path style=\"fill:none;stroke-width:1;stroke-linecap:butt;stroke-linejoin:miter;stroke:rgb(26.666667%,26.666667%,26.666667%);stroke-opacity:1;stroke-miterlimit:10;\" d=\"M 550 427.765625 C 505.847656 399.574219 463.535156 402.140625 424.632812 437.214844 \"/>\n",
       "<path style=\" stroke:none;fill-rule:nonzero;fill:rgb(26.666667%,26.666667%,26.666667%);fill-opacity:1;\" d=\"M 414.035156 446.769531 L 421.527344 433.773438 L 427.734375 440.65625 L 414.035156 446.769531 \"/>\n",
       "<path style=\"fill:none;stroke-width:1;stroke-linecap:butt;stroke-linejoin:miter;stroke:rgb(26.666667%,26.666667%,26.666667%);stroke-opacity:1;stroke-miterlimit:10;\" d=\"M 550 427.765625 C 566.734375 349.320312 540.089844 290.519531 469.171875 253.050781 \"/>\n",
       "<path style=\" stroke:none;fill-rule:nonzero;fill:rgb(26.666667%,26.666667%,26.666667%);fill-opacity:1;\" d=\"M 456.558594 246.386719 L 471.335938 248.949219 L 467.003906 257.148438 L 456.558594 246.386719 \"/>\n",
       "<path style=\"fill:none;stroke-width:1;stroke-linecap:butt;stroke-linejoin:miter;stroke:rgb(26.666667%,26.666667%,26.666667%);stroke-opacity:1;stroke-miterlimit:10;\" d=\"M 550 427.765625 C 459.316406 411.5625 407.90625 455.894531 352.558594 527.242188 \"/>\n",
       "<path style=\" stroke:none;fill-rule:nonzero;fill:rgb(26.666667%,26.666667%,26.666667%);fill-opacity:1;\" d=\"M 343.8125 538.511719 L 348.894531 524.398438 L 356.21875 530.082031 L 343.8125 538.511719 \"/>\n",
       "<path style=\"fill:none;stroke-width:1;stroke-linecap:butt;stroke-linejoin:miter;stroke:rgb(26.666667%,26.666667%,26.666667%);stroke-opacity:1;stroke-miterlimit:10;\" d=\"M 402.476562 457.191406 C 446.84375 483.816406 483.902344 473.625 525.996094 444.417969 \"/>\n",
       "<path style=\" stroke:none;fill-rule:nonzero;fill:rgb(26.666667%,26.666667%,26.666667%);fill-opacity:1;\" d=\"M 537.71875 436.285156 L 528.640625 448.226562 L 523.355469 440.609375 L 537.71875 436.285156 \"/>\n",
       "<path style=\"fill:none;stroke-width:1;stroke-linecap:butt;stroke-linejoin:miter;stroke:rgb(26.666667%,26.666667%,26.666667%);stroke-opacity:1;stroke-miterlimit:10;\" d=\"M 440.886719 441.28125 C 440.886719 453.707031 430.8125 463.78125 418.386719 463.78125 C 405.957031 463.78125 395.886719 453.707031 395.886719 441.28125 C 395.886719 428.855469 405.957031 418.78125 418.386719 418.78125 C 430.8125 418.78125 440.886719 428.855469 440.886719 441.28125 \"/>\n",
       "<path style=\"fill:none;stroke-width:1;stroke-linecap:butt;stroke-linejoin:miter;stroke:rgb(26.666667%,26.666667%,26.666667%);stroke-opacity:1;stroke-miterlimit:10;\" d=\"M 402.476562 457.191406 C 368.371094 468.101562 369.726562 505.503906 352.703125 527.253906 \"/>\n",
       "<path style=\" stroke:none;fill-rule:nonzero;fill:rgb(26.666667%,26.666667%,26.666667%);fill-opacity:1;\" d=\"M 343.910156 538.488281 L 349.054688 524.398438 L 356.355469 530.109375 L 343.910156 538.488281 \"/>\n",
       "<path style=\"fill:none;stroke-width:1;stroke-linecap:butt;stroke-linejoin:miter;stroke:rgb(26.666667%,26.666667%,26.666667%);stroke-opacity:1;stroke-miterlimit:10;\" d=\"M 402.476562 457.191406 L 263.566406 368.414062 \"/>\n",
       "<path style=\" stroke:none;fill-rule:nonzero;fill:rgb(26.666667%,26.666667%,26.666667%);fill-opacity:1;\" d=\"M 251.546875 360.730469 L 266.0625 364.507812 L 261.070312 372.320312 L 251.546875 360.730469 \"/>\n",
       "<path style=\"fill:none;stroke-width:1;stroke-linecap:butt;stroke-linejoin:miter;stroke:rgb(26.666667%,26.666667%,26.666667%);stroke-opacity:1;stroke-miterlimit:10;\" d=\"M 443.074219 239.261719 C 422.265625 321.171875 446.519531 423.210938 521.070312 426.492188 \"/>\n",
       "<path style=\" stroke:none;fill-rule:nonzero;fill:rgb(26.666667%,26.666667%,26.666667%);fill-opacity:1;\" d=\"M 535.324219 427.121094 L 520.867188 431.121094 L 521.273438 421.859375 L 535.324219 427.121094 \"/>\n",
       "<path style=\"fill:none;stroke-width:1;stroke-linecap:butt;stroke-linejoin:miter;stroke:rgb(26.666667%,26.666667%,26.666667%);stroke-opacity:1;stroke-miterlimit:10;\" d=\"M 481.484375 223.351562 C 481.484375 235.777344 471.410156 245.851562 458.984375 245.851562 C 446.558594 245.851562 436.484375 235.777344 436.484375 223.351562 C 436.484375 210.925781 446.558594 200.851562 458.984375 200.851562 C 471.410156 200.851562 481.484375 210.925781 481.484375 223.351562 \"/>\n",
       "<path style=\"fill:none;stroke-width:1;stroke-linecap:butt;stroke-linejoin:miter;stroke:rgb(26.666667%,26.666667%,26.666667%);stroke-opacity:1;stroke-miterlimit:10;\" d=\"M 443.074219 239.261719 C 357.472656 220.386719 289.375 247.359375 251.542969 326.292969 \"/>\n",
       "<path style=\" stroke:none;fill-rule:nonzero;fill:rgb(26.666667%,26.666667%,26.666667%);fill-opacity:1;\" d=\"M 245.375 339.15625 L 247.363281 324.289062 L 255.722656 328.292969 L 245.375 339.15625 \"/>\n",
       "<path style=\"fill:none;stroke-width:1;stroke-linecap:butt;stroke-linejoin:miter;stroke:rgb(26.666667%,26.666667%,26.666667%);stroke-opacity:1;stroke-miterlimit:10;\" d=\"M 443.074219 239.261719 C 456.246094 162.03125 405.414062 126.085938 357.152344 72.007812 \"/>\n",
       "<path style=\" stroke:none;fill-rule:nonzero;fill:rgb(26.666667%,26.666667%,26.666667%);fill-opacity:1;\" d=\"M 347.652344 61.367188 L 360.609375 68.921875 L 353.691406 75.09375 L 347.652344 61.367188 \"/>\n",
       "<path style=\"fill:none;stroke-width:1;stroke-linecap:butt;stroke-linejoin:miter;stroke:rgb(26.666667%,26.666667%,26.666667%);stroke-opacity:1;stroke-miterlimit:10;\" d=\"M 334.898438 550 C 426.425781 568.792969 498.402344 538.917969 537.691406 454.28125 \"/>\n",
       "<path style=\" stroke:none;fill-rule:nonzero;fill:rgb(26.666667%,26.666667%,26.666667%);fill-opacity:1;\" d=\"M 543.699219 441.34375 L 541.894531 456.234375 L 533.488281 452.332031 L 543.699219 441.34375 \"/>\n",
       "<path style=\"fill:none;stroke-width:1;stroke-linecap:butt;stroke-linejoin:miter;stroke:rgb(26.666667%,26.666667%,26.666667%);stroke-opacity:1;stroke-miterlimit:10;\" d=\"M 334.898438 550 C 385.109375 547.207031 440.777344 480.578125 427.277344 472.335938 \"/>\n",
       "<path style=\" stroke:none;fill-rule:nonzero;fill:rgb(26.666667%,26.666667%,26.666667%);fill-opacity:1;\" d=\"M 415.101562 464.902344 L 429.695312 468.382812 L 424.863281 476.292969 L 415.101562 464.902344 \"/>\n",
       "<path style=\"fill:none;stroke-width:1;stroke-linecap:butt;stroke-linejoin:miter;stroke:rgb(26.666667%,26.666667%,26.666667%);stroke-opacity:1;stroke-miterlimit:10;\" d=\"M 373.308594 534.089844 C 373.308594 546.515625 363.238281 556.589844 350.808594 556.589844 C 338.382812 556.589844 328.308594 546.515625 328.308594 534.089844 C 328.308594 521.664062 338.382812 511.589844 350.808594 511.589844 C 363.238281 511.589844 373.308594 521.664062 373.308594 534.089844 \"/>\n",
       "<path style=\"fill:none;stroke-width:1;stroke-linecap:butt;stroke-linejoin:miter;stroke:rgb(26.666667%,26.666667%,26.666667%);stroke-opacity:1;stroke-miterlimit:10;\" d=\"M 334.898438 550 L 251.707031 378.96875 \"/>\n",
       "<path style=\" stroke:none;fill-rule:nonzero;fill:rgb(26.666667%,26.666667%,26.666667%);fill-opacity:1;\" d=\"M 245.46875 366.140625 L 255.875 376.941406 L 247.539062 380.996094 L 245.46875 366.140625 \"/>\n",
       "<path style=\"fill:none;stroke-width:1;stroke-linecap:butt;stroke-linejoin:miter;stroke:rgb(26.666667%,26.666667%,26.666667%);stroke-opacity:1;stroke-miterlimit:10;\" d=\"M 238.90625 352.652344 C 323.644531 368.929688 372.335938 328.03125 425.046875 261.878906 \"/>\n",
       "<path style=\" stroke:none;fill-rule:nonzero;fill:rgb(26.666667%,26.666667%,26.666667%);fill-opacity:1;\" d=\"M 433.9375 250.722656 L 428.671875 264.769531 L 421.421875 258.992188 L 433.9375 250.722656 \"/>\n",
       "<path style=\"fill:none;stroke-width:1;stroke-linecap:butt;stroke-linejoin:miter;stroke:rgb(26.666667%,26.666667%,26.666667%);stroke-opacity:1;stroke-miterlimit:10;\" d=\"M 277.316406 336.742188 C 277.316406 349.167969 267.242188 359.242188 254.816406 359.242188 C 242.390625 359.242188 232.316406 349.167969 232.316406 336.742188 C 232.316406 324.316406 242.390625 314.242188 254.816406 314.242188 C 267.242188 314.242188 277.316406 324.316406 277.316406 336.742188 \"/>\n",
       "<path style=\"fill:none;stroke-width:1;stroke-linecap:butt;stroke-linejoin:miter;stroke:rgb(26.666667%,26.666667%,26.666667%);stroke-opacity:1;stroke-miterlimit:10;\" d=\"M 238.90625 352.652344 C 161.863281 340.914062 129.382812 403.152344 74.082031 441.058594 \"/>\n",
       "<path style=\" stroke:none;fill-rule:nonzero;fill:rgb(26.666667%,26.666667%,26.666667%);fill-opacity:1;\" d=\"M 62.316406 449.125 L 71.460938 437.238281 L 76.703125 444.882812 L 62.316406 449.125 \"/>\n",
       "<path style=\"fill:none;stroke-width:1;stroke-linecap:butt;stroke-linejoin:miter;stroke:rgb(26.666667%,26.666667%,26.666667%);stroke-opacity:1;stroke-miterlimit:10;\" d=\"M 238.90625 352.652344 C 254.609375 269.261719 226.835938 175.09375 148.972656 169.929688 \"/>\n",
       "<path style=\" stroke:none;fill-rule:nonzero;fill:rgb(26.666667%,26.666667%,26.666667%);fill-opacity:1;\" d=\"M 134.738281 168.984375 L 149.28125 165.304688 L 148.667969 174.554688 L 134.738281 168.984375 \"/>\n",
       "<path style=\"fill:none;stroke-width:1;stroke-linecap:butt;stroke-linejoin:miter;stroke:rgb(26.666667%,26.666667%,26.666667%);stroke-opacity:1;stroke-miterlimit:10;\" d=\"M 238.90625 352.652344 C 290.839844 298.609375 316.9375 206.003906 260.800781 174.105469 \"/>\n",
       "<path style=\" stroke:none;fill-rule:nonzero;fill:rgb(26.666667%,26.666667%,26.666667%);fill-opacity:1;\" d=\"M 248.394531 167.058594 L 263.089844 170.078125 L 258.507812 178.136719 L 248.394531 167.058594 \"/>\n",
       "<path style=\"fill:none;stroke-width:1;stroke-linecap:butt;stroke-linejoin:miter;stroke:rgb(26.666667%,26.666667%,26.666667%);stroke-opacity:1;stroke-miterlimit:10;\" d=\"M 50 457.566406 C 139.003906 481.902344 276.65625 404.714844 255.925781 376.125 \"/>\n",
       "<path style=\" stroke:none;fill-rule:nonzero;fill:rgb(26.666667%,26.666667%,26.666667%);fill-opacity:1;\" d=\"M 247.550781 364.574219 L 259.679688 373.402344 L 252.171875 378.847656 L 247.550781 364.574219 \"/>\n",
       "<path style=\"fill:none;stroke-width:1;stroke-linecap:butt;stroke-linejoin:miter;stroke:rgb(26.666667%,26.666667%,26.666667%);stroke-opacity:1;stroke-miterlimit:10;\" d=\"M 88.410156 441.65625 C 88.410156 454.085938 78.335938 464.15625 65.910156 464.15625 C 53.484375 464.15625 43.410156 454.085938 43.410156 441.65625 C 43.410156 429.230469 53.484375 419.15625 65.910156 419.15625 C 78.335938 419.15625 88.410156 429.230469 88.410156 441.65625 \"/>\n",
       "<path style=\"fill:none;stroke-width:1;stroke-linecap:butt;stroke-linejoin:miter;stroke:rgb(26.666667%,26.666667%,26.666667%);stroke-opacity:1;stroke-miterlimit:10;\" d=\"M 120.03125 168.011719 C 105.800781 250.015625 131.8125 327.136719 210.796875 345.953125 \"/>\n",
       "<path style=\" stroke:none;fill-rule:nonzero;fill:rgb(26.666667%,26.666667%,26.666667%);fill-opacity:1;\" d=\"M 224.671875 349.261719 L 209.722656 350.464844 L 211.871094 341.445312 L 224.671875 349.261719 \"/>\n",
       "<path style=\"fill:none;stroke-width:1;stroke-linecap:butt;stroke-linejoin:miter;stroke:rgb(26.666667%,26.666667%,26.666667%);stroke-opacity:1;stroke-miterlimit:10;\" d=\"M 158.441406 152.101562 C 158.441406 164.527344 148.367188 174.601562 135.941406 174.601562 C 123.515625 174.601562 113.441406 164.527344 113.441406 152.101562 C 113.441406 139.675781 123.515625 129.601562 135.941406 129.601562 C 148.367188 129.601562 158.441406 139.675781 158.441406 152.101562 \"/>\n",
       "<path style=\"fill:none;stroke-width:1;stroke-linecap:butt;stroke-linejoin:miter;stroke:rgb(26.666667%,26.666667%,26.666667%);stroke-opacity:1;stroke-miterlimit:10;\" d=\"M 120.03125 168.011719 C 209.625 184.640625 254.246094 131.003906 315.992188 70.929688 \"/>\n",
       "<path style=\" stroke:none;fill-rule:nonzero;fill:rgb(26.666667%,26.666667%,26.666667%);fill-opacity:1;\" d=\"M 326.21875 60.984375 L 319.226562 74.253906 L 312.761719 67.609375 L 326.21875 60.984375 \"/>\n",
       "<path style=\"fill:none;stroke-width:1;stroke-linecap:butt;stroke-linejoin:miter;stroke:rgb(26.666667%,26.666667%,26.666667%);stroke-opacity:1;stroke-miterlimit:10;\" d=\"M 120.03125 168.011719 C 148.15625 192.582031 177.351562 193.808594 209.414062 174.691406 \"/>\n",
       "<path style=\" stroke:none;fill-rule:nonzero;fill:rgb(26.666667%,26.666667%,26.666667%);fill-opacity:1;\" d=\"M 221.667969 167.386719 L 211.785156 178.671875 L 207.039062 170.710938 L 221.667969 167.386719 \"/>\n",
       "<path style=\"fill:none;stroke-width:1;stroke-linecap:butt;stroke-linejoin:miter;stroke:rgb(26.666667%,26.666667%,26.666667%);stroke-opacity:1;stroke-miterlimit:10;\" d=\"M 337.507812 50 C 315.535156 131.933594 340.355469 238.210938 413.304688 238.957031 \"/>\n",
       "<path style=\" stroke:none;fill-rule:nonzero;fill:rgb(26.666667%,26.666667%,26.666667%);fill-opacity:1;\" d=\"M 427.566406 239.101562 L 413.253906 243.589844 L 413.351562 234.320312 L 427.566406 239.101562 \"/>\n",
       "<path style=\"fill:none;stroke-width:1;stroke-linecap:butt;stroke-linejoin:miter;stroke:rgb(26.666667%,26.666667%,26.666667%);stroke-opacity:1;stroke-miterlimit:10;\" d=\"M 337.507812 50 C 244.964844 26.886719 146.378906 50.195312 126.546875 138.886719 \"/>\n",
       "<path style=\" stroke:none;fill-rule:nonzero;fill:rgb(26.666667%,26.666667%,26.666667%);fill-opacity:1;\" d=\"M 123.433594 152.808594 L 122.023438 137.875 L 131.070312 139.898438 L 123.433594 152.808594 \"/>\n",
       "<path style=\"fill:none;stroke-width:1;stroke-linecap:butt;stroke-linejoin:miter;stroke:rgb(26.666667%,26.666667%,26.666667%);stroke-opacity:1;stroke-miterlimit:10;\" d=\"M 375.917969 34.089844 C 375.917969 46.515625 365.84375 56.589844 353.417969 56.589844 C 340.992188 56.589844 330.917969 46.515625 330.917969 34.089844 C 330.917969 21.664062 340.992188 11.589844 353.417969 11.589844 C 365.84375 11.589844 375.917969 21.664062 375.917969 34.089844 \"/>\n",
       "<path style=\"fill:none;stroke-width:1;stroke-linecap:butt;stroke-linejoin:miter;stroke:rgb(26.666667%,26.666667%,26.666667%);stroke-opacity:1;stroke-miterlimit:10;\" d=\"M 337.507812 50 C 272.265625 49.25 194.300781 130.511719 211.164062 142.503906 \"/>\n",
       "<path style=\" stroke:none;fill-rule:nonzero;fill:rgb(26.666667%,26.666667%,26.666667%);fill-opacity:1;\" d=\"M 222.789062 150.769531 L 208.476562 146.28125 L 213.851562 138.726562 L 222.789062 150.769531 \"/>\n",
       "<path style=\"fill:none;stroke-width:1;stroke-linecap:butt;stroke-linejoin:miter;stroke:rgb(26.666667%,26.666667%,26.666667%);stroke-opacity:1;stroke-miterlimit:10;\" d=\"M 234.992188 159.441406 C 184.363281 213.082031 160.332031 295.667969 215.023438 335.332031 \"/>\n",
       "<path style=\" stroke:none;fill-rule:nonzero;fill:rgb(26.666667%,26.666667%,26.666667%);fill-opacity:1;\" d=\"M 226.574219 343.707031 L 212.304688 339.085938 L 217.746094 331.578125 L 226.574219 343.707031 \"/>\n",
       "<path style=\"fill:none;stroke-width:1;stroke-linecap:butt;stroke-linejoin:miter;stroke:rgb(26.666667%,26.666667%,26.666667%);stroke-opacity:1;stroke-miterlimit:10;\" d=\"M 234.992188 159.441406 C 206.59375 134.292969 175.917969 131.175781 144.253906 152.046875 \"/>\n",
       "<path style=\" stroke:none;fill-rule:nonzero;fill:rgb(26.666667%,26.666667%,26.666667%);fill-opacity:1;\" d=\"M 132.34375 159.898438 L 141.703125 148.175781 L 146.804688 155.917969 L 132.34375 159.898438 \"/>\n",
       "<path style=\"fill:none;stroke-width:1;stroke-linecap:butt;stroke-linejoin:miter;stroke:rgb(26.666667%,26.666667%,26.666667%);stroke-opacity:1;stroke-miterlimit:10;\" d=\"M 234.992188 159.441406 C 284.75 150.367188 289.738281 98.511719 317.457031 70.359375 \"/>\n",
       "<path style=\" stroke:none;fill-rule:nonzero;fill:rgb(26.666667%,26.666667%,26.666667%);fill-opacity:1;\" d=\"M 327.46875 60.195312 L 320.761719 73.613281 L 314.15625 67.109375 L 327.46875 60.195312 \"/>\n",
       "<path style=\"fill:none;stroke-width:1;stroke-linecap:butt;stroke-linejoin:miter;stroke:rgb(26.666667%,26.666667%,26.666667%);stroke-opacity:1;stroke-miterlimit:10;\" d=\"M 273.402344 143.53125 C 273.402344 155.957031 263.328125 166.03125 250.902344 166.03125 C 238.476562 166.03125 228.402344 155.957031 228.402344 143.53125 C 228.402344 131.105469 238.476562 121.03125 250.902344 121.03125 C 263.328125 121.03125 273.402344 131.105469 273.402344 143.53125 \"/>\n",
       "<path style=\"fill-rule:nonzero;fill:rgb(99.609375%,0%,0%);fill-opacity:1;stroke-width:1;stroke-linecap:butt;stroke-linejoin:miter;stroke:rgb(0%,0%,0%);stroke-opacity:1;stroke-miterlimit:10;\" d=\"M 565 427.765625 C 565 436.050781 558.285156 442.765625 550 442.765625 C 541.714844 442.765625 535 436.050781 535 427.765625 C 535 419.480469 541.714844 412.765625 550 412.765625 C 558.285156 412.765625 565 419.480469 565 427.765625 \"/>\n",
       "<path style=\"fill-rule:nonzero;fill:rgb(99.609375%,0%,0%);fill-opacity:1;stroke-width:1;stroke-linecap:butt;stroke-linejoin:miter;stroke:rgb(0%,0%,0%);stroke-opacity:1;stroke-miterlimit:10;\" d=\"M 417.476562 457.191406 C 417.476562 465.476562 410.757812 472.191406 402.476562 472.191406 C 394.191406 472.191406 387.476562 465.476562 387.476562 457.191406 C 387.476562 448.90625 394.191406 442.191406 402.476562 442.191406 C 410.757812 442.191406 417.476562 448.90625 417.476562 457.191406 \"/>\n",
       "<path style=\"fill-rule:nonzero;fill:rgb(19.53125%,19.53125%,99.609375%);fill-opacity:1;stroke-width:1;stroke-linecap:butt;stroke-linejoin:miter;stroke:rgb(0%,0%,0%);stroke-opacity:1;stroke-miterlimit:10;\" d=\"M 458.074219 239.261719 C 458.074219 247.546875 451.359375 254.261719 443.074219 254.261719 C 434.789062 254.261719 428.074219 247.546875 428.074219 239.261719 C 428.074219 230.976562 434.789062 224.261719 443.074219 224.261719 C 451.359375 224.261719 458.074219 230.976562 458.074219 239.261719 \"/>\n",
       "<path style=\"fill-rule:nonzero;fill:rgb(0%,99.609375%,0%);fill-opacity:1;stroke-width:1;stroke-linecap:butt;stroke-linejoin:miter;stroke:rgb(0%,0%,0%);stroke-opacity:1;stroke-miterlimit:10;\" d=\"M 349.898438 550 C 349.898438 558.285156 343.183594 565 334.898438 565 C 326.617188 565 319.898438 558.285156 319.898438 550 C 319.898438 541.714844 326.617188 535 334.898438 535 C 343.183594 535 349.898438 541.714844 349.898438 550 \"/>\n",
       "<path style=\"fill-rule:nonzero;fill:rgb(99.609375%,0%,0%);fill-opacity:1;stroke-width:1;stroke-linecap:butt;stroke-linejoin:miter;stroke:rgb(0%,0%,0%);stroke-opacity:1;stroke-miterlimit:10;\" d=\"M 253.90625 352.652344 C 253.90625 360.9375 247.191406 367.652344 238.90625 367.652344 C 230.621094 367.652344 223.90625 360.9375 223.90625 352.652344 C 223.90625 344.367188 230.621094 337.652344 238.90625 337.652344 C 247.191406 337.652344 253.90625 344.367188 253.90625 352.652344 \"/>\n",
       "<path style=\"fill-rule:nonzero;fill:rgb(99.609375%,99.609375%,0%);fill-opacity:1;stroke-width:1;stroke-linecap:butt;stroke-linejoin:miter;stroke:rgb(0%,0%,0%);stroke-opacity:1;stroke-miterlimit:10;\" d=\"M 65 457.566406 C 65 465.851562 58.285156 472.566406 50 472.566406 C 41.714844 472.566406 35 465.851562 35 457.566406 C 35 449.285156 41.714844 442.566406 50 442.566406 C 58.285156 442.566406 65 449.285156 65 457.566406 \"/>\n",
       "<path style=\"fill-rule:nonzero;fill:rgb(43.75%,15.234375%,76.171875%);fill-opacity:1;stroke-width:1;stroke-linecap:butt;stroke-linejoin:miter;stroke:rgb(0%,0%,0%);stroke-opacity:1;stroke-miterlimit:10;\" d=\"M 135.03125 168.011719 C 135.03125 176.296875 128.316406 183.011719 120.03125 183.011719 C 111.75 183.011719 105.03125 176.296875 105.03125 168.011719 C 105.03125 159.726562 111.75 153.011719 120.03125 153.011719 C 128.316406 153.011719 135.03125 159.726562 135.03125 168.011719 \"/>\n",
       "<path style=\"fill-rule:nonzero;fill:rgb(43.75%,15.234375%,76.171875%);fill-opacity:1;stroke-width:1;stroke-linecap:butt;stroke-linejoin:miter;stroke:rgb(0%,0%,0%);stroke-opacity:1;stroke-miterlimit:10;\" d=\"M 352.507812 50 C 352.507812 58.285156 345.792969 65 337.507812 65 C 329.222656 65 322.507812 58.285156 322.507812 50 C 322.507812 41.714844 329.222656 35 337.507812 35 C 345.792969 35 352.507812 41.714844 352.507812 50 \"/>\n",
       "<path style=\"fill-rule:nonzero;fill:rgb(43.75%,15.234375%,76.171875%);fill-opacity:1;stroke-width:1;stroke-linecap:butt;stroke-linejoin:miter;stroke:rgb(0%,0%,0%);stroke-opacity:1;stroke-miterlimit:10;\" d=\"M 249.992188 159.441406 C 249.992188 167.726562 243.277344 174.441406 234.992188 174.441406 C 226.707031 174.441406 219.992188 167.726562 219.992188 159.441406 C 219.992188 151.15625 226.707031 144.441406 234.992188 144.441406 C 243.277344 144.441406 249.992188 151.15625 249.992188 159.441406 \"/>\n",
       "<g style=\"fill:rgb(0%,0%,0%);fill-opacity:1;\">\n",
       "  <use xlink:href=\"#glyph0-1\" x=\"545.550781\" y=\"434.613281\"/>\n",
       "</g>\n",
       "<g style=\"fill:rgb(0%,0%,0%);fill-opacity:1;\">\n",
       "  <use xlink:href=\"#glyph0-2\" x=\"397.898438\" y=\"463.945312\"/>\n",
       "</g>\n",
       "<g style=\"fill:rgb(0%,0%,0%);fill-opacity:1;\">\n",
       "  <use xlink:href=\"#glyph0-3\" x=\"438.808594\" y=\"246.105469\"/>\n",
       "</g>\n",
       "<g style=\"fill:rgb(0%,0%,0%);fill-opacity:1;\">\n",
       "  <use xlink:href=\"#glyph0-2\" x=\"330.324219\" y=\"556.753906\"/>\n",
       "</g>\n",
       "<g style=\"fill:rgb(0%,0%,0%);fill-opacity:1;\">\n",
       "  <use xlink:href=\"#glyph0-4\" x=\"234.503906\" y=\"359.40625\"/>\n",
       "</g>\n",
       "<g style=\"fill:rgb(0%,0%,0%);fill-opacity:1;\">\n",
       "  <use xlink:href=\"#glyph0-5\" x=\"45.617188\" y=\"464.320312\"/>\n",
       "</g>\n",
       "<g style=\"fill:rgb(0%,0%,0%);fill-opacity:1;\">\n",
       "  <use xlink:href=\"#glyph0-6\" x=\"115.53125\" y=\"174.855469\"/>\n",
       "</g>\n",
       "<g style=\"fill:rgb(0%,0%,0%);fill-opacity:1;\">\n",
       "  <use xlink:href=\"#glyph0-7\" x=\"333.078125\" y=\"56.753906\"/>\n",
       "</g>\n",
       "<g style=\"fill:rgb(0%,0%,0%);fill-opacity:1;\">\n",
       "  <use xlink:href=\"#glyph0-6\" x=\"230.488281\" y=\"166.289062\"/>\n",
       "</g>\n",
       "</g>\n",
       "</svg>\n"
      ],
      "text/plain": [
       "<igraph.drawing.Plot at 0x7f1d5b936520>"
      ]
     },
     "execution_count": 23,
     "metadata": {
      "image/svg+xml": {
       "isolated": true
      }
     },
     "output_type": "execute_result"
    }
   ],
   "source": [
    "state_mapping = set_observation_as_rooms_idx(ours_v3_3.agent_state_mapping, rooms)\n",
    "# obs = [value['ob'] for key, value in agent_state_mapping.items()]\n",
    "\n",
    "graph = plot_graph_as_cscg(ours_v3_3.agent.B, state_mapping, cmap, edge_threshold=0.1)\n",
    "graph"
   ]
  }
 ],
 "metadata": {
  "kernelspec": {
   "display_name": "ozgqn",
   "language": "python",
   "name": "python3"
  },
  "language_info": {
   "codemirror_mode": {
    "name": "ipython",
    "version": 3
   },
   "file_extension": ".py",
   "mimetype": "text/x-python",
   "name": "python",
   "nbconvert_exporter": "python",
   "pygments_lexer": "ipython3",
   "version": "3.8.16"
  }
 },
 "nbformat": 4,
 "nbformat_minor": 2
}
